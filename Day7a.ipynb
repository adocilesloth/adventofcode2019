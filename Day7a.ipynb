{
 "cells": [
  {
   "cell_type": "code",
   "execution_count": 1,
   "metadata": {},
   "outputs": [],
   "source": [
    "import numpy as np\n",
    "from itertools import permutations\n",
    "from intcode_computer import intcode_computer"
   ]
  },
  {
   "cell_type": "code",
   "execution_count": 2,
   "metadata": {},
   "outputs": [
    {
     "name": "stdout",
     "output_type": "stream",
     "text": [
      "Day 2, Part 1 solution: 3850704\n",
      "Day 2, Part 2 solution: 6718\n"
     ]
    }
   ],
   "source": [
    "#Day 2\n",
    "cpu = intcode_computer(2) #Load program\n",
    "cpu.edit_memory([1,2], [12,2])\n",
    "cpu.run_program() #Run program\n",
    "print('Day 2, Part 1 solution:', cpu.get_memory(0))\n",
    "\n",
    "#Want to achieve target value as output\n",
    "#Brute force through all allowed noun and verbs\n",
    "target = 19690720\n",
    "for noun in range(0, 100):\n",
    "    for verb in range(0, 100):\n",
    "        cpu.reset_memory()\n",
    "        cpu.edit_memory([1,2],[noun,verb])\n",
    "        cpu.run_program()\n",
    "        result = cpu.get_memory(0)\n",
    "        \n",
    "        if result == target:\n",
    "            print('Day 2, Part 2 solution:', 100 * noun + verb)"
   ]
  },
  {
   "cell_type": "code",
   "execution_count": 3,
   "metadata": {},
   "outputs": [
    {
     "name": "stdout",
     "output_type": "stream",
     "text": [
      "Day 5, Part 1\n",
      "Input: 1\n",
      "Output: 0\n",
      "Output: 0\n",
      "Output: 0\n",
      "Output: 0\n",
      "Output: 0\n",
      "Output: 0\n",
      "Output: 0\n",
      "Output: 0\n",
      "Output: 0\n",
      "Output: 7839346\n",
      "\n",
      "Day 5, Part 2\n",
      "Input: 5\n",
      "Output: 447803\n",
      "\n"
     ]
    }
   ],
   "source": [
    "#Day 5\n",
    "print('Day 5, Part 1')\n",
    "cpu.load_program(5)\n",
    "cpu.run_program(1)\n",
    "print()\n",
    "\n",
    "print('Day 5, Part 2')\n",
    "cpu.reset_memory()\n",
    "cpu.run_program(5)\n",
    "print()"
   ]
  },
  {
   "cell_type": "code",
   "execution_count": 4,
   "metadata": {},
   "outputs": [
    {
     "name": "stdout",
     "output_type": "stream",
     "text": [
      "Day 7, Part 1 Solution: 99376\n",
      "Day 7, Part 2 Solution: 8754464\n"
     ]
    }
   ],
   "source": [
    "#Day 7\n",
    "amp = [intcode_computer(7), intcode_computer(7), intcode_computer(7), intcode_computer(7), intcode_computer(7)]\n",
    "\n",
    "phases = permutations([0,1,2,3,4], 5)\n",
    "max_out = 0\n",
    "for phase in phases:\n",
    "    in_signal = 0\n",
    "    for i in range(0, len(phase)):\n",
    "        amp[i].reset_memory()\n",
    "        out_signal = amp[i].run_program([phase[i], in_signal], verbose=False)\n",
    "        in_signal = out_signal[0]\n",
    "    if in_signal > max_out:\n",
    "        max_out = in_signal\n",
    "\n",
    "print('Day 7, Part 1 Solution:', max_out)\n",
    "\n",
    "phases = permutations([5,6,7,8,9], 5)\n",
    "\n",
    "max_out  = 0\n",
    "for phase in phases:\n",
    "    in_signal = 0\n",
    "    #Init\n",
    "    for i  in  range(0, len(phase)):\n",
    "        amp[i].reset_memory()\n",
    "        out_signal = amp[i].run_program([phase[i], in_signal], pause_on_out=True, verbose=False)\n",
    "        in_signal = out_signal[0]\n",
    "\n",
    "    #Feed back\n",
    "    while True:\n",
    "        for i in range(0, len(phase)):\n",
    "            out_signal = amp[i].run_program(in_signal, pause_on_out=True, verbose=False)\n",
    "            if amp[i].get_complete():\n",
    "                break\n",
    "            in_signal = out_signal[0]\n",
    "        if amp[i].get_complete():\n",
    "            break\n",
    "    \n",
    "    if in_signal > max_out:\n",
    "        max_out = in_signal\n",
    "        \n",
    "print('Day 7, Part 2 Solution:', max_out)"
   ]
  },
  {
   "cell_type": "code",
   "execution_count": null,
   "metadata": {},
   "outputs": [],
   "source": []
  }
 ],
 "metadata": {
  "kernelspec": {
   "display_name": "Python 3",
   "language": "python",
   "name": "python3"
  },
  "language_info": {
   "codemirror_mode": {
    "name": "ipython",
    "version": 3
   },
   "file_extension": ".py",
   "mimetype": "text/x-python",
   "name": "python",
   "nbconvert_exporter": "python",
   "pygments_lexer": "ipython3",
   "version": "3.6.4"
  }
 },
 "nbformat": 4,
 "nbformat_minor": 2
}

{
 "cells": [
  {
   "cell_type": "code",
   "execution_count": 1,
   "metadata": {},
   "outputs": [],
   "source": [
    "import numpy as np\n",
    "import matplotlib.pyplot as plt\n",
    "%matplotlib inline"
   ]
  },
  {
   "cell_type": "code",
   "execution_count": 2,
   "metadata": {},
   "outputs": [],
   "source": [
    "#Open file\n",
    "file = open('day8_input.txt', 'r')\n",
    "raw_data  = file.read()\n",
    "raw_data = raw_data[:-1] #strip training \\n\n",
    "#Convert to array of int\n",
    "data = []\n",
    "for i in raw_data:\n",
    "    data.append(int(i))\n",
    "data = np.array(data)"
   ]
  },
  {
   "cell_type": "code",
   "execution_count": 3,
   "metadata": {},
   "outputs": [],
   "source": [
    "#Split into layers\n",
    "#Don't care about shape right now so just split to n arrays of len width*height\n",
    "width = 25\n",
    "height = 6\n",
    "layer_size = width * height\n",
    "num_layers  = int(len(data) / (layer_size))\n",
    "shape = [num_layers, layer_size]\n",
    "\n",
    "data = np.reshape(data, shape)"
   ]
  },
  {
   "cell_type": "code",
   "execution_count": 4,
   "metadata": {},
   "outputs": [],
   "source": [
    "#Count zeros\n",
    "#Save layer is smallest number of zeros\n",
    "zeros = [layer_size, -1]\n",
    "for i in range(0, len(data)):\n",
    "    layer_zeros = len(np.where(data[i]==0)[0])\n",
    "    if layer_zeros < zeros[0]:\n",
    "        zeros[0] = layer_zeros\n",
    "        zeros[1] = i"
   ]
  },
  {
   "cell_type": "code",
   "execution_count": 5,
   "metadata": {},
   "outputs": [
    {
     "name": "stdout",
     "output_type": "stream",
     "text": [
      "Part 1 Solution: 1548\n"
     ]
    }
   ],
   "source": [
    "#Calculate number of 1s and 2s and multiply the result\n",
    "ones = len(np.where(data[zeros[1]]==1)[0])\n",
    "twos = len(np.where(data[zeros[1]]==2)[0])\n",
    "print('Part 1 Solution:', ones*twos)"
   ]
  },
  {
   "cell_type": "code",
   "execution_count": 6,
   "metadata": {},
   "outputs": [
    {
     "name": "stdout",
     "output_type": "stream",
     "text": [
      "[[0 1 1 0 0 1 1 1 1 0 1 0 0 1 0 1 0 0 1 0 0 1 1 0 0]\n",
      " [1 0 0 1 0 1 0 0 0 0 1 0 1 0 0 1 0 0 1 0 1 0 0 1 0]\n",
      " [1 0 0 0 0 1 1 1 0 0 1 1 0 0 0 1 0 0 1 0 1 0 0 1 0]\n",
      " [1 0 0 0 0 1 0 0 0 0 1 0 1 0 0 1 0 0 1 0 1 1 1 1 0]\n",
      " [1 0 0 1 0 1 0 0 0 0 1 0 1 0 0 1 0 0 1 0 1 0 0 1 0]\n",
      " [0 1 1 0 0 1 1 1 1 0 1 0 0 1 0 0 1 1 0 0 1 0 0 1 0]]\n"
     ]
    }
   ],
   "source": [
    "#For transparent pixes, allow the layer below to be shown\n",
    "#0 = black\n",
    "#1 = white\n",
    "#2 = tranparent\n",
    "image = np.ones(width*height, dtype=np.int) * 2\n",
    "for layer in data:\n",
    "    trans = np.where(image==2) #Get transparent pixels...\n",
    "    image[trans]=layer[trans]  #...and show layer below\n",
    "    \n",
    "#We now care about shape so reshape to width x height\n",
    "image = np.reshape(image, (height,width))\n",
    "print(image)"
   ]
  },
  {
   "cell_type": "code",
   "execution_count": 7,
   "metadata": {},
   "outputs": [
    {
     "data": {
      "image/png": "[encoded data removed]",
      "text/plain": [
       "<Figure size 432x288 with 1 Axes>"
      ]
     },
     "metadata": {},
     "output_type": "display_data"
    }
   ],
   "source": [
    "#Show image as I can't read 1 0 images very well\n",
    "plt.imshow(image)\n",
    "plt.show()"
   ]
  },
  {
   "cell_type": "code",
   "execution_count": null,
   "metadata": {},
   "outputs": [],
   "source": []
  }
 ],
 "metadata": {
  "kernelspec": {
   "display_name": "Python 3",
   "language": "python",
   "name": "python3"
  },
  "language_info": {
   "codemirror_mode": {
    "name": "ipython",
    "version": 3
   },
   "file_extension": ".py",
   "mimetype": "text/x-python",
   "name": "python",
   "nbconvert_exporter": "python",
   "pygments_lexer": "ipython3",
   "version": "3.6.4"
  }
 },
 "nbformat": 4,
 "nbformat_minor": 2
}

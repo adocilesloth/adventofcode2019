{
 "cells": [
  {
   "cell_type": "code",
   "execution_count": 1,
   "metadata": {},
   "outputs": [],
   "source": [
    "import numpy as np\n",
    "from sys import stdout"
   ]
  },
  {
   "cell_type": "code",
   "execution_count": 2,
   "metadata": {},
   "outputs": [],
   "source": [
    "data = np.genfromtxt('day16_input.txt', delimiter='\\n', dtype=np.str)\n",
    "signal = np.array(list(str(data))).astype(int)\n",
    "\n",
    "#signal = np.array([1,2,3,4,5,6,7,8])\n",
    "#signal = np.array([8,0,8,7,1,2,2,4,5,8,5,9,1,4,5,4,6,6,1,9,0,8,3,2,1,8,6,4,5,5,9,5])\n",
    "#signal = np.array([1,9,6,1,7,8,0,4,2,0,7,2,0,2,2,0,9,1,4,4,9,1,6,0,4,4,1,8,9,9,1,7])\n",
    "#signal = np.array([6,9,3,1,7,1,6,3,4,9,2,9,4,8,6,0,6,3,3,5,9,9,5,9,2,4,3,1,9,8,7,3])\n",
    "\n",
    "pattern = np.array([0, 1, 0, -1])"
   ]
  },
  {
   "cell_type": "code",
   "execution_count": 3,
   "metadata": {},
   "outputs": [
    {
     "name": "stdout",
     "output_type": "stream",
     "text": [
      "Part 1 Solution: 17978331\n"
     ]
    }
   ],
   "source": [
    "phases = 100\n",
    "start = 0\n",
    "\n",
    "phase_signal = np.zeros(len(signal), dtype=np.int)\n",
    "for i in range(0, phases):\n",
    "    for j in range(0, len(signal)):\n",
    "        #calculate result\n",
    "        phase_result = 0\n",
    "        for k in range(0, len(signal)):\n",
    "            idx = (((k+1)//(j+1))%4)\n",
    "            phase_result += signal[k]*pattern[idx]\n",
    "        #print(phase_result)\n",
    "        phase_signal[j] = abs(phase_result)%10\n",
    "        \n",
    "    signal = phase_signal\n",
    "    \n",
    "\n",
    "stdout.write('Part 1 Solution: ')\n",
    "for i in range(0, 8):\n",
    "    stdout.write(str(signal[i]))\n",
    "stdout.write('\\n')\n",
    "stdout.flush()"
   ]
  },
  {
   "cell_type": "code",
   "execution_count": 4,
   "metadata": {},
   "outputs": [],
   "source": [
    "data = np.genfromtxt('day16_input.txt', delimiter='\\n', dtype=np.str)\n",
    "signal = np.array(list(str(data))).astype(int)\n",
    "\n",
    "signal = np.array([0,3,0,3,6,7,3,2,5,7,7,2,1,2,9,4,4,0,6,3,4,9,1,5,6,5,4,7,4,6,6,4])\n",
    "#signal = np.array([0,2,9,3,5,1,0,9,6,9,9,9,4,0,8,0,7,4,0,7,5,8,5,4,4,7,0,3,4,3,2,3])\n",
    "#signal = np.array([0,3,0,8,1,7,7,0,8,8,4,9,2,1,9,5,9,7,3,1,1,6,5,4,4,6,8,5,0,5,1,7])"
   ]
  },
  {
   "cell_type": "code",
   "execution_count": null,
   "metadata": {},
   "outputs": [],
   "source": [
    "for i in range(0, 7):\n",
    "    pwr = 6-i\n",
    "    start += signal[i]*(10**pwr)\n",
    "new_signal = signal\n",
    "for i in range(0, 10000):\n",
    "    new_signal = np.hstack((new_signal, signal))\n",
    "signal = new_signal\n",
    "signal = signal[start:]\n",
    "\n",
    "phase_signal = np.zeros(len(signal), dtype=np.int)\n",
    "for i in range(0, phases):\n",
    "    for j in range(len(signal)-2, -1, -1):\n",
    "        signal[j] += signal[j+1]\n",
    "        signal[j] %= 10\n",
    "        \n",
    "stdout.write('Part 2 Solution: ')\n",
    "for i in range(0, 8):\n",
    "    stdout.write(str(signal[i]))\n",
    "stdout.write('\\n')\n",
    "stdout.flush()"
   ]
  },
  {
   "cell_type": "code",
   "execution_count": null,
   "metadata": {},
   "outputs": [],
   "source": []
  }
 ],
 "metadata": {
  "kernelspec": {
   "display_name": "Python 3",
   "language": "python",
   "name": "python3"
  },
  "language_info": {
   "codemirror_mode": {
    "name": "ipython",
    "version": 3
   },
   "file_extension": ".py",
   "mimetype": "text/x-python",
   "name": "python",
   "nbconvert_exporter": "python",
   "pygments_lexer": "ipython3",
   "version": "3.6.4"
  }
 },
 "nbformat": 4,
 "nbformat_minor": 2
}

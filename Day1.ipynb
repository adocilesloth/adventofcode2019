{
 "cells": [
  {
   "cell_type": "code",
   "execution_count": 1,
   "metadata": {},
   "outputs": [],
   "source": [
    "import numpy as np"
   ]
  },
  {
   "cell_type": "code",
   "execution_count": 2,
   "metadata": {},
   "outputs": [
    {
     "name": "stdout",
     "output_type": "stream",
     "text": [
      "100\n"
     ]
    }
   ],
   "source": [
    "masses = np.genfromtxt('day1_input.txt')\n",
    "print(len(masses))"
   ]
  },
  {
   "cell_type": "code",
   "execution_count": 3,
   "metadata": {},
   "outputs": [
    {
     "name": "stdout",
     "output_type": "stream",
     "text": [
      "Part 1 solution: 3393938.0\n"
     ]
    }
   ],
   "source": [
    "#Just do the sum is says\n",
    "fuel = (masses // 3)-2\n",
    "print('Part 1 solution:', np.sum(fuel))"
   ]
  },
  {
   "cell_type": "code",
   "execution_count": 4,
   "metadata": {},
   "outputs": [
    {
     "name": "stdout",
     "output_type": "stream",
     "text": [
      "Part 2 solution: 5088037.0\n"
     ]
    }
   ],
   "source": [
    "#Do the sum recursivly. Not elegant but works\n",
    "total_fuel = 0\n",
    "for mass in masses:\n",
    "    while True:\n",
    "        fuel = (mass//3)-2\n",
    "        if fuel > 0:\n",
    "            total_fuel += fuel\n",
    "            mass = fuel\n",
    "        else:\n",
    "            break\n",
    "print('Part 2 solution:', total_fuel)"
   ]
  },
  {
   "cell_type": "code",
   "execution_count": null,
   "metadata": {},
   "outputs": [],
   "source": []
  }
 ],
 "metadata": {
  "kernelspec": {
   "display_name": "Python 3",
   "language": "python",
   "name": "python3"
  },
  "language_info": {
   "codemirror_mode": {
    "name": "ipython",
    "version": 3
   },
   "file_extension": ".py",
   "mimetype": "text/x-python",
   "name": "python",
   "nbconvert_exporter": "python",
   "pygments_lexer": "ipython3",
   "version": "3.6.4"
  }
 },
 "nbformat": 4,
 "nbformat_minor": 2
}

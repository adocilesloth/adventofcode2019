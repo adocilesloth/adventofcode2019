{
 "cells": [
  {
   "cell_type": "code",
   "execution_count": 1,
   "metadata": {},
   "outputs": [],
   "source": [
    "import numpy as np"
   ]
  },
  {
   "cell_type": "code",
   "execution_count": 2,
   "metadata": {},
   "outputs": [],
   "source": [
    "#Need to reset memory for part 2\n",
    "def reset_memory():\n",
    "    '''Load program from file\n",
    "       and rest the 1202 error'''\n",
    "    program = np.genfromtxt('day2_input.txt', dtype=np.int, delimiter=',')\n",
    "    #Reset the error\n",
    "    program[1] = 12\n",
    "    program[2] = 2\n",
    "    return program"
   ]
  },
  {
   "cell_type": "code",
   "execution_count": 3,
   "metadata": {},
   "outputs": [],
   "source": [
    "def run_program(program):\n",
    "    '''Function to run the program\n",
    "       Steps along by 4 until 99 is reached\n",
    "       Program then stops\n",
    "       fctn: 1==+, 2==*, 99==STOP'''\n",
    "    i = 0\n",
    "    while i < len(program):\n",
    "        fctn = program[i]\n",
    "        if fctn == 1:\n",
    "            program[program[i+3]] = program[program[i+1]]+program[program[i+2]]\n",
    "            i += 4\n",
    "        elif fctn == 2:\n",
    "            program[program[i+3]] = program[program[i+1]]*program[program[i+2]]\n",
    "            i += 4\n",
    "        elif fctn == 99:\n",
    "            break\n",
    "            i += 1\n",
    "    return program"
   ]
  },
  {
   "cell_type": "code",
   "execution_count": 4,
   "metadata": {},
   "outputs": [
    {
     "name": "stdout",
     "output_type": "stream",
     "text": [
      "Part 1 solution: 3850704\n"
     ]
    }
   ],
   "source": [
    "program = reset_memory() #Load program\n",
    "program = run_program(program) #Run program\n",
    "print('Part 1 solution:', program[0])"
   ]
  },
  {
   "cell_type": "code",
   "execution_count": 5,
   "metadata": {},
   "outputs": [
    {
     "name": "stdout",
     "output_type": "stream",
     "text": [
      "Part 2 solution: 6718\n"
     ]
    }
   ],
   "source": [
    "#Want to achieve target value as output\n",
    "#Brute force through all allowed noun and verbs\n",
    "target = 19690720\n",
    "for noun in range(0, 100):\n",
    "    for verb in range(0, 100):\n",
    "        program = reset_memory()\n",
    "        program[1] = noun\n",
    "        program[2] = verb\n",
    "        program = run_program(program)\n",
    "        \n",
    "        if program[0] == target:\n",
    "            print('Part 2 solution:', 100 * noun + verb)"
   ]
  }
 ],
 "metadata": {
  "kernelspec": {
   "display_name": "Python 3",
   "language": "python",
   "name": "python3"
  },
  "language_info": {
   "codemirror_mode": {
    "name": "ipython",
    "version": 3
   },
   "file_extension": ".py",
   "mimetype": "text/x-python",
   "name": "python",
   "nbconvert_exporter": "python",
   "pygments_lexer": "ipython3",
   "version": "3.6.4"
  }
 },
 "nbformat": 4,
 "nbformat_minor": 2
}

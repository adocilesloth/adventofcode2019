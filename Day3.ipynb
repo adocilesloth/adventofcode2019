{
 "cells": [
  {
   "cell_type": "code",
   "execution_count": 1,
   "metadata": {},
   "outputs": [],
   "source": [
    "import numpy as np"
   ]
  },
  {
   "cell_type": "code",
   "execution_count": 2,
   "metadata": {},
   "outputs": [],
   "source": [
    "#Load wires\n",
    "wires = np.genfromtxt('day3_input.txt', dtype=np.str)\n",
    "wire0 = wires[0].split(',')\n",
    "for i in range(0, len(wire0)):\n",
    "    wire0[i] = [wire0[i][0], np.int(wire0[i][1:])]\n",
    "wire1 = wires[1].split(',')\n",
    "for i in range(0, len(wire1)):\n",
    "    wire1[i] = [wire1[i][0], np.int(wire1[i][1:])]"
   ]
  },
  {
   "cell_type": "code",
   "execution_count": 3,
   "metadata": {},
   "outputs": [],
   "source": [
    "def verticies(wire):\n",
    "    '''Define verticies using wire routes\n",
    "       Set:\n",
    "       Origin = [0,0]\n",
    "       U/D is +/- x\n",
    "       R/L is +/- y'''\n",
    "    vertex = [[0,0]]\n",
    "    for inst in wire:\n",
    "        x = vertex[-1][0]\n",
    "        y = vertex[-1][1]\n",
    "        if inst[0] == 'U':\n",
    "            y += inst[1]\n",
    "        elif inst[0] == 'D':\n",
    "            y -= inst[1]\n",
    "        elif inst[0] == 'R':\n",
    "            x += inst[1]\n",
    "        elif inst[0] == 'L':\n",
    "            x -= inst[1]\n",
    "        else:\n",
    "            print('FAILED:', inst[0], inst[1])\n",
    "            break\n",
    "        vertex.append([x,y])\n",
    "    return np.array(vertex)"
   ]
  },
  {
   "cell_type": "code",
   "execution_count": 4,
   "metadata": {},
   "outputs": [],
   "source": [
    "def intersect(vert0, vert1):\n",
    "    '''Find intersection of wires'''\n",
    "    intersect = []\n",
    "    manhattan = []\n",
    "    for i in range(0, len(vert0)-1):\n",
    "        for j in range(0, len(vert1)-1):\n",
    "            #If wires are parallel they cannot cross\n",
    "            if vert0[i][0] == vert0[i+1][0] and vert1[j][0] == vert1[j+1][0]:\n",
    "                #parallel in x\n",
    "                continue\n",
    "            elif vert0[i][1] == vert0[i+1][1] and vert1[j][1] == vert1[j+1][1]:\n",
    "                #parallel in y\n",
    "                continue\n",
    "                \n",
    "            #Wire 0 is lying along y. Wire 1 is lying along x\n",
    "            if ((vert1[j][0] < vert0[i][0] and vert1[j+1][0] > vert0[i][0]) or\\\n",
    "                (vert1[j][0] > vert0[i][0] and vert1[j+1][0] < vert0[i][0])) and\\\n",
    "               ((vert1[j][1] < vert0[i][1] and vert1[j][1] > vert0[i+1][1]) or\\\n",
    "                (vert1[j][1] > vert0[i][1] and vert1[j][1] < vert0[i+1][1])):\n",
    "                #between x and crosses y\n",
    "                x = vert0[i][0]\n",
    "                y = vert1[j][1]\n",
    "                \n",
    "            #Wire 0 is lying along x. Wire 1 is lying along y\n",
    "            elif ((vert1[j][1] < vert0[i][1] and vert1[j+1][1] > vert0[i][1]) or\\\n",
    "                  (vert1[j][1] > vert0[i][1] and vert1[j+1][1] < vert0[i][1])) and\\\n",
    "                 ((vert1[j][0] < vert0[i][0] and vert1[j][0] > vert0[i+1][0]) or\\\n",
    "                  (vert1[j][0] > vert0[i][0] and vert1[j][0] < vert0[i+1][0])):\n",
    "                #crosses x and between y\n",
    "                x = vert1[j][0]\n",
    "                y = vert0[i][1]\n",
    "                \n",
    "            else:\n",
    "                continue\n",
    "            \n",
    "            intersect.append([x,y])\n",
    "            manhattan.append(abs(x)+abs(y))\n",
    "    return np.array(intersect), np.array(manhattan)"
   ]
  },
  {
   "cell_type": "code",
   "execution_count": 5,
   "metadata": {},
   "outputs": [
    {
     "name": "stdout",
     "output_type": "stream",
     "text": [
      "Part 1 solution: 399\n"
     ]
    }
   ],
   "source": [
    "#Find corners of wires\n",
    "vertex0 = verticies(wire0)\n",
    "vertex1 = verticies(wire1)\n",
    "\n",
    "#Find intersection points and Manhatten distance\n",
    "cross, man = intersect(vertex0, vertex1)\n",
    "print('Part 1 solution:', np.min(man))"
   ]
  },
  {
   "cell_type": "code",
   "execution_count": 6,
   "metadata": {},
   "outputs": [],
   "source": [
    "def distance(wire, inter):\n",
    "    '''Find distance to position on wire to intersections\n",
    "       Brute force by following the wire and checking every position\n",
    "       Assumes inter are unordered\n",
    "       Set:\n",
    "       Origin = [0,0]\n",
    "       U/D is +/- x\n",
    "       R/L is +/- y'''\n",
    "    #Want blank distances, -ve so we can identify them easily\n",
    "    distances = np.ones(len(inter), dtype=np.int)\n",
    "    distances *= -1\n",
    "    x = 0\n",
    "    y = 0\n",
    "    dist = 0\n",
    "    done = len(inter)\n",
    "    \n",
    "    for inst in wire:\n",
    "        drctn_x = 0\n",
    "        drctn_y = 0\n",
    "        if inst[0] == 'U':\n",
    "            drctn_y = 1\n",
    "        elif inst[0] == 'D':\n",
    "            drctn_y = -1\n",
    "        elif inst[0] == 'R':\n",
    "            drctn_x = 1\n",
    "        elif inst[0] == 'L':\n",
    "            drctn_x = -1\n",
    "        else:\n",
    "            print('FAILED:', inst[0], inst[1])\n",
    "            break\n",
    "            \n",
    "        for i in range(0, inst[1]):\n",
    "            #Move along wire\n",
    "            x += drctn_x\n",
    "            y += drctn_y\n",
    "            dist += 1\n",
    "            \n",
    "            #Check if we match an intersection\n",
    "            x_match = np.where(inter[:,0] == x)[0]\n",
    "            if len(x_match) > 0:\n",
    "                y_match = np.where(inter[:,1] == y)[0]\n",
    "                if len(y_match) > 0:\n",
    "                    match = np.intersect1d(x_match, y_match)\n",
    "                    if len(match) > 0:\n",
    "                        #Only update distance if no distance has been found\n",
    "                        if distances[match[0]] < 0:\n",
    "                            distances[match[0]] = dist\n",
    "                            done -= 1\n",
    "            if done == 0:\n",
    "                break\n",
    "        if done == 0:\n",
    "            break\n",
    "    return distances"
   ]
  },
  {
   "cell_type": "code",
   "execution_count": 7,
   "metadata": {},
   "outputs": [
    {
     "name": "stdout",
     "output_type": "stream",
     "text": [
      "Part 2 solution: 15678\n"
     ]
    }
   ],
   "source": [
    "#Find wire distances\n",
    "dist0 = distance(wire0, cross)\n",
    "dist1 = distance(wire1, cross)\n",
    "\n",
    "dist = dist0+dist1\n",
    "print('Part 2 solution:', np.min(dist))"
   ]
  },
  {
   "cell_type": "code",
   "execution_count": null,
   "metadata": {},
   "outputs": [],
   "source": []
  }
 ],
 "metadata": {
  "kernelspec": {
   "display_name": "Python 3",
   "language": "python",
   "name": "python3"
  },
  "language_info": {
   "codemirror_mode": {
    "name": "ipython",
    "version": 3
   },
   "file_extension": ".py",
   "mimetype": "text/x-python",
   "name": "python",
   "nbconvert_exporter": "python",
   "pygments_lexer": "ipython3",
   "version": "3.6.4"
  }
 },
 "nbformat": 4,
 "nbformat_minor": 2
}

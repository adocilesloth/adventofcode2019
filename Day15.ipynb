{
 "cells": [
  {
   "cell_type": "code",
   "execution_count": 1,
   "metadata": {},
   "outputs": [],
   "source": [
    "import numpy as np\n",
    "from intcode_computer import  intcode_computer\n",
    "\n",
    "from collections import deque\n",
    "\n",
    "import matplotlib.pyplot as plt\n",
    "%matplotlib inline"
   ]
  },
  {
   "cell_type": "code",
   "execution_count": 2,
   "metadata": {},
   "outputs": [],
   "source": [
    "#Check if position is traversable\n",
    "def good_pos(graph, pos):\n",
    "    x = pos[0]\n",
    "    y = pos[1]\n",
    "    if x < 0 or x >= len(graph):\n",
    "        return False\n",
    "    if y < 0 or y >= len(graph[x]):\n",
    "        return False\n",
    "    value = graph[x][y]\n",
    "    return value != 0\n",
    "\n",
    "#Breadth-First Search\n",
    "def BFS(graph, start, end=None):\n",
    "    dx = [-1, 1]\n",
    "    dy = [-1, 1]\n",
    "    queue = deque([start])\n",
    "    dist = {start: 0}\n",
    "    \n",
    "    while len(queue):\n",
    "        cur_pos = queue.popleft()\n",
    "        cur_dist = dist[cur_pos]\n",
    "        if cur_pos == end:\n",
    "            return cur_dist\n",
    "        for i in range(0, 2):\n",
    "            nxt_dist = cur_dist + 1\n",
    "            #move in x\n",
    "            nxt_pos = (cur_pos[0]+dx[i], cur_pos[1])\n",
    "            if good_pos(graph, nxt_pos) and nxt_pos not in dist.keys():\n",
    "                queue.append(nxt_pos)\n",
    "                dist[nxt_pos] = nxt_dist\n",
    "            #move in y\n",
    "            nxt_pos = (cur_pos[0], cur_pos[1]+dy[i])\n",
    "            if good_pos(graph, nxt_pos) and nxt_pos not in dist.keys():\n",
    "                queue.append(nxt_pos)\n",
    "                dist[nxt_pos] = nxt_dist\n",
    "                \n",
    "    max_dist = 0\n",
    "    for key in dist.keys():\n",
    "        if dist[key] > max_dist:\n",
    "            max_dist = dist[key]\n",
    "    return max_dist"
   ]
  },
  {
   "cell_type": "code",
   "execution_count": 3,
   "metadata": {},
   "outputs": [],
   "source": [
    "#Map hull\n",
    "\n",
    "#input\n",
    "#1 - North\n",
    "#2 - South\n",
    "#3 - East\n",
    "#4 - West\n",
    "#output\n",
    "#0 - wall\n",
    "#1 - empty\n",
    "#2 - target\n",
    "\n",
    "cpu = intcode_computer(15)\n",
    "\n",
    "position = [0,0]\n",
    "hull = [[[0,0], 1]]\n",
    "last = 1\n",
    "dirs = [1, 3, 2, 4]\n",
    "move = 0\n",
    "oxygen = []\n",
    "\n",
    "#Wall hug left wall\n",
    "#while True:\n",
    "for i in range(0, 3170):\n",
    "    if last == 0:\n",
    "        move += 1\n",
    "        if move == 4:\n",
    "            move = 0\n",
    "    else:\n",
    "        move -= 1\n",
    "        if move == -1:\n",
    "            move = 3\n",
    "    \n",
    "    if move == 0:\n",
    "        new_position = [position[0]+1,position[1]]\n",
    "    elif move == 1:\n",
    "        new_position = [position[0],position[1]+1]\n",
    "    elif move == 2:\n",
    "        new_position = [position[0]-1,position[1]]\n",
    "    else:\n",
    "        new_position = [position[0],position[1]-1]\n",
    "    \n",
    "    last = cpu.run_program(dirs[move], pause_on_out=True, verbose=False)[0]\n",
    "\n",
    "    if [new_position, last] not in hull:\n",
    "        hull.append([new_position, last])\n",
    "    if last == 1 or last == 2:\n",
    "        position = new_position"
   ]
  },
  {
   "cell_type": "code",
   "execution_count": 4,
   "metadata": {},
   "outputs": [
    {
     "name": "stdout",
     "output_type": "stream",
     "text": [
      "Oxygen at [35, 3]\n",
      "Start at [19, 19]\n"
     ]
    }
   ],
   "source": [
    "#Reset coordinate system\n",
    "x_min = 0\n",
    "x_max = 0\n",
    "y_min = 0\n",
    "y_max = 0\n",
    "for i in range(0, len(hull)):\n",
    "    if hull[i][0][0] < x_min:\n",
    "        x_min = hull[i][0][0]\n",
    "    if hull[i][0][0] > x_max:\n",
    "        x_max = hull[i][0][0]\n",
    "    if hull[i][0][1] < y_min:\n",
    "        y_min = hull[i][0][1]\n",
    "    if hull[i][0][1] > y_max:\n",
    "        y_max = hull[i][0][1]\n",
    "\n",
    "for i in range(0, len(hull)):\n",
    "    hull[i][0][0] -= x_min\n",
    "    hull[i][0][1] -= y_min\n",
    "    if hull[i][1] == 2:\n",
    "        end = hull[i][0]\n",
    "        print('Oxygen at', end)\n",
    "\n",
    "x_max -= x_min\n",
    "y_max -= y_min\n",
    "start = [-x_min,-y_min]\n",
    "print('Start at',  start)"
   ]
  },
  {
   "cell_type": "code",
   "execution_count": 5,
   "metadata": {},
   "outputs": [
    {
     "data": {
      "image/png": "[encoded data removed]",
      "text/plain": [
       "<Figure size 432x288 with 1 Axes>"
      ]
     },
     "metadata": {},
     "output_type": "display_data"
    }
   ],
   "source": [
    "show_hull = np.ones((x_max+1, y_max+1),dtype=np.int)\n",
    "show_hull *= 128\n",
    "terrain = [255, 0, 128]\n",
    "for i in range(0, len(hull)):\n",
    "    show_hull[hull[i][0][0], hull[i][0][1]] = terrain[hull[i][1]]\n",
    "show_hull[-x_min,-y_min] = 128\n",
    "\n",
    "plt.imshow(show_hull, cmap='Greys')\n",
    "plt.show()"
   ]
  },
  {
   "cell_type": "code",
   "execution_count": 6,
   "metadata": {},
   "outputs": [
    {
     "name": "stdout",
     "output_type": "stream",
     "text": [
      "Part 1 Solution: 236\n",
      "Part 2 Solution: 368\n"
     ]
    }
   ],
   "source": [
    "#Convert hull for maze traversal\n",
    "new_hull = np.ones((x_max+1, y_max+1),dtype=np.int)\n",
    "\n",
    "for i in range(0, len(hull)):\n",
    "    new_hull[hull[i][0][0], hull[i][0][1]] = hull[i][1]\n",
    "\n",
    "#From start to end\n",
    "print('Part 1 Solution:', BFS(new_hull, tuple(start), tuple(end)))\n",
    "#From end to filled\n",
    "print('Part 2 Solution:', BFS(new_hull, tuple(end)))"
   ]
  },
  {
   "cell_type": "code",
   "execution_count": null,
   "metadata": {},
   "outputs": [],
   "source": []
  }
 ],
 "metadata": {
  "kernelspec": {
   "display_name": "Python 3",
   "language": "python",
   "name": "python3"
  },
  "language_info": {
   "codemirror_mode": {
    "name": "ipython",
    "version": 3
   },
   "file_extension": ".py",
   "mimetype": "text/x-python",
   "name": "python",
   "nbconvert_exporter": "python",
   "pygments_lexer": "ipython3",
   "version": "3.6.4"
  }
 },
 "nbformat": 4,
 "nbformat_minor": 2
}

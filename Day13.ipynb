{
 "cells": [
  {
   "cell_type": "code",
   "execution_count": 1,
   "metadata": {},
   "outputs": [],
   "source": [
    "import numpy as np\n",
    "from intcode_computer import intcode_computer\n",
    "from sys import stdin"
   ]
  },
  {
   "cell_type": "code",
   "execution_count": 2,
   "metadata": {},
   "outputs": [
    {
     "name": "stdout",
     "output_type": "stream",
     "text": [
      "Part 1 Solution: 320\n"
     ]
    }
   ],
   "source": [
    "cpu = intcode_computer(13)\n",
    "output = cpu.run_program(verbose=False)\n",
    "output = np.reshape(output, [len(output)//3,3])\n",
    "screen = np.zeros((np.max(output[:,0])+1, np.max(output[:,1])+1), dtype=np.int)\n",
    "\n",
    "for i in range(0, len(output)):\n",
    "    screen[output[i,0],output[i,1]] = output[i,2]\n",
    "    \n",
    "blocks = np.where(screen == 2)\n",
    "print('Part 1 Solution:', len(blocks[0]))"
   ]
  },
  {
   "cell_type": "code",
   "execution_count": 3,
   "metadata": {},
   "outputs": [
    {
     "name": "stdout",
     "output_type": "stream",
     "text": [
      "Part 2 Solution: 15156\n"
     ]
    }
   ],
   "source": [
    "cpu.reset_memory()\n",
    "cpu.edit_memory(0, 2)\n",
    "screen = np.zeros((len(screen), len(screen[0])), dtype=np.int)\n",
    "score = 0\n",
    "action = 0\n",
    "\n",
    "while cpu.get_complete() == False:\n",
    "    output = cpu.run_program(action, pause_on_out=True, pause_at_out=3, verbose=False)\n",
    "    if len(output) == 0:\n",
    "        print('Part 2 Solution:', score)\n",
    "        break\n",
    "        \n",
    "    if output[0] == -1 and output[1] == 0:\n",
    "        score = output[2]\n",
    "    else:\n",
    "        screen[output[0],output[1]] = output[2]\n",
    "\n",
    "    ball = np.where(screen == 4)[0]\n",
    "    padl = np.where(screen == 3)[0]\n",
    "    if len(ball) > 0 and len(padl) > 0:\n",
    "        if ball[0] > padl[0]:\n",
    "            action = 1\n",
    "        elif ball[0] < padl[0]:\n",
    "            action = -1\n",
    "        else:\n",
    "            action = 0"
   ]
  },
  {
   "cell_type": "code",
   "execution_count": null,
   "metadata": {},
   "outputs": [],
   "source": []
  }
 ],
 "metadata": {
  "kernelspec": {
   "display_name": "Python 3",
   "language": "python",
   "name": "python3"
  },
  "language_info": {
   "codemirror_mode": {
    "name": "ipython",
    "version": 3
   },
   "file_extension": ".py",
   "mimetype": "text/x-python",
   "name": "python",
   "nbconvert_exporter": "python",
   "pygments_lexer": "ipython3",
   "version": "3.6.1"
  }
 },
 "nbformat": 4,
 "nbformat_minor": 2
}

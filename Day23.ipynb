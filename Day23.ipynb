{
 "cells": [
  {
   "cell_type": "code",
   "execution_count": 1,
   "metadata": {},
   "outputs": [],
   "source": [
    "import numpy as np\n",
    "from copy import deepcopy\n",
    "from intcode_computer import intcode_computer"
   ]
  },
  {
   "cell_type": "code",
   "execution_count": 2,
   "metadata": {},
   "outputs": [],
   "source": [
    "#network setup\n",
    "nic = []\n",
    "packets = []\n",
    "NAT = []\n",
    "idol = np.zeros(50, dtype=np.int)\n",
    "for i in range(0, 50):\n",
    "    nic.append(intcode_computer(23))\n",
    "    packets.append([])\n",
    "    output = nic[i].run_program(i, pause_on_out=True, pause_at_out=3,\n",
    "                                   pause_on_in=True, pause_at_in=2, verbose=False)\n",
    "    if len(output) > 0:\n",
    "        j = output[0]\n",
    "        packets[j].append([output[1], output[2]])\n",
    "        \n",
    "for i in range(0, 50):\n",
    "    if len(packets[i]) == 0:\n",
    "        packets[i].append(-1)"
   ]
  },
  {
   "cell_type": "code",
   "execution_count": 3,
   "metadata": {},
   "outputs": [
    {
     "name": "stdout",
     "output_type": "stream",
     "text": [
      "Part 1 Solution: 23213\n",
      "Part 2 Solution: 17874\n"
     ]
    }
   ],
   "source": [
    "run = True\n",
    "nw_idol = 0\n",
    "NAT_Y = None\n",
    "P1 = True\n",
    "\n",
    "while run:\n",
    "    for i in range(0, 50):\n",
    "        #Get next input\n",
    "        inpt = packets[i][0]\n",
    "        packets[i].pop(0)\n",
    "        \n",
    "        #Send to nic and pause on next packet request\n",
    "        output = nic[i].run_program(inpt, pause_on_in=True, verbose=False)\n",
    "        \n",
    "        #Check output and add packets to relavent input queues\n",
    "        if len(output) > 0:\n",
    "            for j in range(0, len(output), 3):\n",
    "                k = output[j]                \n",
    "                pkt = [output[j+1], output[j+2]]\n",
    "                \n",
    "                if k == 255:\n",
    "                    if P1:\n",
    "                        print('Part 1 Solution:', pkt[1])\n",
    "                        P1 = False\n",
    "                    NAT = deepcopy(pkt)\n",
    "                else:\n",
    "                    packets[k].append(pkt)\n",
    "                \n",
    "        if run == False:\n",
    "            break\n",
    "        \n",
    "    #Check if nic have packets waiting\n",
    "    for i in range(0, 50):\n",
    "        if len(packets[i]) == 0:\n",
    "            idol[i] = 1\n",
    "            packets[i].append(-1)\n",
    "        else:\n",
    "            idol[i] = 0\n",
    "        \n",
    "    #If all nic have no input\n",
    "    if np.sum(idol) == 50:\n",
    "        nw_idol += 1\n",
    "    else:\n",
    "        nw_idol = 0\n",
    "    #If all nic have had no input two cycles in a row\n",
    "    if nw_idol == 2:\n",
    "        #Send values from NAT to nic 0\n",
    "        packets[0] = [NAT]\n",
    "        if NAT_Y == NAT[1]:\n",
    "            print('Part 2 Solution:', NAT_Y)\n",
    "            run = False\n",
    "        else:\n",
    "            NAT_Y = deepcopy(NAT[1])"
   ]
  },
  {
   "cell_type": "code",
   "execution_count": null,
   "metadata": {},
   "outputs": [],
   "source": []
  }
 ],
 "metadata": {
  "kernelspec": {
   "display_name": "Python 3",
   "language": "python",
   "name": "python3"
  },
  "language_info": {
   "codemirror_mode": {
    "name": "ipython",
    "version": 3
   },
   "file_extension": ".py",
   "mimetype": "text/x-python",
   "name": "python",
   "nbconvert_exporter": "python",
   "pygments_lexer": "ipython3",
   "version": "3.6.1"
  }
 },
 "nbformat": 4,
 "nbformat_minor": 2
}

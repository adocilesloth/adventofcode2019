{
 "cells": [
  {
   "cell_type": "code",
   "execution_count": 1,
   "metadata": {},
   "outputs": [],
   "source": [
    "import numpy as np"
   ]
  },
  {
   "cell_type": "code",
   "execution_count": 2,
   "metadata": {},
   "outputs": [],
   "source": [
    "def new_stack(deck):\n",
    "    return np.flip(deck)\n",
    "\n",
    "def cut(deck, N):\n",
    "    return np.roll(deck, -1*N)\n",
    "    \n",
    "def increment(deck, N):\n",
    "    new_deck = np.empty(len(deck), dtype=np.int)\n",
    "    for i in range(0, len(deck)):\n",
    "        j = (i*N)%len(deck)\n",
    "        new_deck[j] = deck[i]\n",
    "    return new_deck\n",
    "\n",
    "def deal_new_stack(offset, increment, MOD):\n",
    "    increment *= -1\n",
    "    increment %= MOD\n",
    "    offset += increment\n",
    "    offset %= MOD\n",
    "    return offset, increment\n",
    "\n",
    "def deal_cut(offset, increment, N, MOD):\n",
    "    offset += increment * N\n",
    "    offset %= MOD\n",
    "    return offset, increment\n",
    "    \n",
    "def deal_increment(offset, increment, N, MOD):\n",
    "    increment *= pow(N, MOD-2, MOD)\n",
    "    increment %= MOD\n",
    "    return offset, increment"
   ]
  },
  {
   "cell_type": "code",
   "execution_count": 3,
   "metadata": {},
   "outputs": [],
   "source": [
    "shuffle = np.genfromtxt('day22_input.txt', delimiter=\"\\n\", dtype=np.str)"
   ]
  },
  {
   "cell_type": "code",
   "execution_count": 4,
   "metadata": {},
   "outputs": [
    {
     "name": "stdout",
     "output_type": "stream",
     "text": [
      "Part 1 Solution: 7614\n"
     ]
    }
   ],
   "source": [
    "deck = np.arange(0, 10007)\n",
    "for shuff in shuffle:\n",
    "    motion = shuff.split()\n",
    "    if motion[-2] == 'new':\n",
    "        deck = new_stack(deck)\n",
    "    elif motion[-2] == 'cut':\n",
    "        deck = cut(deck, int(motion[-1]))\n",
    "    elif motion[-2] == 'increment':\n",
    "        deck = increment(deck, int(motion[-1]))\n",
    "\n",
    "card = np.where(deck == 2019)[0][0]\n",
    "print('Part 1 Solution:', card)"
   ]
  },
  {
   "cell_type": "code",
   "execution_count": 5,
   "metadata": {},
   "outputs": [
    {
     "name": "stdout",
     "output_type": "stream",
     "text": [
      "Part 2 Solution: 63069809831158\n"
     ]
    }
   ],
   "source": [
    "#Definately looked up the solution for this.\n",
    "\n",
    "offset = 0\n",
    "increment = 1\n",
    "cards = 119315717514047\n",
    "num_shuff = 101741582076661\n",
    "\n",
    "for shuff in shuffle:\n",
    "    motion = shuff.split()\n",
    "    if motion[-2] == 'new':\n",
    "        offset, increment = deal_new_stack(offset, increment, cards)\n",
    "    elif motion[-2] == 'cut':\n",
    "        offset, increment = deal_cut(offset, increment, int(motion[-1]), cards)\n",
    "    elif motion[-2] == 'increment':\n",
    "        offset, increment = deal_increment(offset, increment, int(motion[-1]), cards)\n",
    "        \n",
    "inc = pow(increment, num_shuff, cards)\n",
    "off = offset * (1 - inc) * pow((1 - increment) % cards, cards-2, cards)\n",
    "off %= cards\n",
    "\n",
    "value = (off + (inc*2020))% cards\n",
    "\n",
    "print('Part 2 Solution:', value)"
   ]
  },
  {
   "cell_type": "code",
   "execution_count": null,
   "metadata": {},
   "outputs": [],
   "source": []
  }
 ],
 "metadata": {
  "kernelspec": {
   "display_name": "Python 3",
   "language": "python",
   "name": "python3"
  },
  "language_info": {
   "codemirror_mode": {
    "name": "ipython",
    "version": 3
   },
   "file_extension": ".py",
   "mimetype": "text/x-python",
   "name": "python",
   "nbconvert_exporter": "python",
   "pygments_lexer": "ipython3",
   "version": "3.6.1"
  }
 },
 "nbformat": 4,
 "nbformat_minor": 2
}

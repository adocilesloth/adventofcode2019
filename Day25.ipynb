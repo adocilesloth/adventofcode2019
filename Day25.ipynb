{
 "cells": [
  {
   "cell_type": "code",
   "execution_count": 1,
   "metadata": {},
   "outputs": [],
   "source": [
    "import numpy as np\n",
    "from intcode_computer import ascii_computer"
   ]
  },
  {
   "cell_type": "code",
   "execution_count": 2,
   "metadata": {},
   "outputs": [],
   "source": [
    "asc = ascii_computer(25)"
   ]
  },
  {
   "cell_type": "code",
   "execution_count": 3,
   "metadata": {},
   "outputs": [
    {
     "name": "stdout",
     "output_type": "stream",
     "text": [
      "\n",
      "\n",
      "\n",
      "== Hull Breach ==\n",
      "You got in through a hole in the floor here. To keep your ship from also freezing, the hole has been sealed.\n",
      "\n",
      "Doors here lead:\n",
      "- north\n",
      "- east\n",
      "- south\n",
      "\n",
      "Command?\n",
      "\n"
     ]
    }
   ],
   "source": [
    "msg, _ = asc.run_program(pause_on_in=True, verbose=False)\n",
    "print(msg)"
   ]
  },
  {
   "cell_type": "code",
   "execution_count": 4,
   "metadata": {},
   "outputs": [
    {
     "name": "stdout",
     "output_type": "stream",
     "text": [
      "\n",
      "\n",
      "\n",
      "== Arcade ==\n",
      "None of the cabinets seem to have power.\n",
      "\n",
      "Doors here lead:\n",
      "- north\n",
      "- west\n",
      "\n",
      "Items here:\n",
      "- food ration\n",
      "\n",
      "Command?\n",
      "\n"
     ]
    }
   ],
   "source": [
    "inpt = 'south\\n'\n",
    "msg, _ = asc.run_program(inpt, pause_on_in=True, pause_at_in=len(inpt)+1, verbose=False)\n",
    "print(msg)"
   ]
  },
  {
   "cell_type": "code",
   "execution_count": 5,
   "metadata": {},
   "outputs": [
    {
     "name": "stdout",
     "output_type": "stream",
     "text": [
      "\n",
      "\n",
      "\n",
      "== Warp Drive Maintenance ==\n",
      "It appears to be working normally.\n",
      "\n",
      "Doors here lead:\n",
      "- north\n",
      "- east\n",
      "\n",
      "Items here:\n",
      "- sand\n",
      "\n",
      "Command?\n",
      "\n"
     ]
    }
   ],
   "source": [
    "inpt = 'west\\n'\n",
    "msg, _ = asc.run_program(inpt, pause_on_in=True, pause_at_in=len(inpt)+1, verbose=False)\n",
    "print(msg)"
   ]
  },
  {
   "cell_type": "code",
   "execution_count": 6,
   "metadata": {},
   "outputs": [
    {
     "name": "stdout",
     "output_type": "stream",
     "text": [
      "\n",
      "\n",
      "\n",
      "== Holodeck ==\n",
      "Someone seems to have left it on the Giant Grid setting.\n",
      "\n",
      "Doors here lead:\n",
      "- north\n",
      "- south\n",
      "\n",
      "Command?\n",
      "\n"
     ]
    }
   ],
   "source": [
    "inpt = 'north\\n'\n",
    "msg, _ = asc.run_program(inpt, pause_on_in=True, pause_at_in=len(inpt)+1, verbose=False)\n",
    "print(msg)"
   ]
  },
  {
   "cell_type": "code",
   "execution_count": 7,
   "metadata": {},
   "outputs": [
    {
     "name": "stdout",
     "output_type": "stream",
     "text": [
      "\n",
      "\n",
      "\n",
      "== Kitchen ==\n",
      "Everything's freeze-dried.\n",
      "\n",
      "Doors here lead:\n",
      "- east\n",
      "- south\n",
      "\n",
      "Items here:\n",
      "- infinite loop\n",
      "\n",
      "Command?\n",
      "\n"
     ]
    }
   ],
   "source": [
    "inpt = 'north\\n'\n",
    "msg, _ = asc.run_program(inpt, pause_on_in=True, pause_at_in=len(inpt)+1, verbose=False)\n",
    "print(msg)"
   ]
  },
  {
   "cell_type": "code",
   "execution_count": 8,
   "metadata": {},
   "outputs": [
    {
     "name": "stdout",
     "output_type": "stream",
     "text": [
      "\n",
      "\n",
      "\n",
      "== Passages ==\n",
      "They're a little twisty and starting to look all alike.\n",
      "\n",
      "Doors here lead:\n",
      "- west\n",
      "\n",
      "Items here:\n",
      "- astrolabe\n",
      "\n",
      "Command?\n",
      "\n"
     ]
    }
   ],
   "source": [
    "inpt = 'east\\n'\n",
    "msg, _ = asc.run_program(inpt, pause_on_in=True, pause_at_in=len(inpt)+1, verbose=False)\n",
    "print(msg)"
   ]
  },
  {
   "cell_type": "code",
   "execution_count": 9,
   "metadata": {},
   "outputs": [
    {
     "name": "stdout",
     "output_type": "stream",
     "text": [
      "\n",
      "\n",
      "\n",
      "== Kitchen ==\n",
      "Everything's freeze-dried.\n",
      "\n",
      "Doors here lead:\n",
      "- east\n",
      "- south\n",
      "\n",
      "Items here:\n",
      "- infinite loop\n",
      "\n",
      "Command?\n",
      "\n"
     ]
    }
   ],
   "source": [
    "inpt = 'west\\n'\n",
    "msg, _ = asc.run_program(inpt, pause_on_in=True, pause_at_in=len(inpt)+1, verbose=False)\n",
    "print(msg)"
   ]
  },
  {
   "cell_type": "code",
   "execution_count": 10,
   "metadata": {},
   "outputs": [
    {
     "name": "stdout",
     "output_type": "stream",
     "text": [
      "\n",
      "\n",
      "\n",
      "== Holodeck ==\n",
      "Someone seems to have left it on the Giant Grid setting.\n",
      "\n",
      "Doors here lead:\n",
      "- north\n",
      "- south\n",
      "\n",
      "Command?\n",
      "\n"
     ]
    }
   ],
   "source": [
    "inpt = 'south\\n'\n",
    "msg, _ = asc.run_program(inpt, pause_on_in=True, pause_at_in=len(inpt)+1, verbose=False)\n",
    "print(msg)"
   ]
  },
  {
   "cell_type": "code",
   "execution_count": 11,
   "metadata": {},
   "outputs": [
    {
     "name": "stdout",
     "output_type": "stream",
     "text": [
      "\n",
      "\n",
      "\n",
      "== Warp Drive Maintenance ==\n",
      "It appears to be working normally.\n",
      "\n",
      "Doors here lead:\n",
      "- north\n",
      "- east\n",
      "\n",
      "Items here:\n",
      "- sand\n",
      "\n",
      "Command?\n",
      "\n"
     ]
    }
   ],
   "source": [
    "inpt = 'south\\n'\n",
    "msg, _ = asc.run_program(inpt, pause_on_in=True, pause_at_in=len(inpt)+1, verbose=False)\n",
    "print(msg)"
   ]
  },
  {
   "cell_type": "code",
   "execution_count": 12,
   "metadata": {},
   "outputs": [
    {
     "name": "stdout",
     "output_type": "stream",
     "text": [
      "\n",
      "\n",
      "\n",
      "== Arcade ==\n",
      "None of the cabinets seem to have power.\n",
      "\n",
      "Doors here lead:\n",
      "- north\n",
      "- west\n",
      "\n",
      "Items here:\n",
      "- food ration\n",
      "\n",
      "Command?\n",
      "\n"
     ]
    }
   ],
   "source": [
    "inpt = 'east\\n'\n",
    "msg, _ = asc.run_program(inpt, pause_on_in=True, pause_at_in=len(inpt)+1, verbose=False)\n",
    "print(msg)"
   ]
  },
  {
   "cell_type": "code",
   "execution_count": 13,
   "metadata": {},
   "outputs": [
    {
     "name": "stdout",
     "output_type": "stream",
     "text": [
      "\n",
      "\n",
      "\n",
      "== Hull Breach ==\n",
      "You got in through a hole in the floor here. To keep your ship from also freezing, the hole has been sealed.\n",
      "\n",
      "Doors here lead:\n",
      "- north\n",
      "- east\n",
      "- south\n",
      "\n",
      "Command?\n",
      "\n"
     ]
    }
   ],
   "source": [
    "inpt = 'north\\n'\n",
    "msg, _ = asc.run_program(inpt, pause_on_in=True, pause_at_in=len(inpt)+1, verbose=False)\n",
    "print(msg)"
   ]
  },
  {
   "cell_type": "code",
   "execution_count": 14,
   "metadata": {},
   "outputs": [
    {
     "name": "stdout",
     "output_type": "stream",
     "text": [
      "\n",
      "\n",
      "\n",
      "== Corridor ==\n",
      "The metal walls and the metal floor are slightly different colors. Or are they?\n",
      "\n",
      "Doors here lead:\n",
      "- east\n",
      "- south\n",
      "- west\n",
      "\n",
      "Items here:\n",
      "- cake\n",
      "\n",
      "Command?\n",
      "\n"
     ]
    }
   ],
   "source": [
    "inpt = 'east\\n'\n",
    "msg, _ = asc.run_program(inpt, pause_on_in=True, pause_at_in=len(inpt)+1, verbose=False)\n",
    "print(msg)"
   ]
  },
  {
   "cell_type": "code",
   "execution_count": 15,
   "metadata": {},
   "outputs": [
    {
     "name": "stdout",
     "output_type": "stream",
     "text": [
      "\n",
      "\n",
      "\n",
      "== Gift Wrapping Center ==\n",
      "How else do you wrap presents on the go?\n",
      "\n",
      "Doors here lead:\n",
      "- east\n",
      "- west\n",
      "\n",
      "Items here:\n",
      "- photons\n",
      "\n",
      "Command?\n",
      "\n"
     ]
    }
   ],
   "source": [
    "inpt = 'east\\n'\n",
    "msg, _ = asc.run_program(inpt, pause_on_in=True, pause_at_in=len(inpt)+1, verbose=False)\n",
    "print(msg)"
   ]
  },
  {
   "cell_type": "code",
   "execution_count": 16,
   "metadata": {},
   "outputs": [
    {
     "name": "stdout",
     "output_type": "stream",
     "text": [
      "\n",
      "\n",
      "\n",
      "== Observatory ==\n",
      "There are a few telescopes; they're all bolted down, though.\n",
      "\n",
      "Doors here lead:\n",
      "- east\n",
      "- west\n",
      "\n",
      "Items here:\n",
      "- giant electromagnet\n",
      "\n",
      "Command?\n",
      "\n"
     ]
    }
   ],
   "source": [
    "inpt = 'east\\n'\n",
    "msg, _ = asc.run_program(inpt, pause_on_in=True, pause_at_in=len(inpt)+1, verbose=False)\n",
    "print(msg)"
   ]
  },
  {
   "cell_type": "code",
   "execution_count": 17,
   "metadata": {},
   "outputs": [
    {
     "name": "stdout",
     "output_type": "stream",
     "text": [
      "\n",
      "\n",
      "\n",
      "== Security Checkpoint ==\n",
      "In the next room, a pressure-sensitive floor will verify your identity.\n",
      "\n",
      "Doors here lead:\n",
      "- south\n",
      "- west\n",
      "\n",
      "Command?\n",
      "\n"
     ]
    }
   ],
   "source": [
    "inpt = 'east\\n'\n",
    "msg, _ = asc.run_program(inpt, pause_on_in=True, pause_at_in=len(inpt)+1, verbose=False)\n",
    "print(msg)"
   ]
  },
  {
   "cell_type": "code",
   "execution_count": 18,
   "metadata": {},
   "outputs": [
    {
     "name": "stdout",
     "output_type": "stream",
     "text": [
      "\n",
      "\n",
      "\n",
      "== Observatory ==\n",
      "There are a few telescopes; they're all bolted down, though.\n",
      "\n",
      "Doors here lead:\n",
      "- east\n",
      "- west\n",
      "\n",
      "Items here:\n",
      "- giant electromagnet\n",
      "\n",
      "Command?\n",
      "\n"
     ]
    }
   ],
   "source": [
    "inpt = 'west\\n'\n",
    "msg, _ = asc.run_program(inpt, pause_on_in=True, pause_at_in=len(inpt)+1, verbose=False)\n",
    "print(msg)"
   ]
  },
  {
   "cell_type": "code",
   "execution_count": 19,
   "metadata": {},
   "outputs": [
    {
     "name": "stdout",
     "output_type": "stream",
     "text": [
      "\n",
      "\n",
      "\n",
      "== Gift Wrapping Center ==\n",
      "How else do you wrap presents on the go?\n",
      "\n",
      "Doors here lead:\n",
      "- east\n",
      "- west\n",
      "\n",
      "Items here:\n",
      "- photons\n",
      "\n",
      "Command?\n",
      "\n"
     ]
    }
   ],
   "source": [
    "inpt = 'west\\n'\n",
    "msg, _ = asc.run_program(inpt, pause_on_in=True, pause_at_in=len(inpt)+1, verbose=False)\n",
    "print(msg)"
   ]
  },
  {
   "cell_type": "code",
   "execution_count": 20,
   "metadata": {},
   "outputs": [
    {
     "name": "stdout",
     "output_type": "stream",
     "text": [
      "\n",
      "\n",
      "\n",
      "== Corridor ==\n",
      "The metal walls and the metal floor are slightly different colors. Or are they?\n",
      "\n",
      "Doors here lead:\n",
      "- east\n",
      "- south\n",
      "- west\n",
      "\n",
      "Items here:\n",
      "- cake\n",
      "\n",
      "Command?\n",
      "\n"
     ]
    }
   ],
   "source": [
    "inpt = 'west\\n'\n",
    "msg, _ = asc.run_program(inpt, pause_on_in=True, pause_at_in=len(inpt)+1, verbose=False)\n",
    "print(msg)"
   ]
  },
  {
   "cell_type": "code",
   "execution_count": 21,
   "metadata": {},
   "outputs": [
    {
     "name": "stdout",
     "output_type": "stream",
     "text": [
      "\n",
      "You take the cake.\n",
      "\n",
      "Command?\n",
      "\n"
     ]
    }
   ],
   "source": [
    "inpt = 'take cake\\n'\n",
    "msg, _ = asc.run_program(inpt, pause_on_in=True, pause_at_in=len(inpt)+1, verbose=False)\n",
    "print(msg)"
   ]
  },
  {
   "cell_type": "code",
   "execution_count": 22,
   "metadata": {},
   "outputs": [
    {
     "name": "stdout",
     "output_type": "stream",
     "text": [
      "\n",
      "\n",
      "\n",
      "== Gift Wrapping Center ==\n",
      "How else do you wrap presents on the go?\n",
      "\n",
      "Doors here lead:\n",
      "- east\n",
      "- west\n",
      "\n",
      "Items here:\n",
      "- photons\n",
      "\n",
      "Command?\n",
      "\n"
     ]
    }
   ],
   "source": [
    "inpt = 'east\\n'\n",
    "msg, _ = asc.run_program(inpt, pause_on_in=True, pause_at_in=len(inpt)+1, verbose=False)\n",
    "print(msg)"
   ]
  },
  {
   "cell_type": "code",
   "execution_count": 23,
   "metadata": {},
   "outputs": [
    {
     "name": "stdout",
     "output_type": "stream",
     "text": [
      "\n",
      "\n",
      "\n",
      "== Observatory ==\n",
      "There are a few telescopes; they're all bolted down, though.\n",
      "\n",
      "Doors here lead:\n",
      "- east\n",
      "- west\n",
      "\n",
      "Items here:\n",
      "- giant electromagnet\n",
      "\n",
      "Command?\n",
      "\n"
     ]
    }
   ],
   "source": [
    "inpt = 'east\\n'\n",
    "msg, _ = asc.run_program(inpt, pause_on_in=True, pause_at_in=len(inpt)+1, verbose=False)\n",
    "print(msg)"
   ]
  },
  {
   "cell_type": "code",
   "execution_count": 24,
   "metadata": {},
   "outputs": [
    {
     "name": "stdout",
     "output_type": "stream",
     "text": [
      "\n",
      "\n",
      "\n",
      "== Security Checkpoint ==\n",
      "In the next room, a pressure-sensitive floor will verify your identity.\n",
      "\n",
      "Doors here lead:\n",
      "- south\n",
      "- west\n",
      "\n",
      "Command?\n",
      "\n"
     ]
    }
   ],
   "source": [
    "inpt = 'east\\n'\n",
    "msg, _ = asc.run_program(inpt, pause_on_in=True, pause_at_in=len(inpt)+1, verbose=False)\n",
    "print(msg)"
   ]
  },
  {
   "cell_type": "code",
   "execution_count": 25,
   "metadata": {},
   "outputs": [
    {
     "name": "stdout",
     "output_type": "stream",
     "text": [
      "\n",
      "\n",
      "\n",
      "== Pressure-Sensitive Floor ==\n",
      "Analyzing...\n",
      "\n",
      "Doors here lead:\n",
      "- north\n",
      "\n",
      "A loud, robotic voice says \"Alert! Droids on this ship are lighter than the detected value!\" and you are ejected back to the checkpoint.\n",
      "\n",
      "\n",
      "\n",
      "== Security Checkpoint ==\n",
      "In the next room, a pressure-sensitive floor will verify your identity.\n",
      "\n",
      "Doors here lead:\n",
      "- south\n",
      "- west\n",
      "\n",
      "Command?\n",
      "\n"
     ]
    }
   ],
   "source": [
    "inpt = 'south\\n'\n",
    "msg, _ = asc.run_program(inpt, pause_on_in=True, pause_at_in=len(inpt)+1, verbose=False)\n",
    "print(msg)"
   ]
  },
  {
   "cell_type": "code",
   "execution_count": 26,
   "metadata": {},
   "outputs": [
    {
     "name": "stdout",
     "output_type": "stream",
     "text": [
      "\n",
      "You drop the cake.\n",
      "\n",
      "Command?\n",
      "\n"
     ]
    }
   ],
   "source": [
    "inpt = 'drop cake\\n'\n",
    "msg, _ = asc.run_program(inpt, pause_on_in=True, pause_at_in=len(inpt)+1, verbose=False)\n",
    "print(msg)"
   ]
  },
  {
   "cell_type": "code",
   "execution_count": 27,
   "metadata": {},
   "outputs": [
    {
     "name": "stdout",
     "output_type": "stream",
     "text": [
      "\n",
      "\n",
      "\n",
      "== Pressure-Sensitive Floor ==\n",
      "Analyzing...\n",
      "\n",
      "Doors here lead:\n",
      "- north\n",
      "\n",
      "A loud, robotic voice says \"Alert! Droids on this ship are heavier than the detected value!\" and you are ejected back to the checkpoint.\n",
      "\n",
      "\n",
      "\n",
      "== Security Checkpoint ==\n",
      "In the next room, a pressure-sensitive floor will verify your identity.\n",
      "\n",
      "Doors here lead:\n",
      "- south\n",
      "- west\n",
      "\n",
      "Items here:\n",
      "- cake\n",
      "\n",
      "Command?\n",
      "\n"
     ]
    }
   ],
   "source": [
    "inpt = 'south\\n'\n",
    "msg, _ = asc.run_program(inpt, pause_on_in=True, pause_at_in=len(inpt)+1, verbose=False)\n",
    "print(msg)"
   ]
  },
  {
   "cell_type": "code",
   "execution_count": 28,
   "metadata": {},
   "outputs": [
    {
     "name": "stdout",
     "output_type": "stream",
     "text": [
      "\n",
      "\n",
      "\n",
      "== Observatory ==\n",
      "There are a few telescopes; they're all bolted down, though.\n",
      "\n",
      "Doors here lead:\n",
      "- east\n",
      "- west\n",
      "\n",
      "Items here:\n",
      "- giant electromagnet\n",
      "\n",
      "Command?\n",
      "\n"
     ]
    }
   ],
   "source": [
    "inpt = 'west\\n'\n",
    "msg, _ = asc.run_program(inpt, pause_on_in=True, pause_at_in=len(inpt)+1, verbose=False)\n",
    "print(msg)"
   ]
  },
  {
   "cell_type": "code",
   "execution_count": 29,
   "metadata": {},
   "outputs": [
    {
     "name": "stdout",
     "output_type": "stream",
     "text": [
      "\n",
      "\n",
      "\n",
      "== Gift Wrapping Center ==\n",
      "How else do you wrap presents on the go?\n",
      "\n",
      "Doors here lead:\n",
      "- east\n",
      "- west\n",
      "\n",
      "Items here:\n",
      "- photons\n",
      "\n",
      "Command?\n",
      "\n"
     ]
    }
   ],
   "source": [
    "inpt = 'west\\n'\n",
    "msg, _ = asc.run_program(inpt, pause_on_in=True, pause_at_in=len(inpt)+1, verbose=False)\n",
    "print(msg)"
   ]
  },
  {
   "cell_type": "code",
   "execution_count": 30,
   "metadata": {},
   "outputs": [
    {
     "name": "stdout",
     "output_type": "stream",
     "text": [
      "\n",
      "\n",
      "\n",
      "== Corridor ==\n",
      "The metal walls and the metal floor are slightly different colors. Or are they?\n",
      "\n",
      "Doors here lead:\n",
      "- east\n",
      "- south\n",
      "- west\n",
      "\n",
      "Command?\n",
      "\n"
     ]
    }
   ],
   "source": [
    "inpt = 'west\\n'\n",
    "msg, _ = asc.run_program(inpt, pause_on_in=True, pause_at_in=len(inpt)+1, verbose=False)\n",
    "print(msg)"
   ]
  },
  {
   "cell_type": "code",
   "execution_count": 31,
   "metadata": {},
   "outputs": [
    {
     "name": "stdout",
     "output_type": "stream",
     "text": [
      "\n",
      "\n",
      "\n",
      "== Hull Breach ==\n",
      "You got in through a hole in the floor here. To keep your ship from also freezing, the hole has been sealed.\n",
      "\n",
      "Doors here lead:\n",
      "- north\n",
      "- east\n",
      "- south\n",
      "\n",
      "Command?\n",
      "\n"
     ]
    }
   ],
   "source": [
    "inpt = 'west\\n'\n",
    "msg, _ = asc.run_program(inpt, pause_on_in=True, pause_at_in=len(inpt)+1, verbose=False)\n",
    "print(msg)"
   ]
  },
  {
   "cell_type": "code",
   "execution_count": 32,
   "metadata": {},
   "outputs": [
    {
     "name": "stdout",
     "output_type": "stream",
     "text": [
      "\n",
      "\n",
      "\n",
      "== Engineering ==\n",
      "You see a whiteboard with plans for Springdroid v2.\n",
      "\n",
      "Doors here lead:\n",
      "- east\n",
      "- south\n",
      "- west\n",
      "\n",
      "Items here:\n",
      "- escape pod\n",
      "\n",
      "Command?\n",
      "\n"
     ]
    }
   ],
   "source": [
    "inpt = 'north\\n'\n",
    "msg, _ = asc.run_program(inpt, pause_on_in=True, pause_at_in=len(inpt)+1, verbose=False)\n",
    "print(msg)"
   ]
  },
  {
   "cell_type": "code",
   "execution_count": 33,
   "metadata": {},
   "outputs": [
    {
     "name": "stdout",
     "output_type": "stream",
     "text": [
      "\n",
      "\n",
      "\n",
      "== Navigation ==\n",
      "Status: Stranded. Please supply measurements from fifty stars to recalibrate.\n",
      "\n",
      "Doors here lead:\n",
      "- east\n",
      "- west\n",
      "\n",
      "Items here:\n",
      "- coin\n",
      "\n",
      "Command?\n",
      "\n"
     ]
    }
   ],
   "source": [
    "inpt = 'east\\n'\n",
    "msg, _ = asc.run_program(inpt, pause_on_in=True, pause_at_in=len(inpt)+1, verbose=False)\n",
    "print(msg)"
   ]
  },
  {
   "cell_type": "code",
   "execution_count": 34,
   "metadata": {},
   "outputs": [
    {
     "name": "stdout",
     "output_type": "stream",
     "text": [
      "\n",
      "You take the coin.\n",
      "\n",
      "Command?\n",
      "\n"
     ]
    }
   ],
   "source": [
    "inpt = 'take coin\\n'\n",
    "msg, _ = asc.run_program(inpt, pause_on_in=True, pause_at_in=len(inpt)+1, verbose=False)\n",
    "print(msg)"
   ]
  },
  {
   "cell_type": "code",
   "execution_count": 35,
   "metadata": {},
   "outputs": [
    {
     "name": "stdout",
     "output_type": "stream",
     "text": [
      "\n",
      "\n",
      "\n",
      "== Engineering ==\n",
      "You see a whiteboard with plans for Springdroid v2.\n",
      "\n",
      "Doors here lead:\n",
      "- east\n",
      "- south\n",
      "- west\n",
      "\n",
      "Items here:\n",
      "- escape pod\n",
      "\n",
      "Command?\n",
      "\n"
     ]
    }
   ],
   "source": [
    "inpt = 'west\\n'\n",
    "msg, _ = asc.run_program(inpt, pause_on_in=True, pause_at_in=len(inpt)+1, verbose=False)\n",
    "print(msg)"
   ]
  },
  {
   "cell_type": "code",
   "execution_count": 36,
   "metadata": {},
   "outputs": [
    {
     "name": "stdout",
     "output_type": "stream",
     "text": [
      "\n",
      "\n",
      "\n",
      "== Hull Breach ==\n",
      "You got in through a hole in the floor here. To keep your ship from also freezing, the hole has been sealed.\n",
      "\n",
      "Doors here lead:\n",
      "- north\n",
      "- east\n",
      "- south\n",
      "\n",
      "Command?\n",
      "\n"
     ]
    }
   ],
   "source": [
    "inpt = 'south\\n'\n",
    "msg, _ = asc.run_program(inpt, pause_on_in=True, pause_at_in=len(inpt)+1, verbose=False)\n",
    "print(msg)"
   ]
  },
  {
   "cell_type": "code",
   "execution_count": 37,
   "metadata": {},
   "outputs": [
    {
     "name": "stdout",
     "output_type": "stream",
     "text": [
      "\n",
      "\n",
      "\n",
      "== Corridor ==\n",
      "The metal walls and the metal floor are slightly different colors. Or are they?\n",
      "\n",
      "Doors here lead:\n",
      "- east\n",
      "- south\n",
      "- west\n",
      "\n",
      "Command?\n",
      "\n"
     ]
    }
   ],
   "source": [
    "inpt = 'east\\n'\n",
    "msg, _ = asc.run_program(inpt, pause_on_in=True, pause_at_in=len(inpt)+1, verbose=False)\n",
    "print(msg)"
   ]
  },
  {
   "cell_type": "code",
   "execution_count": 38,
   "metadata": {},
   "outputs": [
    {
     "name": "stdout",
     "output_type": "stream",
     "text": [
      "\n",
      "\n",
      "\n",
      "== Gift Wrapping Center ==\n",
      "How else do you wrap presents on the go?\n",
      "\n",
      "Doors here lead:\n",
      "- east\n",
      "- west\n",
      "\n",
      "Items here:\n",
      "- photons\n",
      "\n",
      "Command?\n",
      "\n"
     ]
    }
   ],
   "source": [
    "inpt = 'east\\n'\n",
    "msg, _ = asc.run_program(inpt, pause_on_in=True, pause_at_in=len(inpt)+1, verbose=False)\n",
    "print(msg)"
   ]
  },
  {
   "cell_type": "code",
   "execution_count": 39,
   "metadata": {},
   "outputs": [
    {
     "name": "stdout",
     "output_type": "stream",
     "text": [
      "\n",
      "\n",
      "\n",
      "== Observatory ==\n",
      "There are a few telescopes; they're all bolted down, though.\n",
      "\n",
      "Doors here lead:\n",
      "- east\n",
      "- west\n",
      "\n",
      "Items here:\n",
      "- giant electromagnet\n",
      "\n",
      "Command?\n",
      "\n"
     ]
    }
   ],
   "source": [
    "inpt = 'east\\n'\n",
    "msg, _ = asc.run_program(inpt, pause_on_in=True, pause_at_in=len(inpt)+1, verbose=False)\n",
    "print(msg)"
   ]
  },
  {
   "cell_type": "code",
   "execution_count": 40,
   "metadata": {},
   "outputs": [
    {
     "name": "stdout",
     "output_type": "stream",
     "text": [
      "\n",
      "\n",
      "\n",
      "== Security Checkpoint ==\n",
      "In the next room, a pressure-sensitive floor will verify your identity.\n",
      "\n",
      "Doors here lead:\n",
      "- south\n",
      "- west\n",
      "\n",
      "Items here:\n",
      "- cake\n",
      "\n",
      "Command?\n",
      "\n"
     ]
    }
   ],
   "source": [
    "inpt = 'east\\n'\n",
    "msg, _ = asc.run_program(inpt, pause_on_in=True, pause_at_in=len(inpt)+1, verbose=False)\n",
    "print(msg)"
   ]
  },
  {
   "cell_type": "code",
   "execution_count": 41,
   "metadata": {},
   "outputs": [
    {
     "name": "stdout",
     "output_type": "stream",
     "text": [
      "\n",
      "\n",
      "\n",
      "== Pressure-Sensitive Floor ==\n",
      "Analyzing...\n",
      "\n",
      "Doors here lead:\n",
      "- north\n",
      "\n",
      "A loud, robotic voice says \"Alert! Droids on this ship are lighter than the detected value!\" and you are ejected back to the checkpoint.\n",
      "\n",
      "\n",
      "\n",
      "== Security Checkpoint ==\n",
      "In the next room, a pressure-sensitive floor will verify your identity.\n",
      "\n",
      "Doors here lead:\n",
      "- south\n",
      "- west\n",
      "\n",
      "Items here:\n",
      "- cake\n",
      "\n",
      "Command?\n",
      "\n"
     ]
    }
   ],
   "source": [
    "inpt = 'south\\n'\n",
    "msg, _ = asc.run_program(inpt, pause_on_in=True, pause_at_in=len(inpt)+1, verbose=False)\n",
    "print(msg)"
   ]
  },
  {
   "cell_type": "code",
   "execution_count": 42,
   "metadata": {},
   "outputs": [
    {
     "name": "stdout",
     "output_type": "stream",
     "text": [
      "\n",
      "You drop the coin.\n",
      "\n",
      "Command?\n",
      "\n"
     ]
    }
   ],
   "source": [
    "inpt = 'drop coin\\n'\n",
    "msg, _ = asc.run_program(inpt, pause_on_in=True, pause_at_in=len(inpt)+1, verbose=False)\n",
    "print(msg)"
   ]
  },
  {
   "cell_type": "code",
   "execution_count": 43,
   "metadata": {},
   "outputs": [
    {
     "name": "stdout",
     "output_type": "stream",
     "text": [
      "\n",
      "You aren't carrying any items.\n",
      "\n",
      "Command?\n",
      "\n"
     ]
    }
   ],
   "source": [
    "inpt = 'inv\\n'\n",
    "msg, _ = asc.run_program(inpt, pause_on_in=True, pause_at_in=len(inpt)+1, verbose=False)\n",
    "print(msg)"
   ]
  },
  {
   "cell_type": "code",
   "execution_count": 44,
   "metadata": {},
   "outputs": [
    {
     "name": "stdout",
     "output_type": "stream",
     "text": [
      "\n",
      "\n",
      "\n",
      "== Observatory ==\n",
      "There are a few telescopes; they're all bolted down, though.\n",
      "\n",
      "Doors here lead:\n",
      "- east\n",
      "- west\n",
      "\n",
      "Items here:\n",
      "- giant electromagnet\n",
      "\n",
      "Command?\n",
      "\n"
     ]
    }
   ],
   "source": [
    "inpt = 'west\\n'\n",
    "msg, _ = asc.run_program(inpt, pause_on_in=True, pause_at_in=len(inpt)+1, verbose=False)\n",
    "print(msg)"
   ]
  },
  {
   "cell_type": "code",
   "execution_count": 45,
   "metadata": {},
   "outputs": [
    {
     "name": "stdout",
     "output_type": "stream",
     "text": [
      "\n",
      "\n",
      "\n",
      "== Gift Wrapping Center ==\n",
      "How else do you wrap presents on the go?\n",
      "\n",
      "Doors here lead:\n",
      "- east\n",
      "- west\n",
      "\n",
      "Items here:\n",
      "- photons\n",
      "\n",
      "Command?\n",
      "\n"
     ]
    }
   ],
   "source": [
    "inpt = 'west\\n'\n",
    "msg, _ = asc.run_program(inpt, pause_on_in=True, pause_at_in=len(inpt)+1, verbose=False)\n",
    "print(msg)"
   ]
  },
  {
   "cell_type": "code",
   "execution_count": 46,
   "metadata": {},
   "outputs": [
    {
     "name": "stdout",
     "output_type": "stream",
     "text": [
      "\n",
      "\n",
      "\n",
      "== Corridor ==\n",
      "The metal walls and the metal floor are slightly different colors. Or are they?\n",
      "\n",
      "Doors here lead:\n",
      "- east\n",
      "- south\n",
      "- west\n",
      "\n",
      "Command?\n",
      "\n"
     ]
    }
   ],
   "source": [
    "inpt = 'west\\n'\n",
    "msg, _ = asc.run_program(inpt, pause_on_in=True, pause_at_in=len(inpt)+1, verbose=False)\n",
    "print(msg)"
   ]
  },
  {
   "cell_type": "code",
   "execution_count": 47,
   "metadata": {},
   "outputs": [
    {
     "name": "stdout",
     "output_type": "stream",
     "text": [
      "\n",
      "\n",
      "\n",
      "== Hull Breach ==\n",
      "You got in through a hole in the floor here. To keep your ship from also freezing, the hole has been sealed.\n",
      "\n",
      "Doors here lead:\n",
      "- north\n",
      "- east\n",
      "- south\n",
      "\n",
      "Command?\n",
      "\n"
     ]
    }
   ],
   "source": [
    "inpt = 'west\\n'\n",
    "msg, _ = asc.run_program(inpt, pause_on_in=True, pause_at_in=len(inpt)+1, verbose=False)\n",
    "print(msg)"
   ]
  },
  {
   "cell_type": "code",
   "execution_count": 48,
   "metadata": {},
   "outputs": [
    {
     "name": "stdout",
     "output_type": "stream",
     "text": [
      "\n",
      "\n",
      "\n",
      "== Arcade ==\n",
      "None of the cabinets seem to have power.\n",
      "\n",
      "Doors here lead:\n",
      "- north\n",
      "- west\n",
      "\n",
      "Items here:\n",
      "- food ration\n",
      "\n",
      "Command?\n",
      "\n"
     ]
    }
   ],
   "source": [
    "inpt = 'south\\n'\n",
    "msg, _ = asc.run_program(inpt, pause_on_in=True, pause_at_in=len(inpt)+1, verbose=False)\n",
    "print(msg)"
   ]
  },
  {
   "cell_type": "code",
   "execution_count": 49,
   "metadata": {},
   "outputs": [
    {
     "name": "stdout",
     "output_type": "stream",
     "text": [
      "\n",
      "You take the food ration.\n",
      "\n",
      "Command?\n",
      "\n"
     ]
    }
   ],
   "source": [
    "inpt = 'take food ration\\n'\n",
    "msg, _ = asc.run_program(inpt, pause_on_in=True, pause_at_in=len(inpt)+1, verbose=False)\n",
    "print(msg)"
   ]
  },
  {
   "cell_type": "code",
   "execution_count": 50,
   "metadata": {},
   "outputs": [
    {
     "name": "stdout",
     "output_type": "stream",
     "text": [
      "\n",
      "\n",
      "\n",
      "== Hull Breach ==\n",
      "You got in through a hole in the floor here. To keep your ship from also freezing, the hole has been sealed.\n",
      "\n",
      "Doors here lead:\n",
      "- north\n",
      "- east\n",
      "- south\n",
      "\n",
      "Command?\n",
      "\n"
     ]
    }
   ],
   "source": [
    "inpt = 'north\\n'\n",
    "msg, _ = asc.run_program(inpt, pause_on_in=True, pause_at_in=len(inpt)+1, verbose=False)\n",
    "print(msg)"
   ]
  },
  {
   "cell_type": "code",
   "execution_count": 51,
   "metadata": {},
   "outputs": [
    {
     "name": "stdout",
     "output_type": "stream",
     "text": [
      "\n",
      "\n",
      "\n",
      "== Corridor ==\n",
      "The metal walls and the metal floor are slightly different colors. Or are they?\n",
      "\n",
      "Doors here lead:\n",
      "- east\n",
      "- south\n",
      "- west\n",
      "\n",
      "Command?\n",
      "\n"
     ]
    }
   ],
   "source": [
    "inpt = 'east\\n'\n",
    "msg, _ = asc.run_program(inpt, pause_on_in=True, pause_at_in=len(inpt)+1, verbose=False)\n",
    "print(msg)"
   ]
  },
  {
   "cell_type": "code",
   "execution_count": 52,
   "metadata": {},
   "outputs": [
    {
     "name": "stdout",
     "output_type": "stream",
     "text": [
      "\n",
      "\n",
      "\n",
      "== Gift Wrapping Center ==\n",
      "How else do you wrap presents on the go?\n",
      "\n",
      "Doors here lead:\n",
      "- east\n",
      "- west\n",
      "\n",
      "Items here:\n",
      "- photons\n",
      "\n",
      "Command?\n",
      "\n"
     ]
    }
   ],
   "source": [
    "inpt = 'east\\n'\n",
    "msg, _ = asc.run_program(inpt, pause_on_in=True, pause_at_in=len(inpt)+1, verbose=False)\n",
    "print(msg)"
   ]
  },
  {
   "cell_type": "code",
   "execution_count": 53,
   "metadata": {},
   "outputs": [
    {
     "name": "stdout",
     "output_type": "stream",
     "text": [
      "\n",
      "\n",
      "\n",
      "== Observatory ==\n",
      "There are a few telescopes; they're all bolted down, though.\n",
      "\n",
      "Doors here lead:\n",
      "- east\n",
      "- west\n",
      "\n",
      "Items here:\n",
      "- giant electromagnet\n",
      "\n",
      "Command?\n",
      "\n"
     ]
    }
   ],
   "source": [
    "inpt = 'east\\n'\n",
    "msg, _ = asc.run_program(inpt, pause_on_in=True, pause_at_in=len(inpt)+1, verbose=False)\n",
    "print(msg)"
   ]
  },
  {
   "cell_type": "code",
   "execution_count": 54,
   "metadata": {},
   "outputs": [
    {
     "name": "stdout",
     "output_type": "stream",
     "text": [
      "\n",
      "\n",
      "\n",
      "== Security Checkpoint ==\n",
      "In the next room, a pressure-sensitive floor will verify your identity.\n",
      "\n",
      "Doors here lead:\n",
      "- south\n",
      "- west\n",
      "\n",
      "Items here:\n",
      "- coin\n",
      "- cake\n",
      "\n",
      "Command?\n",
      "\n"
     ]
    }
   ],
   "source": [
    "inpt = 'east\\n'\n",
    "msg, _ = asc.run_program(inpt, pause_on_in=True, pause_at_in=len(inpt)+1, verbose=False)\n",
    "print(msg)"
   ]
  },
  {
   "cell_type": "code",
   "execution_count": 55,
   "metadata": {},
   "outputs": [
    {
     "name": "stdout",
     "output_type": "stream",
     "text": [
      "\n",
      "\n",
      "\n",
      "== Pressure-Sensitive Floor ==\n",
      "Analyzing...\n",
      "\n",
      "Doors here lead:\n",
      "- north\n",
      "\n",
      "A loud, robotic voice says \"Alert! Droids on this ship are heavier than the detected value!\" and you are ejected back to the checkpoint.\n",
      "\n",
      "\n",
      "\n",
      "== Security Checkpoint ==\n",
      "In the next room, a pressure-sensitive floor will verify your identity.\n",
      "\n",
      "Doors here lead:\n",
      "- south\n",
      "- west\n",
      "\n",
      "Items here:\n",
      "- coin\n",
      "- cake\n",
      "\n",
      "Command?\n",
      "\n"
     ]
    }
   ],
   "source": [
    "inpt = 'south\\n'\n",
    "msg, _ = asc.run_program(inpt, pause_on_in=True, pause_at_in=len(inpt)+1, verbose=False)\n",
    "print(msg)"
   ]
  },
  {
   "cell_type": "code",
   "execution_count": 56,
   "metadata": {},
   "outputs": [
    {
     "name": "stdout",
     "output_type": "stream",
     "text": [
      "\n",
      "You drop the food ration.\n",
      "\n",
      "Command?\n",
      "\n"
     ]
    }
   ],
   "source": [
    "inpt = 'drop food ration\\n'\n",
    "msg, _ = asc.run_program(inpt, pause_on_in=True, pause_at_in=len(inpt)+1, verbose=False)\n",
    "print(msg)"
   ]
  },
  {
   "cell_type": "code",
   "execution_count": 57,
   "metadata": {},
   "outputs": [
    {
     "name": "stdout",
     "output_type": "stream",
     "text": [
      "\n",
      "\n",
      "\n",
      "== Observatory ==\n",
      "There are a few telescopes; they're all bolted down, though.\n",
      "\n",
      "Doors here lead:\n",
      "- east\n",
      "- west\n",
      "\n",
      "Items here:\n",
      "- giant electromagnet\n",
      "\n",
      "Command?\n",
      "\n"
     ]
    }
   ],
   "source": [
    "inpt = 'west\\n'\n",
    "msg, _ = asc.run_program(inpt, pause_on_in=True, pause_at_in=len(inpt)+1, verbose=False)\n",
    "print(msg)"
   ]
  },
  {
   "cell_type": "code",
   "execution_count": 58,
   "metadata": {},
   "outputs": [
    {
     "name": "stdout",
     "output_type": "stream",
     "text": [
      "\n",
      "\n",
      "\n",
      "== Gift Wrapping Center ==\n",
      "How else do you wrap presents on the go?\n",
      "\n",
      "Doors here lead:\n",
      "- east\n",
      "- west\n",
      "\n",
      "Items here:\n",
      "- photons\n",
      "\n",
      "Command?\n",
      "\n"
     ]
    }
   ],
   "source": [
    "inpt = 'west\\n'\n",
    "msg, _ = asc.run_program(inpt, pause_on_in=True, pause_at_in=len(inpt)+1, verbose=False)\n",
    "print(msg)"
   ]
  },
  {
   "cell_type": "code",
   "execution_count": 59,
   "metadata": {},
   "outputs": [
    {
     "name": "stdout",
     "output_type": "stream",
     "text": [
      "\n",
      "\n",
      "\n",
      "== Corridor ==\n",
      "The metal walls and the metal floor are slightly different colors. Or are they?\n",
      "\n",
      "Doors here lead:\n",
      "- east\n",
      "- south\n",
      "- west\n",
      "\n",
      "Command?\n",
      "\n"
     ]
    }
   ],
   "source": [
    "inpt = 'west\\n'\n",
    "msg, _ = asc.run_program(inpt, pause_on_in=True, pause_at_in=len(inpt)+1, verbose=False)\n",
    "print(msg)"
   ]
  },
  {
   "cell_type": "code",
   "execution_count": 60,
   "metadata": {},
   "outputs": [
    {
     "name": "stdout",
     "output_type": "stream",
     "text": [
      "\n",
      "\n",
      "\n",
      "== Hull Breach ==\n",
      "You got in through a hole in the floor here. To keep your ship from also freezing, the hole has been sealed.\n",
      "\n",
      "Doors here lead:\n",
      "- north\n",
      "- east\n",
      "- south\n",
      "\n",
      "Command?\n",
      "\n"
     ]
    }
   ],
   "source": [
    "inpt = 'west\\n'\n",
    "msg, _ = asc.run_program(inpt, pause_on_in=True, pause_at_in=len(inpt)+1, verbose=False)\n",
    "print(msg)"
   ]
  },
  {
   "cell_type": "code",
   "execution_count": 61,
   "metadata": {},
   "outputs": [
    {
     "name": "stdout",
     "output_type": "stream",
     "text": [
      "\n",
      "\n",
      "\n",
      "== Arcade ==\n",
      "None of the cabinets seem to have power.\n",
      "\n",
      "Doors here lead:\n",
      "- north\n",
      "- west\n",
      "\n",
      "Command?\n",
      "\n"
     ]
    }
   ],
   "source": [
    "inpt = 'south\\n'\n",
    "msg, _ = asc.run_program(inpt, pause_on_in=True, pause_at_in=len(inpt)+1, verbose=False)\n",
    "print(msg)"
   ]
  },
  {
   "cell_type": "code",
   "execution_count": 62,
   "metadata": {},
   "outputs": [
    {
     "name": "stdout",
     "output_type": "stream",
     "text": [
      "\n",
      "\n",
      "\n",
      "== Warp Drive Maintenance ==\n",
      "It appears to be working normally.\n",
      "\n",
      "Doors here lead:\n",
      "- north\n",
      "- east\n",
      "\n",
      "Items here:\n",
      "- sand\n",
      "\n",
      "Command?\n",
      "\n"
     ]
    }
   ],
   "source": [
    "inpt = 'west\\n'\n",
    "msg, _ = asc.run_program(inpt, pause_on_in=True, pause_at_in=len(inpt)+1, verbose=False)\n",
    "print(msg)"
   ]
  },
  {
   "cell_type": "code",
   "execution_count": 63,
   "metadata": {},
   "outputs": [
    {
     "name": "stdout",
     "output_type": "stream",
     "text": [
      "\n",
      "You take the sand.\n",
      "\n",
      "Command?\n",
      "\n"
     ]
    }
   ],
   "source": [
    "inpt = 'take sand\\n'\n",
    "msg, _ = asc.run_program(inpt, pause_on_in=True, pause_at_in=len(inpt)+1, verbose=False)\n",
    "print(msg)"
   ]
  },
  {
   "cell_type": "code",
   "execution_count": 64,
   "metadata": {},
   "outputs": [
    {
     "name": "stdout",
     "output_type": "stream",
     "text": [
      "\n",
      "\n",
      "\n",
      "== Arcade ==\n",
      "None of the cabinets seem to have power.\n",
      "\n",
      "Doors here lead:\n",
      "- north\n",
      "- west\n",
      "\n",
      "Command?\n",
      "\n"
     ]
    }
   ],
   "source": [
    "inpt = 'east\\n'\n",
    "msg, _ = asc.run_program(inpt, pause_on_in=True, pause_at_in=len(inpt)+1, verbose=False)\n",
    "print(msg)"
   ]
  },
  {
   "cell_type": "code",
   "execution_count": 65,
   "metadata": {},
   "outputs": [
    {
     "name": "stdout",
     "output_type": "stream",
     "text": [
      "\n",
      "\n",
      "\n",
      "== Hull Breach ==\n",
      "You got in through a hole in the floor here. To keep your ship from also freezing, the hole has been sealed.\n",
      "\n",
      "Doors here lead:\n",
      "- north\n",
      "- east\n",
      "- south\n",
      "\n",
      "Command?\n",
      "\n"
     ]
    }
   ],
   "source": [
    "inpt = 'north\\n'\n",
    "msg, _ = asc.run_program(inpt, pause_on_in=True, pause_at_in=len(inpt)+1, verbose=False)\n",
    "print(msg)"
   ]
  },
  {
   "cell_type": "code",
   "execution_count": 66,
   "metadata": {},
   "outputs": [
    {
     "name": "stdout",
     "output_type": "stream",
     "text": [
      "\n",
      "\n",
      "\n",
      "== Corridor ==\n",
      "The metal walls and the metal floor are slightly different colors. Or are they?\n",
      "\n",
      "Doors here lead:\n",
      "- east\n",
      "- south\n",
      "- west\n",
      "\n",
      "Command?\n",
      "\n"
     ]
    }
   ],
   "source": [
    "inpt = 'east\\n'\n",
    "msg, _ = asc.run_program(inpt, pause_on_in=True, pause_at_in=len(inpt)+1, verbose=False)\n",
    "print(msg)"
   ]
  },
  {
   "cell_type": "code",
   "execution_count": 67,
   "metadata": {},
   "outputs": [
    {
     "name": "stdout",
     "output_type": "stream",
     "text": [
      "\n",
      "\n",
      "\n",
      "== Gift Wrapping Center ==\n",
      "How else do you wrap presents on the go?\n",
      "\n",
      "Doors here lead:\n",
      "- east\n",
      "- west\n",
      "\n",
      "Items here:\n",
      "- photons\n",
      "\n",
      "Command?\n",
      "\n"
     ]
    }
   ],
   "source": [
    "inpt = 'east\\n'\n",
    "msg, _ = asc.run_program(inpt, pause_on_in=True, pause_at_in=len(inpt)+1, verbose=False)\n",
    "print(msg)"
   ]
  },
  {
   "cell_type": "code",
   "execution_count": 68,
   "metadata": {},
   "outputs": [
    {
     "name": "stdout",
     "output_type": "stream",
     "text": [
      "\n",
      "\n",
      "\n",
      "== Observatory ==\n",
      "There are a few telescopes; they're all bolted down, though.\n",
      "\n",
      "Doors here lead:\n",
      "- east\n",
      "- west\n",
      "\n",
      "Items here:\n",
      "- giant electromagnet\n",
      "\n",
      "Command?\n",
      "\n"
     ]
    }
   ],
   "source": [
    "inpt = 'east\\n'\n",
    "msg, _ = asc.run_program(inpt, pause_on_in=True, pause_at_in=len(inpt)+1, verbose=False)\n",
    "print(msg)"
   ]
  },
  {
   "cell_type": "code",
   "execution_count": 69,
   "metadata": {},
   "outputs": [
    {
     "name": "stdout",
     "output_type": "stream",
     "text": [
      "\n",
      "\n",
      "\n",
      "== Security Checkpoint ==\n",
      "In the next room, a pressure-sensitive floor will verify your identity.\n",
      "\n",
      "Doors here lead:\n",
      "- south\n",
      "- west\n",
      "\n",
      "Items here:\n",
      "- coin\n",
      "- food ration\n",
      "- cake\n",
      "\n",
      "Command?\n",
      "\n"
     ]
    }
   ],
   "source": [
    "inpt = 'east\\n'\n",
    "msg, _ = asc.run_program(inpt, pause_on_in=True, pause_at_in=len(inpt)+1, verbose=False)\n",
    "print(msg)"
   ]
  },
  {
   "cell_type": "code",
   "execution_count": 70,
   "metadata": {},
   "outputs": [
    {
     "name": "stdout",
     "output_type": "stream",
     "text": [
      "\n",
      "\n",
      "\n",
      "== Pressure-Sensitive Floor ==\n",
      "Analyzing...\n",
      "\n",
      "Doors here lead:\n",
      "- north\n",
      "\n",
      "A loud, robotic voice says \"Alert! Droids on this ship are lighter than the detected value!\" and you are ejected back to the checkpoint.\n",
      "\n",
      "\n",
      "\n",
      "== Security Checkpoint ==\n",
      "In the next room, a pressure-sensitive floor will verify your identity.\n",
      "\n",
      "Doors here lead:\n",
      "- south\n",
      "- west\n",
      "\n",
      "Items here:\n",
      "- coin\n",
      "- food ration\n",
      "- cake\n",
      "\n",
      "Command?\n",
      "\n"
     ]
    }
   ],
   "source": [
    "inpt = 'south\\n'\n",
    "msg, _ = asc.run_program(inpt, pause_on_in=True, pause_at_in=len(inpt)+1, verbose=False)\n",
    "print(msg)"
   ]
  },
  {
   "cell_type": "code",
   "execution_count": 71,
   "metadata": {},
   "outputs": [
    {
     "name": "stdout",
     "output_type": "stream",
     "text": [
      "\n",
      "You drop the sand.\n",
      "\n",
      "Command?\n",
      "\n"
     ]
    }
   ],
   "source": [
    "inpt = 'drop sand\\n'\n",
    "msg, _ = asc.run_program(inpt, pause_on_in=True, pause_at_in=len(inpt)+1, verbose=False)\n",
    "print(msg)"
   ]
  },
  {
   "cell_type": "code",
   "execution_count": 72,
   "metadata": {},
   "outputs": [
    {
     "name": "stdout",
     "output_type": "stream",
     "text": [
      "\n",
      "\n",
      "\n",
      "== Observatory ==\n",
      "There are a few telescopes; they're all bolted down, though.\n",
      "\n",
      "Doors here lead:\n",
      "- east\n",
      "- west\n",
      "\n",
      "Items here:\n",
      "- giant electromagnet\n",
      "\n",
      "Command?\n",
      "\n"
     ]
    }
   ],
   "source": [
    "inpt = 'west\\n'\n",
    "msg, _ = asc.run_program(inpt, pause_on_in=True, pause_at_in=len(inpt)+1, verbose=False)\n",
    "print(msg)"
   ]
  },
  {
   "cell_type": "code",
   "execution_count": 73,
   "metadata": {},
   "outputs": [
    {
     "name": "stdout",
     "output_type": "stream",
     "text": [
      "\n",
      "\n",
      "\n",
      "== Gift Wrapping Center ==\n",
      "How else do you wrap presents on the go?\n",
      "\n",
      "Doors here lead:\n",
      "- east\n",
      "- west\n",
      "\n",
      "Items here:\n",
      "- photons\n",
      "\n",
      "Command?\n",
      "\n"
     ]
    }
   ],
   "source": [
    "inpt = 'west\\n'\n",
    "msg, _ = asc.run_program(inpt, pause_on_in=True, pause_at_in=len(inpt)+1, verbose=False)\n",
    "print(msg)"
   ]
  },
  {
   "cell_type": "code",
   "execution_count": 74,
   "metadata": {},
   "outputs": [
    {
     "name": "stdout",
     "output_type": "stream",
     "text": [
      "\n",
      "\n",
      "\n",
      "== Corridor ==\n",
      "The metal walls and the metal floor are slightly different colors. Or are they?\n",
      "\n",
      "Doors here lead:\n",
      "- east\n",
      "- south\n",
      "- west\n",
      "\n",
      "Command?\n",
      "\n"
     ]
    }
   ],
   "source": [
    "inpt = 'west\\n'\n",
    "msg, _ = asc.run_program(inpt, pause_on_in=True, pause_at_in=len(inpt)+1, verbose=False)\n",
    "print(msg)"
   ]
  },
  {
   "cell_type": "code",
   "execution_count": 75,
   "metadata": {},
   "outputs": [
    {
     "name": "stdout",
     "output_type": "stream",
     "text": [
      "\n",
      "\n",
      "\n",
      "== Hull Breach ==\n",
      "You got in through a hole in the floor here. To keep your ship from also freezing, the hole has been sealed.\n",
      "\n",
      "Doors here lead:\n",
      "- north\n",
      "- east\n",
      "- south\n",
      "\n",
      "Command?\n",
      "\n"
     ]
    }
   ],
   "source": [
    "inpt = 'west\\n'\n",
    "msg, _ = asc.run_program(inpt, pause_on_in=True, pause_at_in=len(inpt)+1, verbose=False)\n",
    "print(msg)"
   ]
  },
  {
   "cell_type": "code",
   "execution_count": 76,
   "metadata": {},
   "outputs": [
    {
     "name": "stdout",
     "output_type": "stream",
     "text": [
      "\n",
      "\n",
      "\n",
      "== Arcade ==\n",
      "None of the cabinets seem to have power.\n",
      "\n",
      "Doors here lead:\n",
      "- north\n",
      "- west\n",
      "\n",
      "Command?\n",
      "\n"
     ]
    }
   ],
   "source": [
    "inpt = 'south\\n'\n",
    "msg, _ = asc.run_program(inpt, pause_on_in=True, pause_at_in=len(inpt)+1, verbose=False)\n",
    "print(msg)"
   ]
  },
  {
   "cell_type": "code",
   "execution_count": 77,
   "metadata": {},
   "outputs": [
    {
     "name": "stdout",
     "output_type": "stream",
     "text": [
      "\n",
      "\n",
      "\n",
      "== Warp Drive Maintenance ==\n",
      "It appears to be working normally.\n",
      "\n",
      "Doors here lead:\n",
      "- north\n",
      "- east\n",
      "\n",
      "Command?\n",
      "\n"
     ]
    }
   ],
   "source": [
    "inpt = 'west\\n'\n",
    "msg, _ = asc.run_program(inpt, pause_on_in=True, pause_at_in=len(inpt)+1, verbose=False)\n",
    "print(msg)"
   ]
  },
  {
   "cell_type": "code",
   "execution_count": 78,
   "metadata": {},
   "outputs": [
    {
     "name": "stdout",
     "output_type": "stream",
     "text": [
      "\n",
      "\n",
      "\n",
      "== Holodeck ==\n",
      "Someone seems to have left it on the Giant Grid setting.\n",
      "\n",
      "Doors here lead:\n",
      "- north\n",
      "- south\n",
      "\n",
      "Command?\n",
      "\n"
     ]
    }
   ],
   "source": [
    "inpt = 'north\\n'\n",
    "msg, _ = asc.run_program(inpt, pause_on_in=True, pause_at_in=len(inpt)+1, verbose=False)\n",
    "print(msg)"
   ]
  },
  {
   "cell_type": "code",
   "execution_count": 79,
   "metadata": {},
   "outputs": [
    {
     "name": "stdout",
     "output_type": "stream",
     "text": [
      "\n",
      "\n",
      "\n",
      "== Kitchen ==\n",
      "Everything's freeze-dried.\n",
      "\n",
      "Doors here lead:\n",
      "- east\n",
      "- south\n",
      "\n",
      "Items here:\n",
      "- infinite loop\n",
      "\n",
      "Command?\n",
      "\n"
     ]
    }
   ],
   "source": [
    "inpt = 'north\\n'\n",
    "msg, _ = asc.run_program(inpt, pause_on_in=True, pause_at_in=len(inpt)+1, verbose=False)\n",
    "print(msg)"
   ]
  },
  {
   "cell_type": "code",
   "execution_count": 80,
   "metadata": {},
   "outputs": [
    {
     "name": "stdout",
     "output_type": "stream",
     "text": [
      "\n",
      "\n",
      "\n",
      "== Passages ==\n",
      "They're a little twisty and starting to look all alike.\n",
      "\n",
      "Doors here lead:\n",
      "- west\n",
      "\n",
      "Items here:\n",
      "- astrolabe\n",
      "\n",
      "Command?\n",
      "\n"
     ]
    }
   ],
   "source": [
    "inpt = 'east\\n'\n",
    "msg, _ = asc.run_program(inpt, pause_on_in=True, pause_at_in=len(inpt)+1, verbose=False)\n",
    "print(msg)"
   ]
  },
  {
   "cell_type": "code",
   "execution_count": 81,
   "metadata": {},
   "outputs": [
    {
     "name": "stdout",
     "output_type": "stream",
     "text": [
      "\n",
      "You take the astrolabe.\n",
      "\n",
      "Command?\n",
      "\n"
     ]
    }
   ],
   "source": [
    "inpt = 'take astrolabe\\n'\n",
    "msg, _ = asc.run_program(inpt, pause_on_in=True, pause_at_in=len(inpt)+1, verbose=False)\n",
    "print(msg)"
   ]
  },
  {
   "cell_type": "code",
   "execution_count": 82,
   "metadata": {},
   "outputs": [
    {
     "name": "stdout",
     "output_type": "stream",
     "text": [
      "\n",
      "\n",
      "\n",
      "== Kitchen ==\n",
      "Everything's freeze-dried.\n",
      "\n",
      "Doors here lead:\n",
      "- east\n",
      "- south\n",
      "\n",
      "Items here:\n",
      "- infinite loop\n",
      "\n",
      "Command?\n",
      "\n"
     ]
    }
   ],
   "source": [
    "inpt = 'west\\n'\n",
    "msg, _ = asc.run_program(inpt, pause_on_in=True, pause_at_in=len(inpt)+1, verbose=False)\n",
    "print(msg)"
   ]
  },
  {
   "cell_type": "code",
   "execution_count": 83,
   "metadata": {},
   "outputs": [
    {
     "name": "stdout",
     "output_type": "stream",
     "text": [
      "\n",
      "\n",
      "\n",
      "== Holodeck ==\n",
      "Someone seems to have left it on the Giant Grid setting.\n",
      "\n",
      "Doors here lead:\n",
      "- north\n",
      "- south\n",
      "\n",
      "Command?\n",
      "\n"
     ]
    }
   ],
   "source": [
    "inpt = 'south\\n'\n",
    "msg, _ = asc.run_program(inpt, pause_on_in=True, pause_at_in=len(inpt)+1, verbose=False)\n",
    "print(msg)"
   ]
  },
  {
   "cell_type": "code",
   "execution_count": 84,
   "metadata": {},
   "outputs": [
    {
     "name": "stdout",
     "output_type": "stream",
     "text": [
      "\n",
      "\n",
      "\n",
      "== Warp Drive Maintenance ==\n",
      "It appears to be working normally.\n",
      "\n",
      "Doors here lead:\n",
      "- north\n",
      "- east\n",
      "\n",
      "Command?\n",
      "\n"
     ]
    }
   ],
   "source": [
    "inpt = 'south\\n'\n",
    "msg, _ = asc.run_program(inpt, pause_on_in=True, pause_at_in=len(inpt)+1, verbose=False)\n",
    "print(msg)"
   ]
  },
  {
   "cell_type": "code",
   "execution_count": 85,
   "metadata": {},
   "outputs": [
    {
     "name": "stdout",
     "output_type": "stream",
     "text": [
      "\n",
      "\n",
      "\n",
      "== Arcade ==\n",
      "None of the cabinets seem to have power.\n",
      "\n",
      "Doors here lead:\n",
      "- north\n",
      "- west\n",
      "\n",
      "Command?\n",
      "\n"
     ]
    }
   ],
   "source": [
    "inpt = 'east\\n'\n",
    "msg, _ = asc.run_program(inpt, pause_on_in=True, pause_at_in=len(inpt)+1, verbose=False)\n",
    "print(msg)"
   ]
  },
  {
   "cell_type": "code",
   "execution_count": 86,
   "metadata": {},
   "outputs": [
    {
     "name": "stdout",
     "output_type": "stream",
     "text": [
      "\n",
      "\n",
      "\n",
      "== Hull Breach ==\n",
      "You got in through a hole in the floor here. To keep your ship from also freezing, the hole has been sealed.\n",
      "\n",
      "Doors here lead:\n",
      "- north\n",
      "- east\n",
      "- south\n",
      "\n",
      "Command?\n",
      "\n"
     ]
    }
   ],
   "source": [
    "inpt = 'north\\n'\n",
    "msg, _ = asc.run_program(inpt, pause_on_in=True, pause_at_in=len(inpt)+1, verbose=False)\n",
    "print(msg)"
   ]
  },
  {
   "cell_type": "code",
   "execution_count": 87,
   "metadata": {},
   "outputs": [
    {
     "name": "stdout",
     "output_type": "stream",
     "text": [
      "\n",
      "\n",
      "\n",
      "== Corridor ==\n",
      "The metal walls and the metal floor are slightly different colors. Or are they?\n",
      "\n",
      "Doors here lead:\n",
      "- east\n",
      "- south\n",
      "- west\n",
      "\n",
      "Command?\n",
      "\n"
     ]
    }
   ],
   "source": [
    "inpt = 'east\\n'\n",
    "msg, _ = asc.run_program(inpt, pause_on_in=True, pause_at_in=len(inpt)+1, verbose=False)\n",
    "print(msg)"
   ]
  },
  {
   "cell_type": "code",
   "execution_count": 88,
   "metadata": {},
   "outputs": [
    {
     "name": "stdout",
     "output_type": "stream",
     "text": [
      "\n",
      "\n",
      "\n",
      "== Gift Wrapping Center ==\n",
      "How else do you wrap presents on the go?\n",
      "\n",
      "Doors here lead:\n",
      "- east\n",
      "- west\n",
      "\n",
      "Items here:\n",
      "- photons\n",
      "\n",
      "Command?\n",
      "\n"
     ]
    }
   ],
   "source": [
    "inpt = 'east\\n'\n",
    "msg, _ = asc.run_program(inpt, pause_on_in=True, pause_at_in=len(inpt)+1, verbose=False)\n",
    "print(msg)"
   ]
  },
  {
   "cell_type": "code",
   "execution_count": 89,
   "metadata": {},
   "outputs": [
    {
     "name": "stdout",
     "output_type": "stream",
     "text": [
      "\n",
      "\n",
      "\n",
      "== Observatory ==\n",
      "There are a few telescopes; they're all bolted down, though.\n",
      "\n",
      "Doors here lead:\n",
      "- east\n",
      "- west\n",
      "\n",
      "Items here:\n",
      "- giant electromagnet\n",
      "\n",
      "Command?\n",
      "\n"
     ]
    }
   ],
   "source": [
    "inpt = 'east\\n'\n",
    "msg, _ = asc.run_program(inpt, pause_on_in=True, pause_at_in=len(inpt)+1, verbose=False)\n",
    "print(msg)"
   ]
  },
  {
   "cell_type": "code",
   "execution_count": 90,
   "metadata": {},
   "outputs": [
    {
     "name": "stdout",
     "output_type": "stream",
     "text": [
      "\n",
      "\n",
      "\n",
      "== Security Checkpoint ==\n",
      "In the next room, a pressure-sensitive floor will verify your identity.\n",
      "\n",
      "Doors here lead:\n",
      "- south\n",
      "- west\n",
      "\n",
      "Items here:\n",
      "- sand\n",
      "- coin\n",
      "- food ration\n",
      "- cake\n",
      "\n",
      "Command?\n",
      "\n"
     ]
    }
   ],
   "source": [
    "inpt = 'east\\n'\n",
    "msg, _ = asc.run_program(inpt, pause_on_in=True, pause_at_in=len(inpt)+1, verbose=False)\n",
    "print(msg)"
   ]
  },
  {
   "cell_type": "code",
   "execution_count": 91,
   "metadata": {},
   "outputs": [
    {
     "name": "stdout",
     "output_type": "stream",
     "text": [
      "\n",
      "\n",
      "\n",
      "== Pressure-Sensitive Floor ==\n",
      "Analyzing...\n",
      "\n",
      "Doors here lead:\n",
      "- north\n",
      "\n",
      "A loud, robotic voice says \"Alert! Droids on this ship are heavier than the detected value!\" and you are ejected back to the checkpoint.\n",
      "\n",
      "\n",
      "\n",
      "== Security Checkpoint ==\n",
      "In the next room, a pressure-sensitive floor will verify your identity.\n",
      "\n",
      "Doors here lead:\n",
      "- south\n",
      "- west\n",
      "\n",
      "Items here:\n",
      "- sand\n",
      "- coin\n",
      "- food ration\n",
      "- cake\n",
      "\n",
      "Command?\n",
      "\n"
     ]
    }
   ],
   "source": [
    "inpt = 'south\\n'\n",
    "msg, _ = asc.run_program(inpt, pause_on_in=True, pause_at_in=len(inpt)+1, verbose=False)\n",
    "print(msg)"
   ]
  },
  {
   "cell_type": "code",
   "execution_count": 92,
   "metadata": {},
   "outputs": [
    {
     "name": "stdout",
     "output_type": "stream",
     "text": [
      "\n",
      "You take the coin.\n",
      "\n",
      "Command?\n",
      "\n"
     ]
    }
   ],
   "source": [
    "inpt = 'take coin\\n'\n",
    "msg, _ = asc.run_program(inpt, pause_on_in=True, pause_at_in=len(inpt)+1, verbose=False)\n",
    "print(msg)"
   ]
  },
  {
   "cell_type": "code",
   "execution_count": 93,
   "metadata": {},
   "outputs": [
    {
     "name": "stdout",
     "output_type": "stream",
     "text": [
      "\n",
      "\n",
      "\n",
      "== Pressure-Sensitive Floor ==\n",
      "Analyzing...\n",
      "\n",
      "Doors here lead:\n",
      "- north\n",
      "\n",
      "A loud, robotic voice says \"Alert! Droids on this ship are lighter than the detected value!\" and you are ejected back to the checkpoint.\n",
      "\n",
      "\n",
      "\n",
      "== Security Checkpoint ==\n",
      "In the next room, a pressure-sensitive floor will verify your identity.\n",
      "\n",
      "Doors here lead:\n",
      "- south\n",
      "- west\n",
      "\n",
      "Items here:\n",
      "- sand\n",
      "- food ration\n",
      "- cake\n",
      "\n",
      "Command?\n",
      "\n"
     ]
    }
   ],
   "source": [
    "inpt = 'south\\n'\n",
    "msg, _ = asc.run_program(inpt, pause_on_in=True, pause_at_in=len(inpt)+1, verbose=False)\n",
    "print(msg)"
   ]
  },
  {
   "cell_type": "code",
   "execution_count": 94,
   "metadata": {},
   "outputs": [
    {
     "name": "stdout",
     "output_type": "stream",
     "text": [
      "\n",
      "You drop the astrolabe.\n",
      "\n",
      "Command?\n",
      "\n"
     ]
    }
   ],
   "source": [
    "inpt = 'drop astrolabe\\n'\n",
    "msg, _ = asc.run_program(inpt, pause_on_in=True, pause_at_in=len(inpt)+1, verbose=False)\n",
    "print(msg)"
   ]
  },
  {
   "cell_type": "code",
   "execution_count": 95,
   "metadata": {},
   "outputs": [
    {
     "name": "stdout",
     "output_type": "stream",
     "text": [
      "\n",
      "\n",
      "\n",
      "== Pressure-Sensitive Floor ==\n",
      "Analyzing...\n",
      "\n",
      "Doors here lead:\n",
      "- north\n",
      "\n",
      "A loud, robotic voice says \"Alert! Droids on this ship are lighter than the detected value!\" and you are ejected back to the checkpoint.\n",
      "\n",
      "\n",
      "\n",
      "== Security Checkpoint ==\n",
      "In the next room, a pressure-sensitive floor will verify your identity.\n",
      "\n",
      "Doors here lead:\n",
      "- south\n",
      "- west\n",
      "\n",
      "Items here:\n",
      "- sand\n",
      "- astrolabe\n",
      "- food ration\n",
      "- cake\n",
      "\n",
      "Command?\n",
      "\n"
     ]
    }
   ],
   "source": [
    "inpt = 'south\\n'\n",
    "msg, _ = asc.run_program(inpt, pause_on_in=True, pause_at_in=len(inpt)+1, verbose=False)\n",
    "print(msg)"
   ]
  },
  {
   "cell_type": "code",
   "execution_count": 96,
   "metadata": {},
   "outputs": [
    {
     "name": "stdout",
     "output_type": "stream",
     "text": [
      "\n",
      "You drop the coin.\n",
      "\n",
      "Command?\n",
      "\n"
     ]
    }
   ],
   "source": [
    "inpt = 'drop coin\\n'\n",
    "msg, _ = asc.run_program(inpt, pause_on_in=True, pause_at_in=len(inpt)+1, verbose=False)\n",
    "print(msg)"
   ]
  },
  {
   "cell_type": "code",
   "execution_count": 97,
   "metadata": {},
   "outputs": [
    {
     "name": "stdout",
     "output_type": "stream",
     "text": [
      "\n",
      "You take the food ration.\n",
      "\n",
      "Command?\n",
      "\n"
     ]
    }
   ],
   "source": [
    "inpt = 'take food ration\\n'\n",
    "msg, _ = asc.run_program(inpt, pause_on_in=True, pause_at_in=len(inpt)+1, verbose=False)\n",
    "print(msg)"
   ]
  },
  {
   "cell_type": "code",
   "execution_count": 98,
   "metadata": {},
   "outputs": [
    {
     "name": "stdout",
     "output_type": "stream",
     "text": [
      "\n",
      "\n",
      "\n",
      "== Pressure-Sensitive Floor ==\n",
      "Analyzing...\n",
      "\n",
      "Doors here lead:\n",
      "- north\n",
      "\n",
      "A loud, robotic voice says \"Alert! Droids on this ship are heavier than the detected value!\" and you are ejected back to the checkpoint.\n",
      "\n",
      "\n",
      "\n",
      "== Security Checkpoint ==\n",
      "In the next room, a pressure-sensitive floor will verify your identity.\n",
      "\n",
      "Doors here lead:\n",
      "- south\n",
      "- west\n",
      "\n",
      "Items here:\n",
      "- sand\n",
      "- coin\n",
      "- astrolabe\n",
      "- cake\n",
      "\n",
      "Command?\n",
      "\n"
     ]
    }
   ],
   "source": [
    "inpt = 'south\\n'\n",
    "msg, _ = asc.run_program(inpt, pause_on_in=True, pause_at_in=len(inpt)+1, verbose=False)\n",
    "print(msg)"
   ]
  },
  {
   "cell_type": "code",
   "execution_count": 99,
   "metadata": {},
   "outputs": [
    {
     "name": "stdout",
     "output_type": "stream",
     "text": [
      "\n",
      "You take the astrolabe.\n",
      "\n",
      "Command?\n",
      "\n"
     ]
    }
   ],
   "source": [
    "inpt = 'take astrolabe\\n'\n",
    "msg, _ = asc.run_program(inpt, pause_on_in=True, pause_at_in=len(inpt)+1, verbose=False)\n",
    "print(msg)"
   ]
  },
  {
   "cell_type": "code",
   "execution_count": 100,
   "metadata": {},
   "outputs": [
    {
     "name": "stdout",
     "output_type": "stream",
     "text": [
      "\n",
      "\n",
      "\n",
      "== Pressure-Sensitive Floor ==\n",
      "Analyzing...\n",
      "\n",
      "Doors here lead:\n",
      "- north\n",
      "\n",
      "A loud, robotic voice says \"Alert! Droids on this ship are heavier than the detected value!\" and you are ejected back to the checkpoint.\n",
      "\n",
      "\n",
      "\n",
      "== Security Checkpoint ==\n",
      "In the next room, a pressure-sensitive floor will verify your identity.\n",
      "\n",
      "Doors here lead:\n",
      "- south\n",
      "- west\n",
      "\n",
      "Items here:\n",
      "- sand\n",
      "- coin\n",
      "- cake\n",
      "\n",
      "Command?\n",
      "\n"
     ]
    }
   ],
   "source": [
    "inpt = 'south\\n'\n",
    "msg, _ = asc.run_program(inpt, pause_on_in=True, pause_at_in=len(inpt)+1, verbose=False)\n",
    "print(msg)"
   ]
  },
  {
   "cell_type": "code",
   "execution_count": 101,
   "metadata": {},
   "outputs": [
    {
     "name": "stdout",
     "output_type": "stream",
     "text": [
      "\n",
      "Items in your inventory:\n",
      "- astrolabe\n",
      "- food ration\n",
      "\n",
      "Command?\n",
      "\n"
     ]
    }
   ],
   "source": [
    "inpt = 'inv\\n'\n",
    "msg, _ = asc.run_program(inpt, pause_on_in=True, pause_at_in=len(inpt)+1, verbose=False)\n",
    "print(msg)"
   ]
  },
  {
   "cell_type": "code",
   "execution_count": 102,
   "metadata": {},
   "outputs": [
    {
     "name": "stdout",
     "output_type": "stream",
     "text": [
      "\n",
      "\n",
      "\n",
      "== Observatory ==\n",
      "There are a few telescopes; they're all bolted down, though.\n",
      "\n",
      "Doors here lead:\n",
      "- east\n",
      "- west\n",
      "\n",
      "Items here:\n",
      "- giant electromagnet\n",
      "\n",
      "Command?\n",
      "\n"
     ]
    }
   ],
   "source": [
    "inpt = 'west\\n'\n",
    "msg, _ = asc.run_program(inpt, pause_on_in=True, pause_at_in=len(inpt)+1, verbose=False)\n",
    "print(msg)"
   ]
  },
  {
   "cell_type": "code",
   "execution_count": 103,
   "metadata": {},
   "outputs": [
    {
     "name": "stdout",
     "output_type": "stream",
     "text": [
      "\n",
      "\n",
      "\n",
      "== Gift Wrapping Center ==\n",
      "How else do you wrap presents on the go?\n",
      "\n",
      "Doors here lead:\n",
      "- east\n",
      "- west\n",
      "\n",
      "Items here:\n",
      "- photons\n",
      "\n",
      "Command?\n",
      "\n"
     ]
    }
   ],
   "source": [
    "inpt = 'west\\n'\n",
    "msg, _ = asc.run_program(inpt, pause_on_in=True, pause_at_in=len(inpt)+1, verbose=False)\n",
    "print(msg)"
   ]
  },
  {
   "cell_type": "code",
   "execution_count": 104,
   "metadata": {},
   "outputs": [
    {
     "name": "stdout",
     "output_type": "stream",
     "text": [
      "\n",
      "\n",
      "\n",
      "== Corridor ==\n",
      "The metal walls and the metal floor are slightly different colors. Or are they?\n",
      "\n",
      "Doors here lead:\n",
      "- east\n",
      "- south\n",
      "- west\n",
      "\n",
      "Command?\n",
      "\n"
     ]
    }
   ],
   "source": [
    "inpt = 'west\\n'\n",
    "msg, _ = asc.run_program(inpt, pause_on_in=True, pause_at_in=len(inpt)+1, verbose=False)\n",
    "print(msg)"
   ]
  },
  {
   "cell_type": "code",
   "execution_count": 105,
   "metadata": {},
   "outputs": [
    {
     "name": "stdout",
     "output_type": "stream",
     "text": [
      "\n",
      "\n",
      "\n",
      "== Hull Breach ==\n",
      "You got in through a hole in the floor here. To keep your ship from also freezing, the hole has been sealed.\n",
      "\n",
      "Doors here lead:\n",
      "- north\n",
      "- east\n",
      "- south\n",
      "\n",
      "Command?\n",
      "\n"
     ]
    }
   ],
   "source": [
    "inpt = 'west\\n'\n",
    "msg, _ = asc.run_program(inpt, pause_on_in=True, pause_at_in=len(inpt)+1, verbose=False)\n",
    "print(msg)"
   ]
  },
  {
   "cell_type": "code",
   "execution_count": 106,
   "metadata": {},
   "outputs": [
    {
     "name": "stdout",
     "output_type": "stream",
     "text": [
      "\n",
      "\n",
      "\n",
      "== Engineering ==\n",
      "You see a whiteboard with plans for Springdroid v2.\n",
      "\n",
      "Doors here lead:\n",
      "- east\n",
      "- south\n",
      "- west\n",
      "\n",
      "Items here:\n",
      "- escape pod\n",
      "\n",
      "Command?\n",
      "\n"
     ]
    }
   ],
   "source": [
    "inpt = 'north\\n'\n",
    "msg, _ = asc.run_program(inpt, pause_on_in=True, pause_at_in=len(inpt)+1, verbose=False)\n",
    "print(msg)"
   ]
  },
  {
   "cell_type": "code",
   "execution_count": 107,
   "metadata": {},
   "outputs": [
    {
     "name": "stdout",
     "output_type": "stream",
     "text": [
      "\n",
      "\n",
      "\n",
      "== Navigation ==\n",
      "Status: Stranded. Please supply measurements from fifty stars to recalibrate.\n",
      "\n",
      "Doors here lead:\n",
      "- east\n",
      "- west\n",
      "\n",
      "Command?\n",
      "\n"
     ]
    }
   ],
   "source": [
    "inpt = 'east\\n'\n",
    "msg, _ = asc.run_program(inpt, pause_on_in=True, pause_at_in=len(inpt)+1, verbose=False)\n",
    "print(msg)"
   ]
  },
  {
   "cell_type": "code",
   "execution_count": 108,
   "metadata": {},
   "outputs": [
    {
     "name": "stdout",
     "output_type": "stream",
     "text": [
      "\n",
      "\n",
      "\n",
      "== Storage ==\n",
      "The boxes just contain more boxes.  Recursively.\n",
      "\n",
      "Doors here lead:\n",
      "- north\n",
      "- west\n",
      "\n",
      "Items here:\n",
      "- molten lava\n",
      "\n",
      "Command?\n",
      "\n"
     ]
    }
   ],
   "source": [
    "inpt = 'east\\n'\n",
    "msg, _ = asc.run_program(inpt, pause_on_in=True, pause_at_in=len(inpt)+1, verbose=False)\n",
    "print(msg)"
   ]
  },
  {
   "cell_type": "code",
   "execution_count": 109,
   "metadata": {},
   "outputs": [
    {
     "name": "stdout",
     "output_type": "stream",
     "text": [
      "\n",
      "You can't go that way.\n",
      "\n",
      "Command?\n",
      "\n"
     ]
    }
   ],
   "source": [
    "inpt = 'east\\n'\n",
    "msg, _ = asc.run_program(inpt, pause_on_in=True, pause_at_in=len(inpt)+1, verbose=False)\n",
    "print(msg)"
   ]
  },
  {
   "cell_type": "code",
   "execution_count": 110,
   "metadata": {},
   "outputs": [
    {
     "name": "stdout",
     "output_type": "stream",
     "text": [
      "\n",
      "\n",
      "\n",
      "== Sick Bay ==\n",
      "Supports both Red-Nosed Reindeer medicine and regular reindeer medicine.\n",
      "\n",
      "Doors here lead:\n",
      "- south\n",
      "\n",
      "Command?\n",
      "\n"
     ]
    }
   ],
   "source": [
    "inpt = 'north\\n'\n",
    "msg, _ = asc.run_program(inpt, pause_on_in=True, pause_at_in=len(inpt)+1, verbose=False)\n",
    "print(msg)"
   ]
  },
  {
   "cell_type": "code",
   "execution_count": 111,
   "metadata": {},
   "outputs": [
    {
     "name": "stdout",
     "output_type": "stream",
     "text": [
      "\n",
      "\n",
      "\n",
      "== Storage ==\n",
      "The boxes just contain more boxes.  Recursively.\n",
      "\n",
      "Doors here lead:\n",
      "- north\n",
      "- west\n",
      "\n",
      "Items here:\n",
      "- molten lava\n",
      "\n",
      "Command?\n",
      "\n"
     ]
    }
   ],
   "source": [
    "inpt = 'south\\n'\n",
    "msg, _ = asc.run_program(inpt, pause_on_in=True, pause_at_in=len(inpt)+1, verbose=False)\n",
    "print(msg)"
   ]
  },
  {
   "cell_type": "code",
   "execution_count": 112,
   "metadata": {},
   "outputs": [
    {
     "name": "stdout",
     "output_type": "stream",
     "text": [
      "\n",
      "\n",
      "\n",
      "== Navigation ==\n",
      "Status: Stranded. Please supply measurements from fifty stars to recalibrate.\n",
      "\n",
      "Doors here lead:\n",
      "- east\n",
      "- west\n",
      "\n",
      "Command?\n",
      "\n"
     ]
    }
   ],
   "source": [
    "inpt = 'west\\n'\n",
    "msg, _ = asc.run_program(inpt, pause_on_in=True, pause_at_in=len(inpt)+1, verbose=False)\n",
    "print(msg)"
   ]
  },
  {
   "cell_type": "code",
   "execution_count": 113,
   "metadata": {},
   "outputs": [
    {
     "name": "stdout",
     "output_type": "stream",
     "text": [
      "\n",
      "\n",
      "\n",
      "== Engineering ==\n",
      "You see a whiteboard with plans for Springdroid v2.\n",
      "\n",
      "Doors here lead:\n",
      "- east\n",
      "- south\n",
      "- west\n",
      "\n",
      "Items here:\n",
      "- escape pod\n",
      "\n",
      "Command?\n",
      "\n"
     ]
    }
   ],
   "source": [
    "inpt = 'west\\n'\n",
    "msg, _ = asc.run_program(inpt, pause_on_in=True, pause_at_in=len(inpt)+1, verbose=False)\n",
    "print(msg)"
   ]
  },
  {
   "cell_type": "code",
   "execution_count": 114,
   "metadata": {},
   "outputs": [
    {
     "name": "stdout",
     "output_type": "stream",
     "text": [
      "\n",
      "\n",
      "\n",
      "== Hot Chocolate Fountain ==\n",
      "Somehow, it's still working.\n",
      "\n",
      "Doors here lead:\n",
      "- east\n",
      "\n",
      "Command?\n",
      "\n"
     ]
    }
   ],
   "source": [
    "inpt = 'west\\n'\n",
    "msg, _ = asc.run_program(inpt, pause_on_in=True, pause_at_in=len(inpt)+1, verbose=False)\n",
    "print(msg)"
   ]
  },
  {
   "cell_type": "code",
   "execution_count": 115,
   "metadata": {},
   "outputs": [
    {
     "name": "stdout",
     "output_type": "stream",
     "text": [
      "\n",
      "\n",
      "\n",
      "== Engineering ==\n",
      "You see a whiteboard with plans for Springdroid v2.\n",
      "\n",
      "Doors here lead:\n",
      "- east\n",
      "- south\n",
      "- west\n",
      "\n",
      "Items here:\n",
      "- escape pod\n",
      "\n",
      "Command?\n",
      "\n"
     ]
    }
   ],
   "source": [
    "inpt = 'east\\n'\n",
    "msg, _ = asc.run_program(inpt, pause_on_in=True, pause_at_in=len(inpt)+1, verbose=False)\n",
    "print(msg)"
   ]
  },
  {
   "cell_type": "code",
   "execution_count": 116,
   "metadata": {},
   "outputs": [
    {
     "name": "stdout",
     "output_type": "stream",
     "text": [
      "\n",
      "\n",
      "\n",
      "== Hull Breach ==\n",
      "You got in through a hole in the floor here. To keep your ship from also freezing, the hole has been sealed.\n",
      "\n",
      "Doors here lead:\n",
      "- north\n",
      "- east\n",
      "- south\n",
      "\n",
      "Command?\n",
      "\n"
     ]
    }
   ],
   "source": [
    "inpt = 'south\\n'\n",
    "msg, _ = asc.run_program(inpt, pause_on_in=True, pause_at_in=len(inpt)+1, verbose=False)\n",
    "print(msg)"
   ]
  },
  {
   "cell_type": "code",
   "execution_count": 117,
   "metadata": {},
   "outputs": [
    {
     "name": "stdout",
     "output_type": "stream",
     "text": [
      "\n",
      "\n",
      "\n",
      "== Corridor ==\n",
      "The metal walls and the metal floor are slightly different colors. Or are they?\n",
      "\n",
      "Doors here lead:\n",
      "- east\n",
      "- south\n",
      "- west\n",
      "\n",
      "Command?\n",
      "\n"
     ]
    }
   ],
   "source": [
    "inpt = 'east\\n'\n",
    "msg, _ = asc.run_program(inpt, pause_on_in=True, pause_at_in=len(inpt)+1, verbose=False)\n",
    "print(msg)"
   ]
  },
  {
   "cell_type": "code",
   "execution_count": 118,
   "metadata": {},
   "outputs": [
    {
     "name": "stdout",
     "output_type": "stream",
     "text": [
      "\n",
      "You can't go that way.\n",
      "\n",
      "Command?\n",
      "\n"
     ]
    }
   ],
   "source": [
    "inpt = 'north\\n'\n",
    "msg, _ = asc.run_program(inpt, pause_on_in=True, pause_at_in=len(inpt)+1, verbose=False)\n",
    "print(msg)"
   ]
  },
  {
   "cell_type": "code",
   "execution_count": 119,
   "metadata": {},
   "outputs": [
    {
     "name": "stdout",
     "output_type": "stream",
     "text": [
      "\n",
      "\n",
      "\n",
      "== Hallway ==\n",
      "This area has been optimized for something; you're just not quite sure what.\n",
      "\n",
      "Doors here lead:\n",
      "- north\n",
      "- east\n",
      "- west\n",
      "\n",
      "Items here:\n",
      "- weather machine\n",
      "\n",
      "Command?\n",
      "\n"
     ]
    }
   ],
   "source": [
    "inpt = 'south\\n'\n",
    "msg, _ = asc.run_program(inpt, pause_on_in=True, pause_at_in=len(inpt)+1, verbose=False)\n",
    "print(msg)"
   ]
  },
  {
   "cell_type": "code",
   "execution_count": 120,
   "metadata": {},
   "outputs": [
    {
     "name": "stdout",
     "output_type": "stream",
     "text": [
      "\n",
      "\n",
      "\n",
      "== Stables ==\n",
      "Reindeer-sized. They're all empty.\n",
      "\n",
      "Doors here lead:\n",
      "- west\n",
      "\n",
      "Command?\n",
      "\n"
     ]
    }
   ],
   "source": [
    "inpt = 'east\\n'\n",
    "msg, _ = asc.run_program(inpt, pause_on_in=True, pause_at_in=len(inpt)+1, verbose=False)\n",
    "print(msg)"
   ]
  },
  {
   "cell_type": "code",
   "execution_count": 121,
   "metadata": {},
   "outputs": [
    {
     "name": "stdout",
     "output_type": "stream",
     "text": [
      "\n",
      "\n",
      "\n",
      "== Hallway ==\n",
      "This area has been optimized for something; you're just not quite sure what.\n",
      "\n",
      "Doors here lead:\n",
      "- north\n",
      "- east\n",
      "- west\n",
      "\n",
      "Items here:\n",
      "- weather machine\n",
      "\n",
      "Command?\n",
      "\n"
     ]
    }
   ],
   "source": [
    "inpt = 'west\\n'\n",
    "msg, _ = asc.run_program(inpt, pause_on_in=True, pause_at_in=len(inpt)+1, verbose=False)\n",
    "print(msg)"
   ]
  },
  {
   "cell_type": "code",
   "execution_count": 122,
   "metadata": {},
   "outputs": [
    {
     "name": "stdout",
     "output_type": "stream",
     "text": [
      "\n",
      "\n",
      "\n",
      "== Science Lab ==\n",
      "You see evidence here of prototype polymer design work.\n",
      "\n",
      "Doors here lead:\n",
      "- east\n",
      "- west\n",
      "\n",
      "Items here:\n",
      "- ornament\n",
      "\n",
      "Command?\n",
      "\n"
     ]
    }
   ],
   "source": [
    "inpt = 'west\\n'\n",
    "msg, _ = asc.run_program(inpt, pause_on_in=True, pause_at_in=len(inpt)+1, verbose=False)\n",
    "print(msg)"
   ]
  },
  {
   "cell_type": "code",
   "execution_count": 123,
   "metadata": {},
   "outputs": [
    {
     "name": "stdout",
     "output_type": "stream",
     "text": [
      "\n",
      "You take the ornament.\n",
      "\n",
      "Command?\n",
      "\n"
     ]
    }
   ],
   "source": [
    "inpt = 'take ornament\\n'\n",
    "msg, _ = asc.run_program(inpt, pause_on_in=True, pause_at_in=len(inpt)+1, verbose=False)\n",
    "print(msg)"
   ]
  },
  {
   "cell_type": "code",
   "execution_count": 124,
   "metadata": {},
   "outputs": [
    {
     "name": "stdout",
     "output_type": "stream",
     "text": [
      "\n",
      "\n",
      "\n",
      "== Crew Quarters ==\n",
      "The beds are all too small for you.\n",
      "\n",
      "Doors here lead:\n",
      "- east\n",
      "\n",
      "Items here:\n",
      "- jam\n",
      "\n",
      "Command?\n",
      "\n"
     ]
    }
   ],
   "source": [
    "inpt = 'west\\n'\n",
    "msg, _ = asc.run_program(inpt, pause_on_in=True, pause_at_in=len(inpt)+1, verbose=False)\n",
    "print(msg)"
   ]
  },
  {
   "cell_type": "code",
   "execution_count": 125,
   "metadata": {},
   "outputs": [
    {
     "name": "stdout",
     "output_type": "stream",
     "text": [
      "\n",
      "You take the jam.\n",
      "\n",
      "Command?\n",
      "\n"
     ]
    }
   ],
   "source": [
    "inpt = 'take jam\\n'\n",
    "msg, _ = asc.run_program(inpt, pause_on_in=True, pause_at_in=len(inpt)+1, verbose=False)\n",
    "print(msg)"
   ]
  },
  {
   "cell_type": "code",
   "execution_count": 126,
   "metadata": {},
   "outputs": [
    {
     "name": "stdout",
     "output_type": "stream",
     "text": [
      "\n",
      "\n",
      "\n",
      "== Science Lab ==\n",
      "You see evidence here of prototype polymer design work.\n",
      "\n",
      "Doors here lead:\n",
      "- east\n",
      "- west\n",
      "\n",
      "Command?\n",
      "\n"
     ]
    }
   ],
   "source": [
    "inpt = 'east\\n'\n",
    "msg, _ = asc.run_program(inpt, pause_on_in=True, pause_at_in=len(inpt)+1, verbose=False)\n",
    "print(msg)"
   ]
  },
  {
   "cell_type": "code",
   "execution_count": 127,
   "metadata": {},
   "outputs": [
    {
     "name": "stdout",
     "output_type": "stream",
     "text": [
      "\n",
      "\n",
      "\n",
      "== Hallway ==\n",
      "This area has been optimized for something; you're just not quite sure what.\n",
      "\n",
      "Doors here lead:\n",
      "- north\n",
      "- east\n",
      "- west\n",
      "\n",
      "Items here:\n",
      "- weather machine\n",
      "\n",
      "Command?\n",
      "\n"
     ]
    }
   ],
   "source": [
    "inpt = 'east\\n'\n",
    "msg, _ = asc.run_program(inpt, pause_on_in=True, pause_at_in=len(inpt)+1, verbose=False)\n",
    "print(msg)"
   ]
  },
  {
   "cell_type": "code",
   "execution_count": 128,
   "metadata": {},
   "outputs": [
    {
     "name": "stdout",
     "output_type": "stream",
     "text": [
      "\n",
      "\n",
      "\n",
      "== Corridor ==\n",
      "The metal walls and the metal floor are slightly different colors. Or are they?\n",
      "\n",
      "Doors here lead:\n",
      "- east\n",
      "- south\n",
      "- west\n",
      "\n",
      "Command?\n",
      "\n"
     ]
    }
   ],
   "source": [
    "inpt = 'north\\n'\n",
    "msg, _ = asc.run_program(inpt, pause_on_in=True, pause_at_in=len(inpt)+1, verbose=False)\n",
    "print(msg)"
   ]
  },
  {
   "cell_type": "code",
   "execution_count": 129,
   "metadata": {},
   "outputs": [
    {
     "name": "stdout",
     "output_type": "stream",
     "text": [
      "\n",
      "\n",
      "\n",
      "== Gift Wrapping Center ==\n",
      "How else do you wrap presents on the go?\n",
      "\n",
      "Doors here lead:\n",
      "- east\n",
      "- west\n",
      "\n",
      "Items here:\n",
      "- photons\n",
      "\n",
      "Command?\n",
      "\n"
     ]
    }
   ],
   "source": [
    "inpt = 'east\\n'\n",
    "msg, _ = asc.run_program(inpt, pause_on_in=True, pause_at_in=len(inpt)+1, verbose=False)\n",
    "print(msg)"
   ]
  },
  {
   "cell_type": "code",
   "execution_count": 130,
   "metadata": {},
   "outputs": [
    {
     "name": "stdout",
     "output_type": "stream",
     "text": [
      "\n",
      "\n",
      "\n",
      "== Observatory ==\n",
      "There are a few telescopes; they're all bolted down, though.\n",
      "\n",
      "Doors here lead:\n",
      "- east\n",
      "- west\n",
      "\n",
      "Items here:\n",
      "- giant electromagnet\n",
      "\n",
      "Command?\n",
      "\n"
     ]
    }
   ],
   "source": [
    "inpt = 'east\\n'\n",
    "msg, _ = asc.run_program(inpt, pause_on_in=True, pause_at_in=len(inpt)+1, verbose=False)\n",
    "print(msg)"
   ]
  },
  {
   "cell_type": "code",
   "execution_count": 131,
   "metadata": {},
   "outputs": [
    {
     "name": "stdout",
     "output_type": "stream",
     "text": [
      "\n",
      "\n",
      "\n",
      "== Security Checkpoint ==\n",
      "In the next room, a pressure-sensitive floor will verify your identity.\n",
      "\n",
      "Doors here lead:\n",
      "- south\n",
      "- west\n",
      "\n",
      "Items here:\n",
      "- sand\n",
      "- coin\n",
      "- cake\n",
      "\n",
      "Command?\n",
      "\n"
     ]
    }
   ],
   "source": [
    "inpt = 'east\\n'\n",
    "msg, _ = asc.run_program(inpt, pause_on_in=True, pause_at_in=len(inpt)+1, verbose=False)\n",
    "print(msg)"
   ]
  },
  {
   "cell_type": "code",
   "execution_count": 132,
   "metadata": {},
   "outputs": [
    {
     "name": "stdout",
     "output_type": "stream",
     "text": [
      "\n",
      "\n",
      "\n",
      "== Pressure-Sensitive Floor ==\n",
      "Analyzing...\n",
      "\n",
      "Doors here lead:\n",
      "- north\n",
      "\n",
      "A loud, robotic voice says \"Alert! Droids on this ship are heavier than the detected value!\" and you are ejected back to the checkpoint.\n",
      "\n",
      "\n",
      "\n",
      "== Security Checkpoint ==\n",
      "In the next room, a pressure-sensitive floor will verify your identity.\n",
      "\n",
      "Doors here lead:\n",
      "- south\n",
      "- west\n",
      "\n",
      "Items here:\n",
      "- sand\n",
      "- coin\n",
      "- cake\n",
      "\n",
      "Command?\n",
      "\n"
     ]
    }
   ],
   "source": [
    "inpt = 'south\\n'\n",
    "msg, _ = asc.run_program(inpt, pause_on_in=True, pause_at_in=len(inpt)+1, verbose=False)\n",
    "print(msg)"
   ]
  },
  {
   "cell_type": "code",
   "execution_count": 133,
   "metadata": {},
   "outputs": [
    {
     "name": "stdout",
     "output_type": "stream",
     "text": [
      "\n",
      "Items in your inventory:\n",
      "- jam\n",
      "- astrolabe\n",
      "- ornament\n",
      "- food ration\n",
      "\n",
      "Command?\n",
      "\n"
     ]
    }
   ],
   "source": [
    "inpt = 'inv\\n'\n",
    "msg, _ = asc.run_program(inpt, pause_on_in=True, pause_at_in=len(inpt)+1, verbose=False)\n",
    "print(msg)"
   ]
  },
  {
   "cell_type": "code",
   "execution_count": 134,
   "metadata": {},
   "outputs": [
    {
     "name": "stdout",
     "output_type": "stream",
     "text": [
      "\n",
      "You drop the jam.\n",
      "\n",
      "Command?\n",
      "\n"
     ]
    }
   ],
   "source": [
    "inpt = 'drop jam\\n'\n",
    "msg, _ = asc.run_program(inpt, pause_on_in=True, pause_at_in=len(inpt)+1, verbose=False)\n",
    "print(msg)"
   ]
  },
  {
   "cell_type": "code",
   "execution_count": 135,
   "metadata": {},
   "outputs": [
    {
     "name": "stdout",
     "output_type": "stream",
     "text": [
      "\n",
      "You drop the astrolabe.\n",
      "\n",
      "Command?\n",
      "\n"
     ]
    }
   ],
   "source": [
    "inpt = 'drop astrolabe\\n'\n",
    "msg, _ = asc.run_program(inpt, pause_on_in=True, pause_at_in=len(inpt)+1, verbose=False)\n",
    "print(msg)"
   ]
  },
  {
   "cell_type": "code",
   "execution_count": 136,
   "metadata": {},
   "outputs": [
    {
     "name": "stdout",
     "output_type": "stream",
     "text": [
      "\n",
      "You drop the food ration.\n",
      "\n",
      "Command?\n",
      "\n"
     ]
    }
   ],
   "source": [
    "inpt = 'drop food ration\\n'\n",
    "msg, _ = asc.run_program(inpt, pause_on_in=True, pause_at_in=len(inpt)+1, verbose=False)\n",
    "print(msg)"
   ]
  },
  {
   "cell_type": "code",
   "execution_count": 137,
   "metadata": {},
   "outputs": [
    {
     "name": "stdout",
     "output_type": "stream",
     "text": [
      "\n",
      "\n",
      "\n",
      "== Pressure-Sensitive Floor ==\n",
      "Analyzing...\n",
      "\n",
      "Doors here lead:\n",
      "- north\n",
      "\n",
      "A loud, robotic voice says \"Alert! Droids on this ship are heavier than the detected value!\" and you are ejected back to the checkpoint.\n",
      "\n",
      "\n",
      "\n",
      "== Security Checkpoint ==\n",
      "In the next room, a pressure-sensitive floor will verify your identity.\n",
      "\n",
      "Doors here lead:\n",
      "- south\n",
      "- west\n",
      "\n",
      "Items here:\n",
      "- sand\n",
      "- coin\n",
      "- jam\n",
      "- astrolabe\n",
      "- food ration\n",
      "- cake\n",
      "\n",
      "Command?\n",
      "\n"
     ]
    }
   ],
   "source": [
    "inpt = 'south\\n'\n",
    "msg, _ = asc.run_program(inpt, pause_on_in=True, pause_at_in=len(inpt)+1, verbose=False)\n",
    "print(msg)"
   ]
  },
  {
   "cell_type": "code",
   "execution_count": 138,
   "metadata": {},
   "outputs": [
    {
     "name": "stdout",
     "output_type": "stream",
     "text": [
      "\n",
      "You drop the ornament.\n",
      "\n",
      "Command?\n",
      "\n"
     ]
    }
   ],
   "source": [
    "inpt = 'drop ornament\\n'\n",
    "msg, _ = asc.run_program(inpt, pause_on_in=True, pause_at_in=len(inpt)+1, verbose=False)\n",
    "print(msg)"
   ]
  },
  {
   "cell_type": "code",
   "execution_count": 139,
   "metadata": {},
   "outputs": [
    {
     "name": "stdout",
     "output_type": "stream",
     "text": [
      "\n",
      "You take the jam.\n",
      "\n",
      "Command?\n",
      "\n"
     ]
    }
   ],
   "source": [
    "inpt = 'take jam\\n'\n",
    "msg, _ = asc.run_program(inpt, pause_on_in=True, pause_at_in=len(inpt)+1, verbose=False)\n",
    "print(msg)"
   ]
  },
  {
   "cell_type": "code",
   "execution_count": 140,
   "metadata": {},
   "outputs": [
    {
     "name": "stdout",
     "output_type": "stream",
     "text": [
      "\n",
      "\n",
      "\n",
      "== Pressure-Sensitive Floor ==\n",
      "Analyzing...\n",
      "\n",
      "Doors here lead:\n",
      "- north\n",
      "\n",
      "A loud, robotic voice says \"Alert! Droids on this ship are heavier than the detected value!\" and you are ejected back to the checkpoint.\n",
      "\n",
      "\n",
      "\n",
      "== Security Checkpoint ==\n",
      "In the next room, a pressure-sensitive floor will verify your identity.\n",
      "\n",
      "Doors here lead:\n",
      "- south\n",
      "- west\n",
      "\n",
      "Items here:\n",
      "- sand\n",
      "- coin\n",
      "- astrolabe\n",
      "- ornament\n",
      "- food ration\n",
      "- cake\n",
      "\n",
      "Command?\n",
      "\n"
     ]
    }
   ],
   "source": [
    "inpt = 'south\\n'\n",
    "msg, _ = asc.run_program(inpt, pause_on_in=True, pause_at_in=len(inpt)+1, verbose=False)\n",
    "print(msg)"
   ]
  },
  {
   "cell_type": "code",
   "execution_count": 141,
   "metadata": {},
   "outputs": [
    {
     "name": "stdout",
     "output_type": "stream",
     "text": [
      "\n",
      "You take the cake.\n",
      "\n",
      "Command?\n",
      "\n"
     ]
    }
   ],
   "source": [
    "inpt = 'take cake\\n'\n",
    "msg, _ = asc.run_program(inpt, pause_on_in=True, pause_at_in=len(inpt)+1, verbose=False)\n",
    "print(msg)"
   ]
  },
  {
   "cell_type": "code",
   "execution_count": 142,
   "metadata": {},
   "outputs": [
    {
     "name": "stdout",
     "output_type": "stream",
     "text": [
      "\n",
      "\n",
      "\n",
      "== Pressure-Sensitive Floor ==\n",
      "Analyzing...\n",
      "\n",
      "Doors here lead:\n",
      "- north\n",
      "\n",
      "A loud, robotic voice says \"Alert! Droids on this ship are lighter than the detected value!\" and you are ejected back to the checkpoint.\n",
      "\n",
      "\n",
      "\n",
      "== Security Checkpoint ==\n",
      "In the next room, a pressure-sensitive floor will verify your identity.\n",
      "\n",
      "Doors here lead:\n",
      "- south\n",
      "- west\n",
      "\n",
      "Items here:\n",
      "- sand\n",
      "- coin\n",
      "- astrolabe\n",
      "- ornament\n",
      "- food ration\n",
      "\n",
      "Command?\n",
      "\n"
     ]
    }
   ],
   "source": [
    "inpt = 'south\\n'\n",
    "msg, _ = asc.run_program(inpt, pause_on_in=True, pause_at_in=len(inpt)+1, verbose=False)\n",
    "print(msg)"
   ]
  },
  {
   "cell_type": "code",
   "execution_count": 143,
   "metadata": {},
   "outputs": [
    {
     "name": "stdout",
     "output_type": "stream",
     "text": [
      "\n",
      "You drop the cake.\n",
      "\n",
      "Command?\n",
      "\n"
     ]
    }
   ],
   "source": [
    "inpt = 'drop cake\\n'\n",
    "msg, _ = asc.run_program(inpt, pause_on_in=True, pause_at_in=len(inpt)+1, verbose=False)\n",
    "print(msg)"
   ]
  },
  {
   "cell_type": "code",
   "execution_count": 144,
   "metadata": {},
   "outputs": [
    {
     "name": "stdout",
     "output_type": "stream",
     "text": [
      "\n",
      "Items in your inventory:\n",
      "- jam\n",
      "\n",
      "Command?\n",
      "\n"
     ]
    }
   ],
   "source": [
    "inpt = 'inv\\n'\n",
    "msg, _ = asc.run_program(inpt, pause_on_in=True, pause_at_in=len(inpt)+1, verbose=False)\n",
    "print(msg)"
   ]
  },
  {
   "cell_type": "code",
   "execution_count": 145,
   "metadata": {},
   "outputs": [
    {
     "name": "stdout",
     "output_type": "stream",
     "text": [
      "\n",
      "You drop the jam.\n",
      "\n",
      "Command?\n",
      "\n"
     ]
    }
   ],
   "source": [
    "inpt = 'drop jam\\n'\n",
    "msg, _ = asc.run_program(inpt, pause_on_in=True, pause_at_in=len(inpt)+1, verbose=False)\n",
    "print(msg)"
   ]
  },
  {
   "cell_type": "code",
   "execution_count": 146,
   "metadata": {},
   "outputs": [
    {
     "name": "stdout",
     "output_type": "stream",
     "text": [
      "\n",
      "\n",
      "\n",
      "== Observatory ==\n",
      "There are a few telescopes; they're all bolted down, though.\n",
      "\n",
      "Doors here lead:\n",
      "- east\n",
      "- west\n",
      "\n",
      "Items here:\n",
      "- giant electromagnet\n",
      "\n",
      "Command?\n",
      "\n"
     ]
    }
   ],
   "source": [
    "inpt = 'west\\n'\n",
    "msg, _ = asc.run_program(inpt, pause_on_in=True, pause_at_in=len(inpt)+1, verbose=False)\n",
    "print(msg)"
   ]
  },
  {
   "cell_type": "code",
   "execution_count": 147,
   "metadata": {},
   "outputs": [
    {
     "name": "stdout",
     "output_type": "stream",
     "text": [
      "\n",
      "\n",
      "\n",
      "== Gift Wrapping Center ==\n",
      "How else do you wrap presents on the go?\n",
      "\n",
      "Doors here lead:\n",
      "- east\n",
      "- west\n",
      "\n",
      "Items here:\n",
      "- photons\n",
      "\n",
      "Command?\n",
      "\n"
     ]
    }
   ],
   "source": [
    "inpt = 'west\\n'\n",
    "msg, _ = asc.run_program(inpt, pause_on_in=True, pause_at_in=len(inpt)+1, verbose=False)\n",
    "print(msg)"
   ]
  },
  {
   "cell_type": "code",
   "execution_count": 148,
   "metadata": {},
   "outputs": [
    {
     "name": "stdout",
     "output_type": "stream",
     "text": [
      "\n",
      "\n",
      "\n",
      "== Corridor ==\n",
      "The metal walls and the metal floor are slightly different colors. Or are they?\n",
      "\n",
      "Doors here lead:\n",
      "- east\n",
      "- south\n",
      "- west\n",
      "\n",
      "Command?\n",
      "\n"
     ]
    }
   ],
   "source": [
    "inpt = 'west\\n'\n",
    "msg, _ = asc.run_program(inpt, pause_on_in=True, pause_at_in=len(inpt)+1, verbose=False)\n",
    "print(msg)"
   ]
  },
  {
   "cell_type": "code",
   "execution_count": 149,
   "metadata": {},
   "outputs": [
    {
     "name": "stdout",
     "output_type": "stream",
     "text": [
      "\n",
      "\n",
      "\n",
      "== Hallway ==\n",
      "This area has been optimized for something; you're just not quite sure what.\n",
      "\n",
      "Doors here lead:\n",
      "- north\n",
      "- east\n",
      "- west\n",
      "\n",
      "Items here:\n",
      "- weather machine\n",
      "\n",
      "Command?\n",
      "\n"
     ]
    }
   ],
   "source": [
    "inpt = 'south\\n'\n",
    "msg, _ = asc.run_program(inpt, pause_on_in=True, pause_at_in=len(inpt)+1, verbose=False)\n",
    "print(msg)"
   ]
  },
  {
   "cell_type": "code",
   "execution_count": 150,
   "metadata": {},
   "outputs": [
    {
     "name": "stdout",
     "output_type": "stream",
     "text": [
      "\n",
      "You take the weather machine.\n",
      "\n",
      "Command?\n",
      "\n"
     ]
    }
   ],
   "source": [
    "inpt = 'take weather machine\\n'\n",
    "msg, _ = asc.run_program(inpt, pause_on_in=True, pause_at_in=len(inpt)+1, verbose=False)\n",
    "print(msg)"
   ]
  },
  {
   "cell_type": "code",
   "execution_count": 151,
   "metadata": {},
   "outputs": [
    {
     "name": "stdout",
     "output_type": "stream",
     "text": [
      "\n",
      "\n",
      "\n",
      "== Corridor ==\n",
      "The metal walls and the metal floor are slightly different colors. Or are they?\n",
      "\n",
      "Doors here lead:\n",
      "- east\n",
      "- south\n",
      "- west\n",
      "\n",
      "Command?\n",
      "\n"
     ]
    }
   ],
   "source": [
    "inpt = 'north\\n'\n",
    "msg, _ = asc.run_program(inpt, pause_on_in=True, pause_at_in=len(inpt)+1, verbose=False)\n",
    "print(msg)"
   ]
  },
  {
   "cell_type": "code",
   "execution_count": 152,
   "metadata": {},
   "outputs": [
    {
     "name": "stdout",
     "output_type": "stream",
     "text": [
      "\n",
      "\n",
      "\n",
      "== Gift Wrapping Center ==\n",
      "How else do you wrap presents on the go?\n",
      "\n",
      "Doors here lead:\n",
      "- east\n",
      "- west\n",
      "\n",
      "Items here:\n",
      "- photons\n",
      "\n",
      "Command?\n",
      "\n"
     ]
    }
   ],
   "source": [
    "inpt = 'east\\n'\n",
    "msg, _ = asc.run_program(inpt, pause_on_in=True, pause_at_in=len(inpt)+1, verbose=False)\n",
    "print(msg)"
   ]
  },
  {
   "cell_type": "code",
   "execution_count": 153,
   "metadata": {},
   "outputs": [
    {
     "name": "stdout",
     "output_type": "stream",
     "text": [
      "\n",
      "\n",
      "\n",
      "== Observatory ==\n",
      "There are a few telescopes; they're all bolted down, though.\n",
      "\n",
      "Doors here lead:\n",
      "- east\n",
      "- west\n",
      "\n",
      "Items here:\n",
      "- giant electromagnet\n",
      "\n",
      "Command?\n",
      "\n"
     ]
    }
   ],
   "source": [
    "inpt = 'east\\n'\n",
    "msg, _ = asc.run_program(inpt, pause_on_in=True, pause_at_in=len(inpt)+1, verbose=False)\n",
    "print(msg)"
   ]
  },
  {
   "cell_type": "code",
   "execution_count": 154,
   "metadata": {},
   "outputs": [
    {
     "name": "stdout",
     "output_type": "stream",
     "text": [
      "\n",
      "\n",
      "\n",
      "== Security Checkpoint ==\n",
      "In the next room, a pressure-sensitive floor will verify your identity.\n",
      "\n",
      "Doors here lead:\n",
      "- south\n",
      "- west\n",
      "\n",
      "Items here:\n",
      "- sand\n",
      "- coin\n",
      "- jam\n",
      "- astrolabe\n",
      "- ornament\n",
      "- food ration\n",
      "- cake\n",
      "\n",
      "Command?\n",
      "\n"
     ]
    }
   ],
   "source": [
    "inpt = 'east\\n'\n",
    "msg, _ = asc.run_program(inpt, pause_on_in=True, pause_at_in=len(inpt)+1, verbose=False)\n",
    "print(msg)"
   ]
  },
  {
   "cell_type": "code",
   "execution_count": 155,
   "metadata": {},
   "outputs": [
    {
     "name": "stdout",
     "output_type": "stream",
     "text": [
      "\n",
      "\n",
      "\n",
      "== Pressure-Sensitive Floor ==\n",
      "Analyzing...\n",
      "\n",
      "Doors here lead:\n",
      "- north\n",
      "\n",
      "A loud, robotic voice says \"Alert! Droids on this ship are heavier than the detected value!\" and you are ejected back to the checkpoint.\n",
      "\n",
      "\n",
      "\n",
      "== Security Checkpoint ==\n",
      "In the next room, a pressure-sensitive floor will verify your identity.\n",
      "\n",
      "Doors here lead:\n",
      "- south\n",
      "- west\n",
      "\n",
      "Items here:\n",
      "- sand\n",
      "- coin\n",
      "- jam\n",
      "- astrolabe\n",
      "- ornament\n",
      "- food ration\n",
      "- cake\n",
      "\n",
      "Command?\n",
      "\n"
     ]
    }
   ],
   "source": [
    "inpt = 'south\\n'\n",
    "msg, _ = asc.run_program(inpt, pause_on_in=True, pause_at_in=len(inpt)+1, verbose=False)\n",
    "print(msg)"
   ]
  },
  {
   "cell_type": "code",
   "execution_count": 156,
   "metadata": {},
   "outputs": [
    {
     "name": "stdout",
     "output_type": "stream",
     "text": [
      "\n",
      "You take the jam.\n",
      "\n",
      "Command?\n",
      "\n"
     ]
    }
   ],
   "source": [
    "inpt = 'take jam\\n'\n",
    "msg, _ = asc.run_program(inpt, pause_on_in=True, pause_at_in=len(inpt)+1, verbose=False)\n",
    "print(msg)"
   ]
  },
  {
   "cell_type": "code",
   "execution_count": 157,
   "metadata": {},
   "outputs": [
    {
     "name": "stdout",
     "output_type": "stream",
     "text": [
      "\n",
      "\n",
      "\n",
      "== Pressure-Sensitive Floor ==\n",
      "Analyzing...\n",
      "\n",
      "Doors here lead:\n",
      "- north\n",
      "\n",
      "A loud, robotic voice says \"Alert! Droids on this ship are heavier than the detected value!\" and you are ejected back to the checkpoint.\n",
      "\n",
      "\n",
      "\n",
      "== Security Checkpoint ==\n",
      "In the next room, a pressure-sensitive floor will verify your identity.\n",
      "\n",
      "Doors here lead:\n",
      "- south\n",
      "- west\n",
      "\n",
      "Items here:\n",
      "- sand\n",
      "- coin\n",
      "- astrolabe\n",
      "- ornament\n",
      "- food ration\n",
      "- cake\n",
      "\n",
      "Command?\n",
      "\n"
     ]
    }
   ],
   "source": [
    "inpt = 'south\\n'\n",
    "msg, _ = asc.run_program(inpt, pause_on_in=True, pause_at_in=len(inpt)+1, verbose=False)\n",
    "print(msg)"
   ]
  },
  {
   "cell_type": "code",
   "execution_count": 158,
   "metadata": {},
   "outputs": [
    {
     "name": "stdout",
     "output_type": "stream",
     "text": [
      "\n",
      "You take the ornament.\n",
      "\n",
      "Command?\n",
      "\n"
     ]
    }
   ],
   "source": [
    "inpt = 'take ornament\\n'\n",
    "msg, _ = asc.run_program(inpt, pause_on_in=True, pause_at_in=len(inpt)+1, verbose=False)\n",
    "print(msg)"
   ]
  },
  {
   "cell_type": "code",
   "execution_count": 159,
   "metadata": {},
   "outputs": [
    {
     "name": "stdout",
     "output_type": "stream",
     "text": [
      "\n",
      "\n",
      "\n",
      "== Pressure-Sensitive Floor ==\n",
      "Analyzing...\n",
      "\n",
      "Doors here lead:\n",
      "- north\n",
      "\n",
      "A loud, robotic voice says \"Alert! Droids on this ship are heavier than the detected value!\" and you are ejected back to the checkpoint.\n",
      "\n",
      "\n",
      "\n",
      "== Security Checkpoint ==\n",
      "In the next room, a pressure-sensitive floor will verify your identity.\n",
      "\n",
      "Doors here lead:\n",
      "- south\n",
      "- west\n",
      "\n",
      "Items here:\n",
      "- sand\n",
      "- coin\n",
      "- astrolabe\n",
      "- food ration\n",
      "- cake\n",
      "\n",
      "Command?\n",
      "\n"
     ]
    }
   ],
   "source": [
    "inpt = 'south\\n'\n",
    "msg, _ = asc.run_program(inpt, pause_on_in=True, pause_at_in=len(inpt)+1, verbose=False)\n",
    "print(msg)"
   ]
  },
  {
   "cell_type": "code",
   "execution_count": 160,
   "metadata": {},
   "outputs": [
    {
     "name": "stdout",
     "output_type": "stream",
     "text": [
      "\n",
      "You take the astrolabe.\n",
      "\n",
      "Command?\n",
      "\n"
     ]
    }
   ],
   "source": [
    "inpt = 'take astrolabe\\n'\n",
    "msg, _ = asc.run_program(inpt, pause_on_in=True, pause_at_in=len(inpt)+1, verbose=False)\n",
    "print(msg)"
   ]
  },
  {
   "cell_type": "code",
   "execution_count": 161,
   "metadata": {},
   "outputs": [
    {
     "name": "stdout",
     "output_type": "stream",
     "text": [
      "\n",
      "\n",
      "\n",
      "== Pressure-Sensitive Floor ==\n",
      "Analyzing...\n",
      "\n",
      "Doors here lead:\n",
      "- north\n",
      "\n",
      "A loud, robotic voice says \"Alert! Droids on this ship are heavier than the detected value!\" and you are ejected back to the checkpoint.\n",
      "\n",
      "\n",
      "\n",
      "== Security Checkpoint ==\n",
      "In the next room, a pressure-sensitive floor will verify your identity.\n",
      "\n",
      "Doors here lead:\n",
      "- south\n",
      "- west\n",
      "\n",
      "Items here:\n",
      "- sand\n",
      "- coin\n",
      "- food ration\n",
      "- cake\n",
      "\n",
      "Command?\n",
      "\n"
     ]
    }
   ],
   "source": [
    "inpt = 'south\\n'\n",
    "msg, _ = asc.run_program(inpt, pause_on_in=True, pause_at_in=len(inpt)+1, verbose=False)\n",
    "print(msg)"
   ]
  },
  {
   "cell_type": "code",
   "execution_count": 162,
   "metadata": {},
   "outputs": [
    {
     "name": "stdout",
     "output_type": "stream",
     "text": [
      "\n",
      "You take the food ration.\n",
      "\n",
      "Command?\n",
      "\n"
     ]
    }
   ],
   "source": [
    "inpt = 'take food ration\\n'\n",
    "msg, _ = asc.run_program(inpt, pause_on_in=True, pause_at_in=len(inpt)+1, verbose=False)\n",
    "print(msg)"
   ]
  },
  {
   "cell_type": "code",
   "execution_count": 163,
   "metadata": {},
   "outputs": [
    {
     "name": "stdout",
     "output_type": "stream",
     "text": [
      "\n",
      "\n",
      "\n",
      "== Pressure-Sensitive Floor ==\n",
      "Analyzing...\n",
      "\n",
      "Doors here lead:\n",
      "- north\n",
      "\n",
      "A loud, robotic voice says \"Alert! Droids on this ship are lighter than the detected value!\" and you are ejected back to the checkpoint.\n",
      "\n",
      "\n",
      "\n",
      "== Security Checkpoint ==\n",
      "In the next room, a pressure-sensitive floor will verify your identity.\n",
      "\n",
      "Doors here lead:\n",
      "- south\n",
      "- west\n",
      "\n",
      "Items here:\n",
      "- sand\n",
      "- coin\n",
      "- cake\n",
      "\n",
      "Command?\n",
      "\n"
     ]
    }
   ],
   "source": [
    "inpt = 'south\\n'\n",
    "msg, _ = asc.run_program(inpt, pause_on_in=True, pause_at_in=len(inpt)+1, verbose=False)\n",
    "print(msg)"
   ]
  },
  {
   "cell_type": "code",
   "execution_count": 164,
   "metadata": {},
   "outputs": [
    {
     "name": "stdout",
     "output_type": "stream",
     "text": [
      "\n",
      "You drop the ornament.\n",
      "\n",
      "Command?\n",
      "\n"
     ]
    }
   ],
   "source": [
    "inpt = 'drop ornament\\n'\n",
    "msg, _ = asc.run_program(inpt, pause_on_in=True, pause_at_in=len(inpt)+1, verbose=False)\n",
    "print(msg)"
   ]
  },
  {
   "cell_type": "code",
   "execution_count": 165,
   "metadata": {},
   "outputs": [
    {
     "name": "stdout",
     "output_type": "stream",
     "text": [
      "\n",
      "\n",
      "\n",
      "== Pressure-Sensitive Floor ==\n",
      "Analyzing...\n",
      "\n",
      "Doors here lead:\n",
      "- north\n",
      "\n",
      "A loud, robotic voice says \"Alert! Droids on this ship are heavier than the detected value!\" and you are ejected back to the checkpoint.\n",
      "\n",
      "\n",
      "\n",
      "== Security Checkpoint ==\n",
      "In the next room, a pressure-sensitive floor will verify your identity.\n",
      "\n",
      "Doors here lead:\n",
      "- south\n",
      "- west\n",
      "\n",
      "Items here:\n",
      "- sand\n",
      "- coin\n",
      "- ornament\n",
      "- cake\n",
      "\n",
      "Command?\n",
      "\n"
     ]
    }
   ],
   "source": [
    "inpt = 'south\\n'\n",
    "msg, _ = asc.run_program(inpt, pause_on_in=True, pause_at_in=len(inpt)+1, verbose=False)\n",
    "print(msg)"
   ]
  },
  {
   "cell_type": "code",
   "execution_count": 166,
   "metadata": {},
   "outputs": [
    {
     "name": "stdout",
     "output_type": "stream",
     "text": [
      "\n",
      "Items in your inventory:\n",
      "- jam\n",
      "- astrolabe\n",
      "- weather machine\n",
      "- food ration\n",
      "\n",
      "Command?\n",
      "\n"
     ]
    }
   ],
   "source": [
    "inpt = 'inv\\n'\n",
    "msg, _ = asc.run_program(inpt, pause_on_in=True, pause_at_in=len(inpt)+1, verbose=False)\n",
    "print(msg)"
   ]
  },
  {
   "cell_type": "code",
   "execution_count": 167,
   "metadata": {},
   "outputs": [
    {
     "name": "stdout",
     "output_type": "stream",
     "text": [
      "\n",
      "You drop the jam.\n",
      "\n",
      "Command?\n",
      "\n"
     ]
    }
   ],
   "source": [
    "inpt = 'drop jam\\n'\n",
    "msg, _ = asc.run_program(inpt, pause_on_in=True, pause_at_in=len(inpt)+1, verbose=False)\n",
    "print(msg)"
   ]
  },
  {
   "cell_type": "code",
   "execution_count": 168,
   "metadata": {},
   "outputs": [
    {
     "name": "stdout",
     "output_type": "stream",
     "text": [
      "\n",
      "Unrecognized command.\n",
      "\n",
      "Command?\n",
      "\n"
     ]
    }
   ],
   "source": [
    "inpt = 'grab ornament\\n'\n",
    "msg, _ = asc.run_program(inpt, pause_on_in=True, pause_at_in=len(inpt)+1, verbose=False)\n",
    "print(msg)"
   ]
  },
  {
   "cell_type": "code",
   "execution_count": 169,
   "metadata": {},
   "outputs": [
    {
     "name": "stdout",
     "output_type": "stream",
     "text": [
      "\n",
      "You take the ornament.\n",
      "\n",
      "Command?\n",
      "\n"
     ]
    }
   ],
   "source": [
    "inpt = 'take ornament\\n'\n",
    "msg, _ = asc.run_program(inpt, pause_on_in=True, pause_at_in=len(inpt)+1, verbose=False)\n",
    "print(msg)"
   ]
  },
  {
   "cell_type": "code",
   "execution_count": 170,
   "metadata": {},
   "outputs": [
    {
     "name": "stdout",
     "output_type": "stream",
     "text": [
      "\n",
      "\n",
      "\n",
      "== Pressure-Sensitive Floor ==\n",
      "Analyzing...\n",
      "\n",
      "Doors here lead:\n",
      "- north\n",
      "\n",
      "A loud, robotic voice says \"Analysis complete! You may proceed.\" and you enter the cockpit.\n",
      "Santa notices your small droid, looks puzzled for a moment, realizes what has happened, and radios your ship directly.\n",
      "\"Oh, hello! You should be able to get in by typing 4206594 on the keypad at the main airlock.\"\n",
      "\n"
     ]
    }
   ],
   "source": [
    "inpt = 'south\\n'\n",
    "msg, _ = asc.run_program(inpt, pause_on_in=True, pause_at_in=len(inpt)+1, verbose=False)\n",
    "print(msg)"
   ]
  },
  {
   "cell_type": "code",
   "execution_count": null,
   "metadata": {},
   "outputs": [],
   "source": []
  }
 ],
 "metadata": {
  "kernelspec": {
   "display_name": "Python 3",
   "language": "python",
   "name": "python3"
  },
  "language_info": {
   "codemirror_mode": {
    "name": "ipython",
    "version": 3
   },
   "file_extension": ".py",
   "mimetype": "text/x-python",
   "name": "python",
   "nbconvert_exporter": "python",
   "pygments_lexer": "ipython3",
   "version": "3.6.1"
  }
 },
 "nbformat": 4,
 "nbformat_minor": 2
}

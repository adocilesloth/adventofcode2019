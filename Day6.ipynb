{
 "cells": [
  {
   "cell_type": "code",
   "execution_count": 1,
   "metadata": {},
   "outputs": [],
   "source": [
    "import numpy as np"
   ]
  },
  {
   "cell_type": "code",
   "execution_count": 2,
   "metadata": {},
   "outputs": [],
   "source": [
    "#Load orbits and split into Nx2 array\n",
    "orbit_map = np.genfromtxt('day6_input.txt', dtype=np.str)\n",
    "orbits = []\n",
    "for orbit in orbit_map:\n",
    "    orbits.append(orbit.split(')'))\n",
    "orbits = np.array(orbits)"
   ]
  },
  {
   "cell_type": "code",
   "execution_count": 3,
   "metadata": {},
   "outputs": [],
   "source": [
    "def total_orbits(orbits):\n",
    "    '''Calculate total direct and indirect orbits in map\n",
    "       Follows the route to COM and counts transfers'''\n",
    "    direct_orbits = 0\n",
    "    indirect_orbits = 0\n",
    "    \n",
    "    for i in range(0, len(orbits)):\n",
    "        direct_orbits += 1   #Will also equal len(orbits)\n",
    "        planet = orbits[i,0] #Get first planet being orbited\n",
    "        if planet != 'COM':\n",
    "            while True:\n",
    "                nxt = np.where(orbits[:,1] == planet)[0][0]\n",
    "                planet = orbits[nxt,0] #Next planet in route\n",
    "                indirect_orbits += 1\n",
    "                if planet == 'COM':\n",
    "                    break\n",
    "                    \n",
    "    total_orbits = direct_orbits + indirect_orbits\n",
    "    return direct_orbits, indirect_orbits, total_orbits"
   ]
  },
  {
   "cell_type": "code",
   "execution_count": 4,
   "metadata": {},
   "outputs": [
    {
     "name": "stdout",
     "output_type": "stream",
     "text": [
      "Part 1 Solution: 194721\n"
     ]
    }
   ],
   "source": [
    "print('Part 1 Solution:', total_orbits(orbits)[2])"
   ]
  },
  {
   "cell_type": "code",
   "execution_count": 5,
   "metadata": {},
   "outputs": [],
   "source": [
    "def get_orbit_path(orbits, target):\n",
    "    '''Get path from  target to COM'''\n",
    "    path = []\n",
    "    i = np.where(orbits[:,1] == target)[0][0]\n",
    "    planet = orbits[i,0]\n",
    "    path.append(planet)\n",
    "    if planet != 'COM':\n",
    "        while True:\n",
    "            nxt = np.where(orbits[:,1] == planet)[0][0]\n",
    "            planet = orbits[nxt,0] #Next planet in route\n",
    "            path.append(planet)\n",
    "            if planet == 'COM':\n",
    "                break\n",
    "                \n",
    "    return np.array(path)\n",
    "\n",
    "def  minimum_transfers(orbits, target1, target2):\n",
    "    '''Get minimum orbit transfers to move from target1 to target  2\n",
    "       Returns minimum transfers or np.nan if route is not possible'''\n",
    "    path1 = get_orbit_path(orbits, target1)\n",
    "    path2 = get_orbit_path(orbits, target2)\n",
    "    \n",
    "    #Follow path1 until it intersects path2\n",
    "    for i in range(0, len(path1)):\n",
    "        if path1[i] in path2:\n",
    "            j = np.where(path2 == path1[i])[0][0]\n",
    "            return i+j\n",
    "    \n",
    "    return np.nan"
   ]
  },
  {
   "cell_type": "code",
   "execution_count": 6,
   "metadata": {},
   "outputs": [
    {
     "name": "stdout",
     "output_type": "stream",
     "text": [
      "Part 2 Solution: 316\n"
     ]
    }
   ],
   "source": [
    "print('Part 2 Solution:', minimum_transfers(orbits, 'YOU', 'SAN'))"
   ]
  },
  {
   "cell_type": "code",
   "execution_count": null,
   "metadata": {},
   "outputs": [],
   "source": []
  }
 ],
 "metadata": {
  "kernelspec": {
   "display_name": "Python 3",
   "language": "python",
   "name": "python3"
  },
  "language_info": {
   "codemirror_mode": {
    "name": "ipython",
    "version": 3
   },
   "file_extension": ".py",
   "mimetype": "text/x-python",
   "name": "python",
   "nbconvert_exporter": "python",
   "pygments_lexer": "ipython3",
   "version": "3.6.4"
  }
 },
 "nbformat": 4,
 "nbformat_minor": 2
}

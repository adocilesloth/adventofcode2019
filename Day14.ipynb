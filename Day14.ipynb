{
 "cells": [
  {
   "cell_type": "code",
   "execution_count": 1,
   "metadata": {},
   "outputs": [],
   "source": [
    "import numpy as np\n",
    "import copy"
   ]
  },
  {
   "cell_type": "code",
   "execution_count": 2,
   "metadata": {},
   "outputs": [],
   "source": [
    "data = np.genfromtxt('day14_input.txt', delimiter='\\n', dtype=np.str)\n",
    "\n",
    "reactions = [] #input at [:][0], output at [:][1]\n",
    "for j in range(0, len(data)):\n",
    "    inp, outp = data[j].split('=>')\n",
    "    inp = inp.split(',')\n",
    "    for i in range(0, len(inp)):\n",
    "        inp[i] = inp[i].split()\n",
    "        inp[i][0] = int(inp[i][0])\n",
    "\n",
    "    outp = outp.split()\n",
    "    outp[0] = int(outp[0])\n",
    "\n",
    "    reactions.append([inp, outp])"
   ]
  },
  {
   "cell_type": "code",
   "execution_count": 3,
   "metadata": {},
   "outputs": [],
   "source": [
    "def ore_for_fuel(target_fuel, reactions):\n",
    "    #Find fuel\n",
    "    for i in range(0, len(reactions)):\n",
    "        if reactions[i][1][1] == 'FUEL':\n",
    "            fuel = i\n",
    "            break\n",
    "\n",
    "    need = copy.deepcopy(reactions[fuel][0])\n",
    "    #Multiply FUEL components by amount of fuel wanted\n",
    "    for i in range(0, len(need)):\n",
    "        need[i][0] *= target_fuel\n",
    "    surplus = []\n",
    "\n",
    "    while True:\n",
    "        #find reaction\n",
    "        target = need[0][1]\n",
    "        for i in range(0, len(reactions)):\n",
    "            if reactions[i][1][1] == target:\n",
    "                idx = i\n",
    "                break\n",
    "\n",
    "        #find if surplus\n",
    "        in_surplus = False\n",
    "        surplus_idx = -1\n",
    "        extra = 0\n",
    "        for i in range(0, len(surplus)):\n",
    "            if surplus[i][1] == target:\n",
    "                in_surplus = True\n",
    "                surplus_idx = i\n",
    "                extra = surplus[i][0]\n",
    "                break\n",
    "\n",
    "        if need[0][0] > extra:\n",
    "            #find number of reactions needed\n",
    "            target_made = reactions[idx][1][0]\n",
    "            target_need = need[0][0]-extra\n",
    "            if in_surplus:\n",
    "                surplus.pop(surplus_idx)\n",
    "\n",
    "            mltp = target_need//target_made\n",
    "\n",
    "            #If excess, store it\n",
    "            if target_need % target_made != 0:\n",
    "                mltp += 1\n",
    "                extra = target_made - (target_need % target_made)\n",
    "                surplus.append([extra, target])\n",
    "\n",
    "            #add input to need list\n",
    "            for i in range(0, len(reactions[idx][0])):\n",
    "                in_need = False\n",
    "                for j in range(0, len(need)):\n",
    "                    if need[j][1] == reactions[idx][0][i][1]:\n",
    "                        need[j][0] += mltp*reactions[idx][0][i][0]\n",
    "                        in_need = True\n",
    "                        break\n",
    "                if not in_need:\n",
    "                    need.append([mltp*reactions[idx][0][i][0], reactions[idx][0][i][1]])\n",
    "        else:\n",
    "            #Use surplus\n",
    "            left = extra - need[0][0]\n",
    "            if left == 0:\n",
    "                surplus.pop(surplus_idx)\n",
    "            else:\n",
    "                surplus[surplus_idx][0] = left\n",
    "\n",
    "        #remove need[0]\n",
    "        need.pop(0)\n",
    "        #Move ORE to last position if in first\n",
    "        if need[0][1] == 'ORE' and len(need) > 0:\n",
    "            ore_entry = need[0]\n",
    "            need.pop(0)\n",
    "            need.append(ore_entry)\n",
    "\n",
    "        #Get ORE\n",
    "        if len(need) == 1 and need[0][1] == 'ORE':\n",
    "            return need[0][0]"
   ]
  },
  {
   "cell_type": "code",
   "execution_count": 4,
   "metadata": {},
   "outputs": [
    {
     "name": "stdout",
     "output_type": "stream",
     "text": [
      "Part 1 Solution: 1185296\n"
     ]
    }
   ],
   "source": [
    "ore_per_fuel = ore_for_fuel(1, reactions)\n",
    "print('Part 1 Solution:', ore_per_fuel)"
   ]
  },
  {
   "cell_type": "code",
   "execution_count": 5,
   "metadata": {},
   "outputs": [
    {
     "name": "stdout",
     "output_type": "stream",
     "text": [
      "Part 2 Solution: 1376631\n"
     ]
    }
   ],
   "source": [
    "avaliable_ore = 1000000000000\n",
    "ore_per_fuel = ore_for_fuel(1, reactions)\n",
    "min_fuel = avaliable_ore//ore_per_fuel\n",
    "max_fuel = min_fuel * 2\n",
    "\n",
    "#Binary Search\n",
    "while min_fuel <= max_fuel:\n",
    "    test_fuel = (min_fuel+max_fuel) // 2\n",
    "    if test_fuel == min_fuel:\n",
    "        break\n",
    "    test_ore = ore_for_fuel(test_fuel, reactions)\n",
    "        \n",
    "    if test_ore > avaliable_ore:\n",
    "        max_fuel = test_fuel\n",
    "    elif test_ore < avaliable_ore:\n",
    "        min_fuel = test_fuel\n",
    "    else:\n",
    "        min_fuel = test_fuel\n",
    "        break\n",
    "        \n",
    "print('Part 2 Solution:', min_fuel)"
   ]
  },
  {
   "cell_type": "code",
   "execution_count": null,
   "metadata": {},
   "outputs": [],
   "source": []
  }
 ],
 "metadata": {
  "kernelspec": {
   "display_name": "Python 3",
   "language": "python",
   "name": "python3"
  },
  "language_info": {
   "codemirror_mode": {
    "name": "ipython",
    "version": 3
   },
   "file_extension": ".py",
   "mimetype": "text/x-python",
   "name": "python",
   "nbconvert_exporter": "python",
   "pygments_lexer": "ipython3",
   "version": "3.6.4"
  }
 },
 "nbformat": 4,
 "nbformat_minor": 2
}

{
 "cells": [
  {
   "cell_type": "code",
   "execution_count": 1,
   "metadata": {},
   "outputs": [],
   "source": [
    "import numpy as np\n",
    "from intcode_computer import intcode_computer\n",
    "from letters_and_numbers import characters\n",
    "\n",
    "import matplotlib.pyplot as plt\n",
    "%matplotlib inline"
   ]
  },
  {
   "cell_type": "code",
   "execution_count": 2,
   "metadata": {},
   "outputs": [],
   "source": [
    "cpu = intcode_computer(11)"
   ]
  },
  {
   "cell_type": "code",
   "execution_count": 3,
   "metadata": {},
   "outputs": [
    {
     "name": "stdout",
     "output_type": "stream",
     "text": [
      "Part 1 Solution: 249\n"
     ]
    }
   ],
   "source": [
    "position = [0,0]\n",
    "direction = [1,0]\n",
    "hull = [[0,0,1]]\n",
    "\n",
    "while cpu.get_complete() == False:\n",
    "    in_list = np.where(np.logical_and(np.array(hull)[:,0] == position[0], np.array(hull)[:,1] == position[1]))[0]\n",
    "    if len(in_list) > 0:\n",
    "        inpt = hull[in_list[0]][2]\n",
    "    else:\n",
    "        inpt = 0\n",
    "    \n",
    "    #Get colour\n",
    "    colour = cpu.run_program(inpt, pause_on_out=True, verbose=False)\n",
    "    if len(colour) == 0:\n",
    "           break   \n",
    "    if len(in_list) > 0:\n",
    "        hull[in_list[0]][2] = colour[0]\n",
    "    else:\n",
    "        hull.append([position[0], position[1], colour[0]])\n",
    "    \n",
    "    #Get turn\n",
    "    turn = cpu.run_program(pause_on_out=True, verbose=False)\n",
    "    if turn[0] == 0:\n",
    "        #turn left 90\n",
    "        if direction[0] == 1:\n",
    "            direction[0] = 0\n",
    "            direction[1] = -1\n",
    "        elif direction[0] == -1:\n",
    "            direction[0] = 0\n",
    "            direction[1] = 1\n",
    "        elif direction[1] == 1:\n",
    "            direction[0] = 1\n",
    "            direction[1] = 0\n",
    "        elif direction[1] ==  -1:\n",
    "            direction[0] = -1\n",
    "            direction[1] = 0\n",
    "        else:\n",
    "            print('ERROR')\n",
    "    elif turn[0] == 1:\n",
    "        #turn right 90\n",
    "        if direction[0] == 1:\n",
    "            direction[0] = 0\n",
    "            direction[1] = 1\n",
    "        elif direction[0] == -1:\n",
    "            direction[0] = 0\n",
    "            direction[1] = -1\n",
    "        elif direction[1] == 1:\n",
    "            direction[0] = -1\n",
    "            direction[1] = 0\n",
    "        elif direction[1] ==  -1:\n",
    "            direction[0] = 1\n",
    "            direction[1] = 0\n",
    "        else:\n",
    "            print('ERROR')\n",
    "            \n",
    "    #Move\n",
    "    position[0] += direction[0]\n",
    "    position[1] += direction[1]\n",
    "    \n",
    "print('Part 1 Solution:', len(hull))"
   ]
  },
  {
   "cell_type": "code",
   "execution_count": 4,
   "metadata": {},
   "outputs": [
    {
     "data": {
      "image/png": "[encoded data removed]",
      "text/plain": [
       "<Figure size 432x288 with 1 Axes>"
      ]
     },
     "metadata": {},
     "output_type": "display_data"
    },
    {
     "name": "stdout",
     "output_type": "stream",
     "text": [
      "WARNING: Width is not a multiple of 5. Clipping\n",
      "Part 2 Solution: EGHKGJER\n",
      "\n"
     ]
    }
   ],
   "source": [
    "hull = np.array(hull)\n",
    "\n",
    "hull_x = abs(np.max(hull[:,0]) - np.min(hull[:,0]))+1\n",
    "hull_y = abs(np.max(hull[:,1]) - np.min(hull[:,1]))+1\n",
    "\n",
    "hull_img = np.zeros((hull_x, hull_y))\n",
    "for i in range(0, len(hull)):\n",
    "    x = 5 - (hull[i,0]+5)\n",
    "    y = hull[i,1]\n",
    "    hull_img[x,y] = hull[i,2]\n",
    "    \n",
    "plt.imshow(hull_img)\n",
    "plt.show()\n",
    "\n",
    "lan = characters()\n",
    "rid = lan.find_characters(hull_img, x_offset=1)\n",
    "print('Part 2 Solution:', rid)"
   ]
  }
 ],
 "metadata": {
  "kernelspec": {
   "display_name": "Python 3",
   "language": "python",
   "name": "python3"
  },
  "language_info": {
   "codemirror_mode": {
    "name": "ipython",
    "version": 3
   },
   "file_extension": ".py",
   "mimetype": "text/x-python",
   "name": "python",
   "nbconvert_exporter": "python",
   "pygments_lexer": "ipython3",
   "version": "3.6.4"
  }
 },
 "nbformat": 4,
 "nbformat_minor": 2
}

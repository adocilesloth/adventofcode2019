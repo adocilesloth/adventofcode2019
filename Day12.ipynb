{
 "cells": [
  {
   "cell_type": "code",
   "execution_count": 1,
   "metadata": {},
   "outputs": [],
   "source": [
    "import numpy as np\n",
    "import re\n",
    "from math import gcd"
   ]
  },
  {
   "cell_type": "code",
   "execution_count": 2,
   "metadata": {},
   "outputs": [],
   "source": [
    "data = np.genfromtxt('day12_input.txt', dtype=np.str, delimiter='\\n')\n",
    "moons = []\n",
    "for i in range(0, len(data)):\n",
    "    m = re.match(r'<x=(-?\\d+), y=(-?\\d+), z=(-?\\d+)>', data[i])\n",
    "    moons.append([[int(x) for x in m.groups()],[0,0,0]])\n",
    "origin = np.array(moons)\n",
    "moons = np.array(moons)"
   ]
  },
  {
   "cell_type": "code",
   "execution_count": 3,
   "metadata": {},
   "outputs": [],
   "source": [
    "test_data = ['<x=-1, y=0, z=2>',\n",
    "             '<x=2, y=-10, z=-7>',\n",
    "             '<x=4, y=-8, z=8>',\n",
    "             '<x=3, y=5, z=-1>']\n",
    "moons = []\n",
    "for i in range(0, len(test_data)):\n",
    "    m = re.match(r'<x=(-?\\d+), y=(-?\\d+), z=(-?\\d+)>', test_data[i])\n",
    "    moons.append([[int(x) for x in m.groups()],[0,0,0]])\n",
    "origin = np.array(moons)\n",
    "moons = np.array(moons)"
   ]
  },
  {
   "cell_type": "code",
   "execution_count": 4,
   "metadata": {},
   "outputs": [],
   "source": [
    "test_data = ['<x=-8, y=-10, z=0>',\n",
    "             '<x=5, y=5, z=10>',\n",
    "             '<x=2, y=-7, z=3>',\n",
    "             '<x=9, y=-8, z=-3>']\n",
    "moons = []\n",
    "for i in range(0, len(test_data)):\n",
    "    m = re.match(r'<x=(-?\\d+), y=(-?\\d+), z=(-?\\d+)>', test_data[i])\n",
    "    moons.append([[int(x) for x in m.groups()],[0,0,0]])\n",
    "origin = np.array(moons)\n",
    "moons = np.array(moons)"
   ]
  },
  {
   "cell_type": "code",
   "execution_count": 5,
   "metadata": {},
   "outputs": [
    {
     "name": "stdout",
     "output_type": "stream",
     "text": [
      "Part 1 Solution: 14645\n"
     ]
    }
   ],
   "source": [
    "for i in range(0, 1000):\n",
    "    #Update velocity\n",
    "    for j in range(0, 4):\n",
    "        for k in range(0, 4):\n",
    "            if j == k:\n",
    "                continue\n",
    "            moons[j,1] += moons[j,0]<moons[k,0]\n",
    "            moons[j,1] -= moons[j,0]>moons[k,0]\n",
    "    #Update position\n",
    "    for j in range(0, 4):\n",
    "        moons[j,0] += moons[j,1]\n",
    "    \n",
    "pe = []\n",
    "ke = []\n",
    "te = []\n",
    "for j in range(0, 4):\n",
    "    pe.append(np.sum(np.abs(moons[j,0])))\n",
    "    ke.append(np.sum(np.abs(moons[j,1])))\n",
    "    te.append(pe[-1]*ke[-1])\n",
    "print('Part 1 Solution:', np.sum(te))"
   ]
  },
  {
   "cell_type": "code",
   "execution_count": 6,
   "metadata": {},
   "outputs": [
    {
     "name": "stdout",
     "output_type": "stream",
     "text": [
      "[1028 4898 3702]\n",
      "Part 2 Solution: 4660025772\n"
     ]
    }
   ],
   "source": [
    "i = 0\n",
    "loop_time = np.array([0,0,0], dtype=np.int64)\n",
    "while True:\n",
    "    i += 1\n",
    "    #Update velocity\n",
    "    for j in range(0, 4):\n",
    "        for k in range(0, 4):\n",
    "            if j == k:\n",
    "                continue\n",
    "            moons[j,1] += moons[j,0]<moons[k,0]\n",
    "            moons[j,1] -= moons[j,0]>moons[k,0]\n",
    "    #Update position\n",
    "    for j in range(0, 4):\n",
    "        moons[j,0] += moons[j,1]\n",
    "    \n",
    "    #Check x, y, z\n",
    "    if np.array_equal(moons[:,0,0], origin[:,0,0]) and np.array_equal(moons[:,1,0], origin[:,1,0]) and loop_time[0] == 0:\n",
    "        loop_time[0] = i\n",
    "    if np.array_equal(moons[:,0,1], origin[:,0,1]) and np.array_equal(moons[:,1,1], origin[:,1,1]) and loop_time[1] == 0:\n",
    "        loop_time[1] = i\n",
    "    if np.array_equal(moons[:,0,2], origin[:,0,2]) and np.array_equal(moons[:,1,2], origin[:,1,2]) and loop_time[2] == 0:\n",
    "        loop_time[2] = i\n",
    "     \n",
    "    if 0 not in loop_time:\n",
    "        break\n",
    "        \n",
    "print(loop_time)\n",
    "repeat_time = (loop_time[0] * loop_time[1]) // gcd(loop_time[0], loop_time[1])\n",
    "repeat_time = (repeat_time * loop_time[2]) // gcd(repeat_time, loop_time[2])\n",
    "print('Part 2 Solution:', repeat_time)"
   ]
  },
  {
   "cell_type": "code",
   "execution_count": 7,
   "metadata": {},
   "outputs": [
    {
     "name": "stdout",
     "output_type": "stream",
     "text": [
      "4533099.0\n",
      "951414.0\n",
      "1258786.0\n"
     ]
    }
   ],
   "source": [
    "print(repeat_time/loop_time[0])\n",
    "print(repeat_time/loop_time[1])\n",
    "print(repeat_time/loop_time[2])"
   ]
  },
  {
   "cell_type": "code",
   "execution_count": 8,
   "metadata": {},
   "outputs": [
    {
     "name": "stdout",
     "output_type": "stream",
     "text": [
      "4559119.575875486\n",
      "956875.2396896692\n",
      "1266011.5948136142\n"
     ]
    }
   ],
   "source": [
    "print(4686774924/loop_time[0])\n",
    "print(4686774924/loop_time[1])\n",
    "print(4686774924/loop_time[2])"
   ]
  }
 ],
 "metadata": {
  "kernelspec": {
   "display_name": "Python 3",
   "language": "python",
   "name": "python3"
  },
  "language_info": {
   "codemirror_mode": {
    "name": "ipython",
    "version": 3
   },
   "file_extension": ".py",
   "mimetype": "text/x-python",
   "name": "python",
   "nbconvert_exporter": "python",
   "pygments_lexer": "ipython3",
   "version": "3.6.4"
  }
 },
 "nbformat": 4,
 "nbformat_minor": 2
}

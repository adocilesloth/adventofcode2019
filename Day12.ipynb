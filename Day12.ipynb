{
 "cells": [
  {
   "cell_type": "code",
   "execution_count": 1,
   "metadata": {},
   "outputs": [],
   "source": [
    "import numpy as np\n",
    "import re"
   ]
  },
  {
   "cell_type": "code",
   "execution_count": 2,
   "metadata": {},
   "outputs": [],
   "source": [
    "def load_moons():\n",
    "    data = np.genfromtxt('day12_input.txt', dtype=np.str, delimiter='\\n')\n",
    "    moons = []\n",
    "    for i in range(0, len(data)):\n",
    "        m = re.match(r'<x=(-?\\d+), y=(-?\\d+), z=(-?\\d+)>', data[i])\n",
    "        moons.append([[int(x) for x in m.groups()],[0,0,0]])\n",
    "    origin = np.array(moons)\n",
    "    moons = np.array(moons)\n",
    "    return moons, origin"
   ]
  },
  {
   "cell_type": "code",
   "execution_count": 3,
   "metadata": {},
   "outputs": [
    {
     "name": "stdout",
     "output_type": "stream",
     "text": [
      "Part 1 Solution: 8044\n"
     ]
    }
   ],
   "source": [
    "moons, _ = load_moons()\n",
    "for i in range(0, 1000):\n",
    "    #Update velocity\n",
    "    for j in range(0, 4):\n",
    "        for k in range(0, 4):\n",
    "            if j == k:\n",
    "                continue\n",
    "            moons[j,1] += moons[j,0]<moons[k,0]\n",
    "            moons[j,1] -= moons[j,0]>moons[k,0]\n",
    "    #Update position\n",
    "    for j in range(0, 4):\n",
    "        moons[j,0] += moons[j,1]\n",
    "    \n",
    "pe = []\n",
    "ke = []\n",
    "te = []\n",
    "for j in range(0, 4):\n",
    "    pe.append(np.sum(np.abs(moons[j,0])))\n",
    "    ke.append(np.sum(np.abs(moons[j,1])))\n",
    "    te.append(pe[-1]*ke[-1])\n",
    "print('Part 1 Solution:', np.sum(te))"
   ]
  },
  {
   "cell_type": "code",
   "execution_count": 4,
   "metadata": {},
   "outputs": [
    {
     "name": "stdout",
     "output_type": "stream",
     "text": [
      "[268296 231614  23326]\n",
      "Part 2 Solution: 362375881472136\n"
     ]
    }
   ],
   "source": [
    "moons, origin = load_moons()\n",
    "i = 0\n",
    "loop = np.array([0,0,0], dtype=np.int64)\n",
    "while True:\n",
    "    i += 1\n",
    "    #Update velocity\n",
    "    for j in range(0, 4):\n",
    "        for k in range(0, 4):\n",
    "            if j == k:\n",
    "                continue\n",
    "            moons[j,1] += moons[j,0]<moons[k,0]\n",
    "            moons[j,1] -= moons[j,0]>moons[k,0]\n",
    "    #Update position\n",
    "    for j in range(0, 4):\n",
    "        moons[j,0] += moons[j,1]\n",
    "    \n",
    "    #Check x, y, z\n",
    "    for j in range(0, 3):\n",
    "        if np.array_equal(moons[:,0,j],origin[:,0,j]) and np.array_equal(moons[:,1,j],origin[:,1,j]) and loop[j] == 0:\n",
    "            loop[j] = i\n",
    "     \n",
    "    if 0 not in loop:\n",
    "        break\n",
    "        \n",
    "print(loop)\n",
    "cycle = np.lcm(loop[0], loop[1])\n",
    "cycle = np.lcm(cycle, loop[2])\n",
    "print('Part 2 Solution:', cycle)"
   ]
  },
  {
   "cell_type": "code",
   "execution_count": null,
   "metadata": {},
   "outputs": [],
   "source": []
  }
 ],
 "metadata": {
  "kernelspec": {
   "display_name": "Python 3",
   "language": "python",
   "name": "python3"
  },
  "language_info": {
   "codemirror_mode": {
    "name": "ipython",
    "version": 3
   },
   "file_extension": ".py",
   "mimetype": "text/x-python",
   "name": "python",
   "nbconvert_exporter": "python",
   "pygments_lexer": "ipython3",
   "version": "3.6.1"
  }
 },
 "nbformat": 4,
 "nbformat_minor": 2
}

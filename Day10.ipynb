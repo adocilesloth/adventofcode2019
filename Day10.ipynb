{
 "cells": [
  {
   "cell_type": "code",
   "execution_count": 1,
   "metadata": {},
   "outputs": [],
   "source": [
    "import numpy as np\n",
    "from math import atan, degrees"
   ]
  },
  {
   "cell_type": "code",
   "execution_count": 2,
   "metadata": {},
   "outputs": [],
   "source": [
    "data = np.genfromtxt('day10_input.txt', dtype=np.str,comments=None, delimiter='\\n')\n",
    "#data = np.genfromtxt('day10_test1.txt', dtype=np.str,comments=None, delimiter='\\n')\n",
    "asteroids = [] #stored as [y,x]\n",
    "for i in range(0, len(data)):\n",
    "    for j in range(0, len(data[i])):\n",
    "        if data[i][j] == '#':\n",
    "            asteroids.append([i,j])\n",
    "asteroids = np.array(asteroids)"
   ]
  },
  {
   "cell_type": "code",
   "execution_count": 3,
   "metadata": {},
   "outputs": [
    {
     "name": "stdout",
     "output_type": "stream",
     "text": [
      "[36 26]\n",
      "Part 1 Solution: 347\n"
     ]
    }
   ],
   "source": [
    "can_see = []\n",
    "for i in range(0, len(asteroids)):\n",
    "    angles = []\n",
    "    for j in range(0, len(asteroids)):\n",
    "        if i == j:\n",
    "            continue\n",
    "        dy = asteroids[i,0] - asteroids[j,0]\n",
    "        dx = asteroids[j,1] - asteroids[i,1]\n",
    "        \n",
    "        if dx > 0 and dy > 0:\n",
    "            theta = degrees(atan(dx/dy))\n",
    "        elif dx > 0 and dy < 0:\n",
    "            theta = 90. + degrees(atan(-dy/dx))\n",
    "        elif dx < 0 and dy < 0:\n",
    "            theta = 180. + degrees(atan(dx/dy))\n",
    "        elif dx < 0 and dy > 0:\n",
    "            theta = 270. + degrees(atan(-dy/dx))\n",
    "        elif dx == 0 and dy > 0:\n",
    "            theta = 0.\n",
    "        elif dx > 0 and dy == 0:\n",
    "            theta = 90.\n",
    "        elif dx == 0 and dy < 0:\n",
    "            theta = 180.\n",
    "        elif dx < 0 and dy == 0:\n",
    "            theta = 270.\n",
    "        else:\n",
    "            print(i,j,'broken')\n",
    "            break\n",
    "            \n",
    "        if theta not in angles:\n",
    "            angles.append(theta)\n",
    "    can_see.append(len(angles))\n",
    "print(asteroids[np.argmax(can_see)])\n",
    "best = np.max(can_see)\n",
    "print('Part 1 Solution:', best)"
   ]
  },
  {
   "cell_type": "code",
   "execution_count": 4,
   "metadata": {},
   "outputs": [
    {
     "name": "stdout",
     "output_type": "stream",
     "text": [
      "[36 26]\n",
      "Part 2 Solution: 829\n"
     ]
    }
   ],
   "source": [
    "host_id = np.argmax(can_see)\n",
    "\n",
    "i = host_id\n",
    "print(asteroids[i])\n",
    "angles = []\n",
    "position = []\n",
    "for j in range(0, len(asteroids)):\n",
    "    if i == j:\n",
    "        continue\n",
    "    dy = asteroids[i,0] - asteroids[j,0]\n",
    "    dx = asteroids[j,1] - asteroids[i,1]\n",
    "\n",
    "    if dx > 0 and dy > 0:\n",
    "        theta = degrees(atan(dx/dy))\n",
    "    elif dx > 0 and dy < 0:\n",
    "        theta = 90. + degrees(atan(-dy/dx))\n",
    "    elif dx < 0 and dy < 0:\n",
    "        theta = 180. + degrees(atan(dx/dy))\n",
    "    elif dx < 0 and dy > 0:\n",
    "        theta = 270. + degrees(atan(-dy/dx))\n",
    "    elif dx == 0 and dy > 0:\n",
    "        theta = 0.\n",
    "    elif dx > 0 and dy == 0:\n",
    "        theta = 90.\n",
    "    elif dx == 0 and dy < 0:\n",
    "        theta = 180.\n",
    "    elif dx < 0 and dy == 0:\n",
    "        theta = 270.\n",
    "    else:\n",
    "        print(i,j,'broken')\n",
    "        break\n",
    "        \n",
    "    if theta not in angles:\n",
    "        angles.append(theta)\n",
    "    position.append([theta, np.sqrt(dx**2+dy**2), j])\n",
    "    \n",
    "angles = np.sort(np.array(angles))\n",
    "position.sort(key=lambda x: (x[0],x[1]))\n",
    "position = np.array(position)\n",
    "\n",
    "killed = []\n",
    "while len(position) > 0:\n",
    "    for angle in angles:\n",
    "        at_ang = np.where(position[:,0] == angle)[0]\n",
    "        if len(at_ang) == 0:\n",
    "            continue\n",
    "        np.sort(at_ang)\n",
    "        killed.append(int(position[at_ang[0],2]))\n",
    "        position = np.delete(position,at_ang[0],0)\n",
    "        if len(position) == 0:\n",
    "            break\n",
    "\n",
    "id_200 = killed[199]\n",
    "solution = (asteroids[id_200,1]*100)+asteroids[id_200,0]\n",
    "print('Part 2 Solution:', solution)"
   ]
  },
  {
   "cell_type": "code",
   "execution_count": null,
   "metadata": {},
   "outputs": [],
   "source": []
  }
 ],
 "metadata": {
  "kernelspec": {
   "display_name": "Python 3",
   "language": "python",
   "name": "python3"
  },
  "language_info": {
   "codemirror_mode": {
    "name": "ipython",
    "version": 3
   },
   "file_extension": ".py",
   "mimetype": "text/x-python",
   "name": "python",
   "nbconvert_exporter": "python",
   "pygments_lexer": "ipython3",
   "version": "3.6.1"
  }
 },
 "nbformat": 4,
 "nbformat_minor": 2
}

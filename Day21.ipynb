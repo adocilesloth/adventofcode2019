{
 "cells": [
  {
   "cell_type": "code",
   "execution_count": 1,
   "metadata": {},
   "outputs": [],
   "source": [
    "import numpy as np\n",
    "from intcode_computer import intcode_computer"
   ]
  },
  {
   "cell_type": "code",
   "execution_count": 2,
   "metadata": {},
   "outputs": [
    {
     "name": "stdout",
     "output_type": "stream",
     "text": [
      "Part 1 Solution: 19362259\n"
     ]
    }
   ],
   "source": [
    "cpu = intcode_computer(21)\n",
    "cmd = \"\"\"NOT A J\n",
    "       NOT B T\n",
    "       OR T J\n",
    "       NOT C T\n",
    "       OR T J\n",
    "       AND D J\n",
    "       WALK\\n\"\"\"\n",
    "inpt = []\n",
    "for char in cmd:\n",
    "    inpt.append(ord(char))\n",
    "output = cpu.run_program(inpt, verbose=False)\n",
    "print('Part 1 Solution:', output[-1])"
   ]
  },
  {
   "cell_type": "code",
   "execution_count": 3,
   "metadata": {},
   "outputs": [
    {
     "name": "stdout",
     "output_type": "stream",
     "text": [
      "Part 2 Solution: 1141066762\n"
     ]
    }
   ],
   "source": [
    "cpu.reset_memory()\n",
    "cmd = \"\"\"NOT A J\n",
    "       NOT B T\n",
    "       OR T J\n",
    "       NOT C T\n",
    "       OR T J\n",
    "       AND D J\n",
    "       NOT E T\n",
    "       NOT T T\n",
    "       OR H T\n",
    "       AND T J\n",
    "       RUN\\n\"\"\"\n",
    "inpt = []\n",
    "for char in cmd:\n",
    "    inpt.append(ord(char))\n",
    "output = cpu.run_program(inpt, verbose=False)\n",
    "print('Part 2 Solution:', output[-1])"
   ]
  },
  {
   "cell_type": "code",
   "execution_count": null,
   "metadata": {},
   "outputs": [],
   "source": []
  }
 ],
 "metadata": {
  "kernelspec": {
   "display_name": "Python 3",
   "language": "python",
   "name": "python3"
  },
  "language_info": {
   "codemirror_mode": {
    "name": "ipython",
    "version": 3
   },
   "file_extension": ".py",
   "mimetype": "text/x-python",
   "name": "python",
   "nbconvert_exporter": "python",
   "pygments_lexer": "ipython3",
   "version": "3.6.1"
  }
 },
 "nbformat": 4,
 "nbformat_minor": 2
}
